{
 "cells": [
  {
   "cell_type": "code",
<<<<<<< HEAD
   "execution_count": 37,
=======
   "execution_count": null,
>>>>>>> put all defs in utils
   "id": "0ce542b4",
   "metadata": {},
   "outputs": [],
   "source": [
    "import os\n",
    "import rasterio\n",
    "import requests\n",
    "import numpy as np\n",
    "import glob\n",
    "from rasterio.enums import Resampling\n",
    "from rasterio.warp import reproject\n",
    "from rasterio.mask import mask\n",
    "from shapely.geometry import box\n",
    "import xarray as xr\n",
    "from datetime import datetime, timedelta\n",
    "import matplotlib.pyplot as plt\n",
    "import rasterio\n",
    "import os\n",
    "from osgeo import gdal\n",
    "import leafmap\n",
    "import rasterio.warp\n",
    "import pyproj\n",
    "import geopandas as gpd\n",
    "from shapely.geometry import Polygon\n",
    "import pandas as pd"
   ]
  },
  {
   "cell_type": "code",
<<<<<<< HEAD
   "execution_count": 46,
=======
   "execution_count": 2,
>>>>>>> put all defs in utils
   "id": "758b05c0",
   "metadata": {},
   "outputs": [],
   "source": [
    "# Utilities\n",
    "import os\n",
    "import datetime\n",
    "import numpy as np\n",
    "import matplotlib.pyplot as plt\n",
    "import pandas as pd\n",
    "import requests\n",
    "import getpass\n",
    "\n",
    "from sentinelhub import (SHConfig, DataCollection, SentinelHubCatalog, SentinelHubRequest, BBox, bbox_to_dimensions, CRS, MimeType, Geometry)\n",
    "\n",
<<<<<<< HEAD
    "from utilities import plot_image\n",
=======
    "#from utilities import plot_image\n",
>>>>>>> put all defs in utils
    "\n",
    "#from create_index import create_nbr"
   ]
  },
  {
   "cell_type": "code",
<<<<<<< HEAD
   "execution_count": 20,
=======
   "execution_count": 3,
>>>>>>> put all defs in utils
   "id": "0adba4ed",
   "metadata": {},
   "outputs": [],
   "source": [
    "def get_access_token(username: str, password: str) -> str:\n",
    "    data = {\n",
    "        \"client_id\": \"cdse-public\",\n",
    "        \"username\": \"valekan100@gmail.com\",\n",
    "        \"password\": \"tr3pl8f154vaL!\",\n",
    "        \"grant_type\": \"password\",\n",
    "    }\n",
    "    try:\n",
    "        r = requests.post(\n",
    "            \"https://identity.dataspace.copernicus.eu/auth/realms/CDSE/protocol/openid-connect/token\",\n",
    "            data=data,\n",
    "        )\n",
    "        r.raise_for_status()\n",
    "    except Exception as e:\n",
    "        raise Exception(\n",
    "            f\"Access token creation failed. Reponse from the server was: {r.json()}\"\n",
    "        )\n",
    "    return r.json()[\"access_token\"]\n",
    "\n",
    "\n",
    "access_token = get_access_token(\"USERNAME\", \"PASSWORD\")"
   ]
  },
  {
   "cell_type": "markdown",
   "id": "9e5472ce",
   "metadata": {},
   "source": [
    "1) Check if we can filter L2A <br>\n",
    "2) New column to write the Tile <br>\n",
    "3) Unzip the new downloaded zip"
   ]
  },
  {
   "cell_type": "code",
   "execution_count": 21,
   "id": "c7a2df83",
   "metadata": {},
   "outputs": [],
   "source": [
    "#json = requests.get(f\"https://catalogue.dataspace.copernicus.eu/odata/v1/Products?$filter=contains(Name,'S2A') and ContentDate/Start gt 2022-05-03T00:00:00.000Z and ContentDate/Start lt 2022-05-21T00:00:00.000Z\").json()\n",
    "#products = pd.DataFrame.from_dict(json['value'])"
   ]
  },
  {
   "cell_type": "code",
   "execution_count": 22,
   "id": "0db2b7b9",
   "metadata": {},
   "outputs": [],
   "source": [
    "products['tile'] = products.Name.apply(lambda x: x.split('_')[5][1:])"
   ]
  },
  {
   "cell_type": "code",
   "execution_count": 23,
   "id": "2381329d",
   "metadata": {},
   "outputs": [],
   "source": [
    "products['level'] = products.S3Path.apply(lambda x: x.split('/')[4])\n",
    "products = products[products.level == 'L2A']"
   ]
  },
  {
   "cell_type": "code",
   "execution_count": 24,
   "id": "0c8f9846",
   "metadata": {},
   "outputs": [],
   "source": [
    "products['date'] = products.ContentDate.apply(lambda x: x['Start'])"
   ]
  },
  {
   "cell_type": "code",
   "execution_count": 25,
   "id": "5a32a47d",
   "metadata": {},
   "outputs": [],
   "source": [
    "products_sorted  = products.sort_values('date', ascending=True).reset_index()"
   ]
  },
  {
   "cell_type": "code",
   "execution_count": 26,
   "id": "2253e1d2",
   "metadata": {},
   "outputs": [],
   "source": [
    "pre_id = products_sorted.loc[0].Id\n",
    "pre_tile = products_sorted.loc[0].tile\n",
    "pre_name = products_sorted.loc[0].Name"
   ]
  },
  {
   "cell_type": "code",
   "execution_count": 27,
   "id": "235a584b",
   "metadata": {},
   "outputs": [
    {
     "data": {
      "text/plain": [
       "'S2B_MSIL2A_20220502T085549_N0400_R007_T35SLA_20220502T112209.SAFE'"
      ]
     },
     "execution_count": 27,
     "metadata": {},
     "output_type": "execute_result"
    }
   ],
   "source": [
    "pre_name"
   ]
  },
  {
   "cell_type": "code",
   "execution_count": 28,
   "id": "a2e071c9",
   "metadata": {},
   "outputs": [],
   "source": [
    "post_products_sorted = products_sorted[products_sorted.tile == pre_tile]"
   ]
  },
  {
   "cell_type": "code",
   "execution_count": 29,
   "id": "35d41205",
   "metadata": {},
   "outputs": [],
   "source": [
    "post_id = post_products_sorted.loc[post_products_sorted.index[-1]].Id\n",
    "post_name = products_sorted.loc[post_products_sorted.index[-1]].Name"
   ]
  },
  {
   "cell_type": "code",
   "execution_count": 30,
   "id": "bb4d9bd5",
   "metadata": {},
   "outputs": [
    {
     "data": {
      "text/plain": [
       "'S2B_MSIL2A_20220601T085559_N0400_R007_T35SLA_20220601T120802.SAFE'"
      ]
     },
     "execution_count": 30,
     "metadata": {},
     "output_type": "execute_result"
    }
   ],
   "source": [
    "post_name"
   ]
  },
  {
   "cell_type": "code",
   "execution_count": 18,
   "id": "fe18dca1",
   "metadata": {},
   "outputs": [
    {
     "name": "stdout",
     "output_type": "stream",
     "text": [
      "zip has been deleted\n",
      "test_36.3942_25.7614/S2B_MSIL2A_20220502T085549_N0400_R007_T35SLA_20220502T112209.SAFE.zip\n",
      "SAFE dir: test_36.3942_25.7614/S2B_MSIL2A_20220502T085549_N0400_R007_T35SLA_20220502T112209.SAFE\n",
      "zip has been deleted\n",
      "test_36.3942_25.7614/S2B_MSIL2A_20220601T085559_N0400_R007_T35SLA_20220601T120802.SAFE.zip\n",
      "SAFE dir: test_36.3942_25.7614/S2B_MSIL2A_20220601T085559_N0400_R007_T35SLA_20220601T120802.SAFE\n"
     ]
    },
    {
     "data": {
      "text/plain": [
       "([], [], [], [], [])"
      ]
     },
     "execution_count": 18,
     "metadata": {},
     "output_type": "execute_result"
    }
   ],
   "source": [
    "#download_cart_sentinel(pre_id,output_dir,pre_name,access_token)\n",
    "#download_cart_sentinel(post_id,output_dir,post_name, access_token)"
   ]
  },
  {
   "cell_type": "code",
   "execution_count": null,
   "id": "1cdf47fe",
   "metadata": {},
   "outputs": [],
   "source": [
    "#pre_id,output_dir,pre_name,access_token"
   ]
  },
  {
   "cell_type": "code",
   "execution_count": 39,
   "id": "0e9d492b",
   "metadata": {},
   "outputs": [],
   "source": [
    "def download_cart_sentinel(image_id,output_dir,name,access_token):\n",
    "    safe_dir = os.path.join(output_dir, name)\n",
    "    if os.path.exists(safe_dir):\n",
    "        print(f\"The image {image_id} is already downloaded.\")\n",
    "    else:\n",
    "        url = f\"https://zipper.dataspace.copernicus.eu/odata/v1/Products({image_id})/$value\"\n",
    "    \n",
    "        headers = {\"Authorization\": f\"Bearer {access_token}\"}\n",
    "    \n",
    "        session = requests.Session()\n",
    "        session.headers.update(headers)\n",
    "        response = session.get(url, headers=headers, stream=True)\n",
    "    \n",
    "        with open(os.path.join(output_dir,name+'.zip'), \"wb\") as file:\n",
    "            for chunk in response.iter_content(chunk_size=8192):\n",
    "                if chunk:\n",
    "                    file.write(chunk)\n",
    "        unzip_dir = os.path.join(output_dir, name+'.zip')   \n",
    "        try:\n",
    "            #os.makedirs(unzip_dir, exist_ok=True)\n",
    "            os.system(f'unzip {unzip_dir} -d {output_dir}')\n",
    "            os.remove(unzip_dir)\n",
    "        except:\n",
    "            print('zip has been deleted')\n",
    "            print(unzip_dir)\n",
    "    print('SAFE dir:',safe_dir)\n",
    "    band8_path_pattern = os.path.join(safe_dir, 'GRANULE', '*', 'IMG_DATA','*', '*_B08*.jp2')\n",
    "    band12_path_pattern = os.path.join(safe_dir, 'GRANULE', '*', 'IMG_DATA','*', '*_B12*.jp2')\n",
    "    band4_path_pattern = os.path.join(safe_dir, 'GRANULE', '*', 'IMG_DATA','*', '*_B04*.jp2')\n",
    "    band3_path_pattern = os.path.join(safe_dir, 'GRANULE', '*', 'IMG_DATA', '*','*_B03*.jp2')\n",
    "    band2_path_pattern = os.path.join(safe_dir, 'GRANULE', '*', 'IMG_DATA', '*','*_B02*.jp2')\n",
    "    band8_path = glob.glob(band8_path_pattern)\n",
    "    band12_path = glob.glob(band12_path_pattern)\n",
    "    band4_path = glob.glob(band4_path_pattern)\n",
    "    band3_path = glob.glob(band3_path_pattern)\n",
    "    band2_path = glob.glob(band2_path_pattern)\n",
    "    nbr = create_nbr(band8_path[0],band12_path[0])\n",
    "    return(nbr)"
   ]
  },
  {
   "cell_type": "code",
   "execution_count": 40,
   "id": "03172afd",
   "metadata": {},
   "outputs": [],
   "source": [
<<<<<<< HEAD
    "tart_date = \"2022-05-01\"\n",
=======
    "start_date = \"2022-05-01\"\n",
>>>>>>> put all defs in utils
    "end_date = \"2022-06-03\"\n",
    "lat, lon = 36.3942, 25.7614\n",
    "if lon<=25:\n",
    "    raw_crs = 'epsg:32634'\n",
    "else:\n",
    "    raw_crs = 'epsg:32635'\n",
    "my_path = '/media/sg/91d62d44-8446-4f66-8327-bc09e774cbb1/home/df/Projects/bsm_2023/upoloipes'\n",
    "folder_name = 'test_{}_{}'.format(lat,lon)\n",
    "output_dir= os.path.join(my_path,folder_name)\n",
    "os.makedirs(output_dir, exist_ok=True)\n",
    "bb = [lon-0.01, lat-0.01, lon+0.01, lat+0.01]\n",
    "data_collection = \"SENTINEL-2\"\n",
    "aoi = f\"POLYGON(({bb[0]} {bb[1]},{bb[2]} {bb[1]},{bb[2]} {bb[3]},{bb[0]} {bb[3]},{bb[0]} {bb[1]}))'\""
   ]
  },
  {
   "cell_type": "code",
   "execution_count": 41,
   "id": "169f9e5b",
   "metadata": {},
   "outputs": [],
   "source": [
    "json = requests.get(f\"https://catalogue.dataspace.copernicus.eu/odata/v1/Products?$filter=Collection/Name eq '{data_collection}' and OData.CSC.Intersects(area=geography'SRID=4326;{aoi}) and ContentDate/Start gt {start_date}T00:00:00.000Z and ContentDate/Start lt {end_date}T00:00:00.000Z\").json()\n",
    "products = pd.DataFrame.from_dict(json['value'])"
   ]
  },
  {
   "cell_type": "code",
   "execution_count": 42,
   "id": "9384734c",
   "metadata": {},
   "outputs": [],
   "source": [
    "products['tile'] = products.Name.apply(lambda x: x.split('_')[5][1:])\n",
    "products['level'] = products.S3Path.apply(lambda x: x.split('/')[4])\n",
    "products = products[products.level == 'L2A']\n",
    "products['date'] = products.ContentDate.apply(lambda x: x['Start'])\n",
    "products_sorted  = products.sort_values('date', ascending=True).reset_index()\n",
    "pre_id = products_sorted.loc[0].Id\n",
    "pre_tile = products_sorted.loc[0].tile\n",
    "pre_name = products_sorted.loc[0].Name\n",
    "post_products_sorted = products_sorted[products_sorted.tile == pre_tile]\n",
    "post_id = post_products_sorted.loc[post_products_sorted.index[-1]].Id\n",
    "post_name = products_sorted.loc[post_products_sorted.index[-1]].Name"
   ]
  },
  {
   "cell_type": "code",
   "execution_count": 43,
   "id": "ac3d0693",
   "metadata": {},
   "outputs": [
    {
     "data": {
      "text/plain": [
       "('/media/sg/91d62d44-8446-4f66-8327-bc09e774cbb1/home/df/Projects/bsm_2023/upoloipes/test_36.3942_25.7614',\n",
       " 'S2B_MSIL2A_20220502T085549_N0400_R007_T35SLA_20220502T112209.SAFE')"
      ]
     },
     "execution_count": 43,
     "metadata": {},
     "output_type": "execute_result"
    }
   ],
   "source": [
    "output_dir, pre_name"
   ]
  },
  {
   "cell_type": "code",
   "execution_count": 47,
   "id": "6e95a79b",
   "metadata": {},
   "outputs": [],
   "source": [
    "import xarray as xr\n",
    "\n",
    "def create_nbr(band8_path,band12_path):\n",
    "    b8 = xr.open_dataset(band8_path,engine='rasterio')\n",
    "    b12 = xr.open_dataset(band12_path)\n",
    "    b12_resampled = b12.interp_like(b8,method='nearest')\n",
    "    nbr = (b8.band_data.values - b12_resampled.band_data.values)/(b8.band_data.values + b12_resampled.band_data.values)\n",
    "    nbr = nbr.squeeze()\n",
    "    nbr = xr.DataArray(nbr, coords={'x': b8['x'], 'y': b8['y']}, dims=['y', 'x'])\n",
    "    nbr = nbr.squeeze()\n",
    "    return(nbr)"
   ]
  },
  {
   "cell_type": "code",
   "execution_count": 48,
   "id": "83ae3261",
   "metadata": {},
   "outputs": [
    {
     "name": "stdout",
     "output_type": "stream",
     "text": [
      "The image 84c4ea11-fe72-53a3-b061-43193dcafa9c is already downloaded.\n",
      "SAFE dir: /media/sg/91d62d44-8446-4f66-8327-bc09e774cbb1/home/df/Projects/bsm_2023/upoloipes/test_36.3942_25.7614/S2B_MSIL2A_20220502T085549_N0400_R007_T35SLA_20220502T112209.SAFE\n",
      "The image 9cbc13d2-1c64-5dff-8f29-366dac5a1962 is already downloaded.\n",
      "SAFE dir: /media/sg/91d62d44-8446-4f66-8327-bc09e774cbb1/home/df/Projects/bsm_2023/upoloipes/test_36.3942_25.7614/S2B_MSIL2A_20220601T085559_N0400_R007_T35SLA_20220601T120802.SAFE\n"
     ]
    },
    {
     "ename": "PermissionError",
     "evalue": "[Errno 13] Permission denied: b'/media/sg/91d62d44-8446-4f66-8327-bc09e774cbb1/home/df/Projects/bsm_2023/upoloipes/test_36.3942_25.7614/nbr_post.nc'",
     "output_type": "error",
     "traceback": [
      "\u001b[0;31m---------------------------------------------------------------------------\u001b[0m",
      "\u001b[0;31mKeyError\u001b[0m                                  Traceback (most recent call last)",
      "File \u001b[0;32m~/miniconda3/envs/fire_ffp/lib/python3.9/site-packages/xarray/backends/file_manager.py:209\u001b[0m, in \u001b[0;36mCachingFileManager._acquire_with_cache_info\u001b[0;34m(self, needs_lock)\u001b[0m\n\u001b[1;32m    208\u001b[0m \u001b[38;5;28;01mtry\u001b[39;00m:\n\u001b[0;32m--> 209\u001b[0m     file \u001b[38;5;241m=\u001b[39m \u001b[38;5;28;43mself\u001b[39;49m\u001b[38;5;241;43m.\u001b[39;49m\u001b[43m_cache\u001b[49m\u001b[43m[\u001b[49m\u001b[38;5;28;43mself\u001b[39;49m\u001b[38;5;241;43m.\u001b[39;49m\u001b[43m_key\u001b[49m\u001b[43m]\u001b[49m\n\u001b[1;32m    210\u001b[0m \u001b[38;5;28;01mexcept\u001b[39;00m \u001b[38;5;167;01mKeyError\u001b[39;00m:\n",
      "File \u001b[0;32m~/miniconda3/envs/fire_ffp/lib/python3.9/site-packages/xarray/backends/lru_cache.py:55\u001b[0m, in \u001b[0;36mLRUCache.__getitem__\u001b[0;34m(self, key)\u001b[0m\n\u001b[1;32m     54\u001b[0m \u001b[38;5;28;01mwith\u001b[39;00m \u001b[38;5;28mself\u001b[39m\u001b[38;5;241m.\u001b[39m_lock:\n\u001b[0;32m---> 55\u001b[0m     value \u001b[38;5;241m=\u001b[39m \u001b[38;5;28;43mself\u001b[39;49m\u001b[38;5;241;43m.\u001b[39;49m\u001b[43m_cache\u001b[49m\u001b[43m[\u001b[49m\u001b[43mkey\u001b[49m\u001b[43m]\u001b[49m\n\u001b[1;32m     56\u001b[0m     \u001b[38;5;28mself\u001b[39m\u001b[38;5;241m.\u001b[39m_cache\u001b[38;5;241m.\u001b[39mmove_to_end(key)\n",
      "\u001b[0;31mKeyError\u001b[0m: [<class 'netCDF4._netCDF4.Dataset'>, ('/media/sg/91d62d44-8446-4f66-8327-bc09e774cbb1/home/df/Projects/bsm_2023/upoloipes/test_36.3942_25.7614/nbr_post.nc',), 'a', (('clobber', True), ('diskless', False), ('format', 'NETCDF4'), ('persist', False)), 'f1b1a795-6d4f-4c0b-89cf-2cfe10aacaf9']",
      "\nDuring handling of the above exception, another exception occurred:\n",
      "\u001b[0;31mPermissionError\u001b[0m                           Traceback (most recent call last)",
      "Input \u001b[0;32mIn [48]\u001b[0m, in \u001b[0;36m<cell line: 4>\u001b[0;34m()\u001b[0m\n\u001b[1;32m      2\u001b[0m nbr_post \u001b[38;5;241m=\u001b[39m download_cart_sentinel(post_id, output_dir, post_name,access_token)\n\u001b[1;32m      3\u001b[0m nbr_pre\u001b[38;5;241m.\u001b[39mto_netcdf(os\u001b[38;5;241m.\u001b[39mpath\u001b[38;5;241m.\u001b[39mjoin(output_dir,\u001b[38;5;124m'\u001b[39m\u001b[38;5;124mnbr_pre.nc\u001b[39m\u001b[38;5;124m'\u001b[39m))\n\u001b[0;32m----> 4\u001b[0m \u001b[43mnbr_post\u001b[49m\u001b[38;5;241;43m.\u001b[39;49m\u001b[43mto_netcdf\u001b[49m\u001b[43m(\u001b[49m\u001b[43mos\u001b[49m\u001b[38;5;241;43m.\u001b[39;49m\u001b[43mpath\u001b[49m\u001b[38;5;241;43m.\u001b[39;49m\u001b[43mjoin\u001b[49m\u001b[43m(\u001b[49m\u001b[43moutput_dir\u001b[49m\u001b[43m,\u001b[49m\u001b[38;5;124;43m'\u001b[39;49m\u001b[38;5;124;43mnbr_post.nc\u001b[39;49m\u001b[38;5;124;43m'\u001b[39;49m\u001b[43m)\u001b[49m\u001b[43m)\u001b[49m\n",
      "File \u001b[0;32m~/miniconda3/envs/fire_ffp/lib/python3.9/site-packages/xarray/core/dataarray.py:3954\u001b[0m, in \u001b[0;36mDataArray.to_netcdf\u001b[0;34m(self, path, mode, format, group, engine, encoding, unlimited_dims, compute, invalid_netcdf)\u001b[0m\n\u001b[1;32m   3950\u001b[0m \u001b[38;5;28;01melse\u001b[39;00m:\n\u001b[1;32m   3951\u001b[0m     \u001b[38;5;66;03m# No problems with the name - so we're fine!\u001b[39;00m\n\u001b[1;32m   3952\u001b[0m     dataset \u001b[38;5;241m=\u001b[39m \u001b[38;5;28mself\u001b[39m\u001b[38;5;241m.\u001b[39mto_dataset()\n\u001b[0;32m-> 3954\u001b[0m \u001b[38;5;28;01mreturn\u001b[39;00m \u001b[43mto_netcdf\u001b[49m\u001b[43m(\u001b[49m\u001b[43m  \u001b[49m\u001b[38;5;66;43;03m# type: ignore  # mypy cannot resolve the overloads:(\u001b[39;49;00m\n\u001b[1;32m   3955\u001b[0m \u001b[43m    \u001b[49m\u001b[43mdataset\u001b[49m\u001b[43m,\u001b[49m\n\u001b[1;32m   3956\u001b[0m \u001b[43m    \u001b[49m\u001b[43mpath\u001b[49m\u001b[43m,\u001b[49m\n\u001b[1;32m   3957\u001b[0m \u001b[43m    \u001b[49m\u001b[43mmode\u001b[49m\u001b[38;5;241;43m=\u001b[39;49m\u001b[43mmode\u001b[49m\u001b[43m,\u001b[49m\n\u001b[1;32m   3958\u001b[0m \u001b[43m    \u001b[49m\u001b[38;5;28;43mformat\u001b[39;49m\u001b[38;5;241;43m=\u001b[39;49m\u001b[38;5;28;43mformat\u001b[39;49m\u001b[43m,\u001b[49m\n\u001b[1;32m   3959\u001b[0m \u001b[43m    \u001b[49m\u001b[43mgroup\u001b[49m\u001b[38;5;241;43m=\u001b[39;49m\u001b[43mgroup\u001b[49m\u001b[43m,\u001b[49m\n\u001b[1;32m   3960\u001b[0m \u001b[43m    \u001b[49m\u001b[43mengine\u001b[49m\u001b[38;5;241;43m=\u001b[39;49m\u001b[43mengine\u001b[49m\u001b[43m,\u001b[49m\n\u001b[1;32m   3961\u001b[0m \u001b[43m    \u001b[49m\u001b[43mencoding\u001b[49m\u001b[38;5;241;43m=\u001b[39;49m\u001b[43mencoding\u001b[49m\u001b[43m,\u001b[49m\n\u001b[1;32m   3962\u001b[0m \u001b[43m    \u001b[49m\u001b[43munlimited_dims\u001b[49m\u001b[38;5;241;43m=\u001b[39;49m\u001b[43munlimited_dims\u001b[49m\u001b[43m,\u001b[49m\n\u001b[1;32m   3963\u001b[0m \u001b[43m    \u001b[49m\u001b[43mcompute\u001b[49m\u001b[38;5;241;43m=\u001b[39;49m\u001b[43mcompute\u001b[49m\u001b[43m,\u001b[49m\n\u001b[1;32m   3964\u001b[0m \u001b[43m    \u001b[49m\u001b[43mmultifile\u001b[49m\u001b[38;5;241;43m=\u001b[39;49m\u001b[38;5;28;43;01mFalse\u001b[39;49;00m\u001b[43m,\u001b[49m\n\u001b[1;32m   3965\u001b[0m \u001b[43m    \u001b[49m\u001b[43minvalid_netcdf\u001b[49m\u001b[38;5;241;43m=\u001b[39;49m\u001b[43minvalid_netcdf\u001b[49m\u001b[43m,\u001b[49m\n\u001b[1;32m   3966\u001b[0m \u001b[43m\u001b[49m\u001b[43m)\u001b[49m\n",
      "File \u001b[0;32m~/miniconda3/envs/fire_ffp/lib/python3.9/site-packages/xarray/backends/api.py:1213\u001b[0m, in \u001b[0;36mto_netcdf\u001b[0;34m(dataset, path_or_file, mode, format, group, engine, encoding, unlimited_dims, compute, multifile, invalid_netcdf)\u001b[0m\n\u001b[1;32m   1209\u001b[0m     \u001b[38;5;28;01melse\u001b[39;00m:\n\u001b[1;32m   1210\u001b[0m         \u001b[38;5;28;01mraise\u001b[39;00m \u001b[38;5;167;01mValueError\u001b[39;00m(\n\u001b[1;32m   1211\u001b[0m             \u001b[38;5;124mf\u001b[39m\u001b[38;5;124m\"\u001b[39m\u001b[38;5;124munrecognized option \u001b[39m\u001b[38;5;124m'\u001b[39m\u001b[38;5;124minvalid_netcdf\u001b[39m\u001b[38;5;124m'\u001b[39m\u001b[38;5;124m for engine \u001b[39m\u001b[38;5;132;01m{\u001b[39;00mengine\u001b[38;5;132;01m}\u001b[39;00m\u001b[38;5;124m\"\u001b[39m\n\u001b[1;32m   1212\u001b[0m         )\n\u001b[0;32m-> 1213\u001b[0m store \u001b[38;5;241m=\u001b[39m \u001b[43mstore_open\u001b[49m\u001b[43m(\u001b[49m\u001b[43mtarget\u001b[49m\u001b[43m,\u001b[49m\u001b[43m \u001b[49m\u001b[43mmode\u001b[49m\u001b[43m,\u001b[49m\u001b[43m \u001b[49m\u001b[38;5;28;43mformat\u001b[39;49m\u001b[43m,\u001b[49m\u001b[43m \u001b[49m\u001b[43mgroup\u001b[49m\u001b[43m,\u001b[49m\u001b[43m \u001b[49m\u001b[38;5;241;43m*\u001b[39;49m\u001b[38;5;241;43m*\u001b[39;49m\u001b[43mkwargs\u001b[49m\u001b[43m)\u001b[49m\n\u001b[1;32m   1215\u001b[0m \u001b[38;5;28;01mif\u001b[39;00m unlimited_dims \u001b[38;5;129;01mis\u001b[39;00m \u001b[38;5;28;01mNone\u001b[39;00m:\n\u001b[1;32m   1216\u001b[0m     unlimited_dims \u001b[38;5;241m=\u001b[39m dataset\u001b[38;5;241m.\u001b[39mencoding\u001b[38;5;241m.\u001b[39mget(\u001b[38;5;124m\"\u001b[39m\u001b[38;5;124munlimited_dims\u001b[39m\u001b[38;5;124m\"\u001b[39m, \u001b[38;5;28;01mNone\u001b[39;00m)\n",
      "File \u001b[0;32m~/miniconda3/envs/fire_ffp/lib/python3.9/site-packages/xarray/backends/netCDF4_.py:376\u001b[0m, in \u001b[0;36mNetCDF4DataStore.open\u001b[0;34m(cls, filename, mode, format, group, clobber, diskless, persist, lock, lock_maker, autoclose)\u001b[0m\n\u001b[1;32m    370\u001b[0m kwargs \u001b[38;5;241m=\u001b[39m \u001b[38;5;28mdict\u001b[39m(\n\u001b[1;32m    371\u001b[0m     clobber\u001b[38;5;241m=\u001b[39mclobber, diskless\u001b[38;5;241m=\u001b[39mdiskless, persist\u001b[38;5;241m=\u001b[39mpersist, \u001b[38;5;28mformat\u001b[39m\u001b[38;5;241m=\u001b[39m\u001b[38;5;28mformat\u001b[39m\n\u001b[1;32m    372\u001b[0m )\n\u001b[1;32m    373\u001b[0m manager \u001b[38;5;241m=\u001b[39m CachingFileManager(\n\u001b[1;32m    374\u001b[0m     netCDF4\u001b[38;5;241m.\u001b[39mDataset, filename, mode\u001b[38;5;241m=\u001b[39mmode, kwargs\u001b[38;5;241m=\u001b[39mkwargs\n\u001b[1;32m    375\u001b[0m )\n\u001b[0;32m--> 376\u001b[0m \u001b[38;5;28;01mreturn\u001b[39;00m \u001b[38;5;28;43mcls\u001b[39;49m\u001b[43m(\u001b[49m\u001b[43mmanager\u001b[49m\u001b[43m,\u001b[49m\u001b[43m \u001b[49m\u001b[43mgroup\u001b[49m\u001b[38;5;241;43m=\u001b[39;49m\u001b[43mgroup\u001b[49m\u001b[43m,\u001b[49m\u001b[43m \u001b[49m\u001b[43mmode\u001b[49m\u001b[38;5;241;43m=\u001b[39;49m\u001b[43mmode\u001b[49m\u001b[43m,\u001b[49m\u001b[43m \u001b[49m\u001b[43mlock\u001b[49m\u001b[38;5;241;43m=\u001b[39;49m\u001b[43mlock\u001b[49m\u001b[43m,\u001b[49m\u001b[43m \u001b[49m\u001b[43mautoclose\u001b[49m\u001b[38;5;241;43m=\u001b[39;49m\u001b[43mautoclose\u001b[49m\u001b[43m)\u001b[49m\n",
      "File \u001b[0;32m~/miniconda3/envs/fire_ffp/lib/python3.9/site-packages/xarray/backends/netCDF4_.py:323\u001b[0m, in \u001b[0;36mNetCDF4DataStore.__init__\u001b[0;34m(self, manager, group, mode, lock, autoclose)\u001b[0m\n\u001b[1;32m    321\u001b[0m \u001b[38;5;28mself\u001b[39m\u001b[38;5;241m.\u001b[39m_group \u001b[38;5;241m=\u001b[39m group\n\u001b[1;32m    322\u001b[0m \u001b[38;5;28mself\u001b[39m\u001b[38;5;241m.\u001b[39m_mode \u001b[38;5;241m=\u001b[39m mode\n\u001b[0;32m--> 323\u001b[0m \u001b[38;5;28mself\u001b[39m\u001b[38;5;241m.\u001b[39mformat \u001b[38;5;241m=\u001b[39m \u001b[38;5;28;43mself\u001b[39;49m\u001b[38;5;241;43m.\u001b[39;49m\u001b[43mds\u001b[49m\u001b[38;5;241m.\u001b[39mdata_model\n\u001b[1;32m    324\u001b[0m \u001b[38;5;28mself\u001b[39m\u001b[38;5;241m.\u001b[39m_filename \u001b[38;5;241m=\u001b[39m \u001b[38;5;28mself\u001b[39m\u001b[38;5;241m.\u001b[39mds\u001b[38;5;241m.\u001b[39mfilepath()\n\u001b[1;32m    325\u001b[0m \u001b[38;5;28mself\u001b[39m\u001b[38;5;241m.\u001b[39mis_remote \u001b[38;5;241m=\u001b[39m is_remote_uri(\u001b[38;5;28mself\u001b[39m\u001b[38;5;241m.\u001b[39m_filename)\n",
      "File \u001b[0;32m~/miniconda3/envs/fire_ffp/lib/python3.9/site-packages/xarray/backends/netCDF4_.py:385\u001b[0m, in \u001b[0;36mNetCDF4DataStore.ds\u001b[0;34m(self)\u001b[0m\n\u001b[1;32m    383\u001b[0m \u001b[38;5;129m@property\u001b[39m\n\u001b[1;32m    384\u001b[0m \u001b[38;5;28;01mdef\u001b[39;00m \u001b[38;5;21mds\u001b[39m(\u001b[38;5;28mself\u001b[39m):\n\u001b[0;32m--> 385\u001b[0m     \u001b[38;5;28;01mreturn\u001b[39;00m \u001b[38;5;28;43mself\u001b[39;49m\u001b[38;5;241;43m.\u001b[39;49m\u001b[43m_acquire\u001b[49m\u001b[43m(\u001b[49m\u001b[43m)\u001b[49m\n",
      "File \u001b[0;32m~/miniconda3/envs/fire_ffp/lib/python3.9/site-packages/xarray/backends/netCDF4_.py:379\u001b[0m, in \u001b[0;36mNetCDF4DataStore._acquire\u001b[0;34m(self, needs_lock)\u001b[0m\n\u001b[1;32m    378\u001b[0m \u001b[38;5;28;01mdef\u001b[39;00m \u001b[38;5;21m_acquire\u001b[39m(\u001b[38;5;28mself\u001b[39m, needs_lock\u001b[38;5;241m=\u001b[39m\u001b[38;5;28;01mTrue\u001b[39;00m):\n\u001b[0;32m--> 379\u001b[0m     \u001b[38;5;28;01mwith\u001b[39;00m \u001b[38;5;28mself\u001b[39m\u001b[38;5;241m.\u001b[39m_manager\u001b[38;5;241m.\u001b[39macquire_context(needs_lock) \u001b[38;5;28;01mas\u001b[39;00m root:\n\u001b[1;32m    380\u001b[0m         ds \u001b[38;5;241m=\u001b[39m _nc4_require_group(root, \u001b[38;5;28mself\u001b[39m\u001b[38;5;241m.\u001b[39m_group, \u001b[38;5;28mself\u001b[39m\u001b[38;5;241m.\u001b[39m_mode)\n\u001b[1;32m    381\u001b[0m     \u001b[38;5;28;01mreturn\u001b[39;00m ds\n",
      "File \u001b[0;32m~/miniconda3/envs/fire_ffp/lib/python3.9/contextlib.py:119\u001b[0m, in \u001b[0;36m_GeneratorContextManager.__enter__\u001b[0;34m(self)\u001b[0m\n\u001b[1;32m    117\u001b[0m \u001b[38;5;28;01mdel\u001b[39;00m \u001b[38;5;28mself\u001b[39m\u001b[38;5;241m.\u001b[39margs, \u001b[38;5;28mself\u001b[39m\u001b[38;5;241m.\u001b[39mkwds, \u001b[38;5;28mself\u001b[39m\u001b[38;5;241m.\u001b[39mfunc\n\u001b[1;32m    118\u001b[0m \u001b[38;5;28;01mtry\u001b[39;00m:\n\u001b[0;32m--> 119\u001b[0m     \u001b[38;5;28;01mreturn\u001b[39;00m \u001b[38;5;28;43mnext\u001b[39;49m\u001b[43m(\u001b[49m\u001b[38;5;28;43mself\u001b[39;49m\u001b[38;5;241;43m.\u001b[39;49m\u001b[43mgen\u001b[49m\u001b[43m)\u001b[49m\n\u001b[1;32m    120\u001b[0m \u001b[38;5;28;01mexcept\u001b[39;00m \u001b[38;5;167;01mStopIteration\u001b[39;00m:\n\u001b[1;32m    121\u001b[0m     \u001b[38;5;28;01mraise\u001b[39;00m \u001b[38;5;167;01mRuntimeError\u001b[39;00m(\u001b[38;5;124m\"\u001b[39m\u001b[38;5;124mgenerator didn\u001b[39m\u001b[38;5;124m'\u001b[39m\u001b[38;5;124mt yield\u001b[39m\u001b[38;5;124m\"\u001b[39m) \u001b[38;5;28;01mfrom\u001b[39;00m \u001b[38;5;28mNone\u001b[39m\n",
      "File \u001b[0;32m~/miniconda3/envs/fire_ffp/lib/python3.9/site-packages/xarray/backends/file_manager.py:197\u001b[0m, in \u001b[0;36mCachingFileManager.acquire_context\u001b[0;34m(self, needs_lock)\u001b[0m\n\u001b[1;32m    194\u001b[0m \u001b[38;5;129m@contextlib\u001b[39m\u001b[38;5;241m.\u001b[39mcontextmanager\n\u001b[1;32m    195\u001b[0m \u001b[38;5;28;01mdef\u001b[39;00m \u001b[38;5;21macquire_context\u001b[39m(\u001b[38;5;28mself\u001b[39m, needs_lock\u001b[38;5;241m=\u001b[39m\u001b[38;5;28;01mTrue\u001b[39;00m):\n\u001b[1;32m    196\u001b[0m     \u001b[38;5;124;03m\"\"\"Context manager for acquiring a file.\"\"\"\u001b[39;00m\n\u001b[0;32m--> 197\u001b[0m     file, cached \u001b[38;5;241m=\u001b[39m \u001b[38;5;28;43mself\u001b[39;49m\u001b[38;5;241;43m.\u001b[39;49m\u001b[43m_acquire_with_cache_info\u001b[49m\u001b[43m(\u001b[49m\u001b[43mneeds_lock\u001b[49m\u001b[43m)\u001b[49m\n\u001b[1;32m    198\u001b[0m     \u001b[38;5;28;01mtry\u001b[39;00m:\n\u001b[1;32m    199\u001b[0m         \u001b[38;5;28;01myield\u001b[39;00m file\n",
      "File \u001b[0;32m~/miniconda3/envs/fire_ffp/lib/python3.9/site-packages/xarray/backends/file_manager.py:215\u001b[0m, in \u001b[0;36mCachingFileManager._acquire_with_cache_info\u001b[0;34m(self, needs_lock)\u001b[0m\n\u001b[1;32m    213\u001b[0m     kwargs \u001b[38;5;241m=\u001b[39m kwargs\u001b[38;5;241m.\u001b[39mcopy()\n\u001b[1;32m    214\u001b[0m     kwargs[\u001b[38;5;124m\"\u001b[39m\u001b[38;5;124mmode\u001b[39m\u001b[38;5;124m\"\u001b[39m] \u001b[38;5;241m=\u001b[39m \u001b[38;5;28mself\u001b[39m\u001b[38;5;241m.\u001b[39m_mode\n\u001b[0;32m--> 215\u001b[0m file \u001b[38;5;241m=\u001b[39m \u001b[38;5;28;43mself\u001b[39;49m\u001b[38;5;241;43m.\u001b[39;49m\u001b[43m_opener\u001b[49m\u001b[43m(\u001b[49m\u001b[38;5;241;43m*\u001b[39;49m\u001b[38;5;28;43mself\u001b[39;49m\u001b[38;5;241;43m.\u001b[39;49m\u001b[43m_args\u001b[49m\u001b[43m,\u001b[49m\u001b[43m \u001b[49m\u001b[38;5;241;43m*\u001b[39;49m\u001b[38;5;241;43m*\u001b[39;49m\u001b[43mkwargs\u001b[49m\u001b[43m)\u001b[49m\n\u001b[1;32m    216\u001b[0m \u001b[38;5;28;01mif\u001b[39;00m \u001b[38;5;28mself\u001b[39m\u001b[38;5;241m.\u001b[39m_mode \u001b[38;5;241m==\u001b[39m \u001b[38;5;124m\"\u001b[39m\u001b[38;5;124mw\u001b[39m\u001b[38;5;124m\"\u001b[39m:\n\u001b[1;32m    217\u001b[0m     \u001b[38;5;66;03m# ensure file doesn't get overridden when opened again\u001b[39;00m\n\u001b[1;32m    218\u001b[0m     \u001b[38;5;28mself\u001b[39m\u001b[38;5;241m.\u001b[39m_mode \u001b[38;5;241m=\u001b[39m \u001b[38;5;124m\"\u001b[39m\u001b[38;5;124ma\u001b[39m\u001b[38;5;124m\"\u001b[39m\n",
      "File \u001b[0;32msrc/netCDF4/_netCDF4.pyx:2463\u001b[0m, in \u001b[0;36mnetCDF4._netCDF4.Dataset.__init__\u001b[0;34m()\u001b[0m\n",
      "File \u001b[0;32msrc/netCDF4/_netCDF4.pyx:2026\u001b[0m, in \u001b[0;36mnetCDF4._netCDF4._ensure_nc_success\u001b[0;34m()\u001b[0m\n",
      "\u001b[0;31mPermissionError\u001b[0m: [Errno 13] Permission denied: b'/media/sg/91d62d44-8446-4f66-8327-bc09e774cbb1/home/df/Projects/bsm_2023/upoloipes/test_36.3942_25.7614/nbr_post.nc'"
     ]
    }
   ],
   "source": [
    "nbr_pre = download_cart_sentinel(pre_id,output_dir,pre_name,access_token)\n",
    "nbr_post = download_cart_sentinel(post_id, output_dir, post_name,access_token)\n",
    "nbr_pre.to_netcdf(os.path.join(output_dir,'nbr_pre.nc'))\n",
    "nbr_post.to_netcdf(os.path.join(output_dir,'nbr_post.nc'))"
   ]
  },
  {
   "cell_type": "code",
   "execution_count": 49,
   "id": "c961e273",
   "metadata": {},
   "outputs": [],
   "source": [
    "dnbr = nbr_pre - nbr_post\n",
    "dnbr.rio.to_raster(os.path.join(output_dir,'dnbr.nc'))\n",
    "dnbr.rio.write_crs(raw_crs, inplace=True)\n",
    "dnbr_proj = dnbr.rio.reproject('epsg:4326')\n",
    "bb_crop = [lon-0.6, lat-0.4, lon+0.6, lat+0.4]"
   ]
  },
  {
   "cell_type": "code",
   "execution_count": null,
   "id": "34f5bd50",
   "metadata": {},
   "outputs": [
    {
     "name": "stdout",
     "output_type": "stream",
     "text": [
      "0...10...20...30...40...50...60...70...80...90...100 - done.\n",
      "Total Burned area:  618560.4511578328\n"
     ]
    }
   ],
   "source": [
    "dnbr_crop = dnbr_proj.sel(x=slice(bb_crop[0],bb_crop[2]), y = slice(bb_crop[3],bb_crop[1]))\n",
    "dnbr_crop.rio.to_raster(os.path.join(output_dir,'dnbr_crop.tif'))\n",
    "mask = dnbr_crop > 0.09\n",
    "result = dnbr_crop.where(mask)\n",
    "result = result.squeeze()\n",
    "result = xr.DataArray(result.values, coords={'x': result['x'], 'y': result['y']}, dims=['y', 'x'])\n",
    "result = result.to_dataset(name='burned')\n",
    "result.to_netcdf(os.path.join(output_dir,'burned.nc'))\n",
    "gdal_command = 'gdal_polygonize.py {} -b 1 {}'.format(os.path.join(output_dir,'burned.nc'),os.path.join(output_dir,'burned.shp'))\n",
    "os.system(gdal_command)\n",
    "polygon = gpd.read_file(os.path.join(output_dir,'burned.shp'))\n",
    "polygon = polygon.set_crs(4326)\n",
    "polygon = polygon.to_crs(2100)\n",
    "polygon = polygon.assign(area=polygon.area)\n",
    "print('Total Burned area: ',polygon.area.sum()/10000)\n",
    "polygon = polygon[polygon.area>25000]\n",
    "polygon_buffer = polygon.buffer(40, join_style=1).buffer(-40.0, join_style=1)\n",
    "polygon_buffer = polygon_buffer.simplify(tolerance=5)\n",
    "#smoothed_polygons = polygon['geometry'].simplify(tolerance=20) # Adjust the tolerance value as needed\n",
    "polygon_buffer.to_file((os.path.join(output_dir,'burned_smoothed_buffer40_simplify5.shp')))"
   ]
  },
  {
   "cell_type": "code",
   "execution_count": null,
   "id": "7fd7739d",
   "metadata": {},
   "outputs": [],
   "source": []
  },
  {
   "cell_type": "code",
   "execution_count": null,
   "id": "e19d5e18",
   "metadata": {},
   "outputs": [],
   "source": []
  }
 ],
 "metadata": {
  "kernelspec": {
   "display_name": "fire_ffp",
   "language": "python",
<<<<<<< HEAD
   "name": "fire_ffp"
=======
   "name": "python3"
>>>>>>> put all defs in utils
  },
  "language_info": {
   "codemirror_mode": {
    "name": "ipython",
    "version": 3
   },
   "file_extension": ".py",
   "mimetype": "text/x-python",
   "name": "python",
   "nbconvert_exporter": "python",
   "pygments_lexer": "ipython3",
   "version": "3.9.16"
  }
 },
 "nbformat": 4,
 "nbformat_minor": 5
}
