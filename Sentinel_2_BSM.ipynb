{
 "cells": [
  {
   "cell_type": "code",
   "execution_count": 1,
   "id": "70f8b477",
   "metadata": {},
   "outputs": [],
   "source": [
    "import os\n",
    "import rasterio\n",
    "import requests\n",
    "from sentinelsat import SentinelAPI\n",
    "#from skimage import io\n",
    "import numpy as np\n",
    "import glob\n",
    "from rasterio.enums import Resampling\n",
    "from rasterio.warp import reproject\n",
    "from rasterio.mask import mask\n",
    "from shapely.geometry import box\n",
    "import xarray as xr\n",
    "from datetime import datetime, timedelta\n",
    "import matplotlib.pyplot as plt\n",
    "import rasterio\n",
    "import os\n",
    "from osgeo import gdal\n",
    "import leafmap\n",
    "import rasterio.warp\n",
    "import pyproj\n",
    "import geopandas as gpd\n",
    "from shapely.geometry import Polygon\n",
    "import pandas as pd"
   ]
  },
  {
   "cell_type": "code",
   "execution_count": 2,
   "id": "e4a021bf",
   "metadata": {},
   "outputs": [],
   "source": [
    "def download_sentinel(products_df_sorted,output_dir='thasos'):\n",
    "    if len(products_df_sorted) > 0:\n",
    "        # Download the most recent image\n",
    "        product_id = products_df_sorted.iloc[0]['uuid']\n",
    "        product_info = api.get_product_odata(product_id)\n",
    "        download_url = product_info['url']\n",
    "        product_name = product_info['title']\n",
    "        #output_dir = 'output_images'\n",
    "        #os.makedirs(output_dir, exist_ok=True)\n",
    "        output_path = os.path.join(output_dir, product_name)\n",
    "        if os.path.exists(output_path):\n",
    "            print(f\"The image {product_name} is already downloaded.\")\n",
    "        else:\n",
    "            api.download(product_id, output_path)\n",
    "\n",
    "        # Unzip the downloaded file\n",
    "        unzip_dir = os.path.join(output_dir, product_name, product_name+'.zip')\n",
    "\n",
    "        try:\n",
    "            #os.makedirs(unzip_dir, exist_ok=True)\n",
    "            os.system(f'unzip {unzip_dir} -d {output_path}')\n",
    "            os.remove(unzip_dir)\n",
    "        except:\n",
    "            print('zip has been deleted')\n",
    "            print(unzip_dir)\n",
    "        \n",
    "        # Find the relevant image bands\n",
    "        safe_dir = os.path.join(output_dir, product_name, f'{product_name}.SAFE')\n",
    "        print('SAFE dir:',safe_dir)\n",
    "        band8_path_pattern = os.path.join(safe_dir, 'GRANULE', '*', 'IMG_DATA', '*_B08.jp2')\n",
    "        band12_path_pattern = os.path.join(safe_dir, 'GRANULE', '*', 'IMG_DATA', '*_B12.jp2')\n",
    "        band4_path_pattern = os.path.join(safe_dir, 'GRANULE', '*', 'IMG_DATA', '*_B04.jp2')\n",
    "        band3_path_pattern = os.path.join(safe_dir, 'GRANULE', '*', 'IMG_DATA', '*_B03.jp2')\n",
    "        band2_path_pattern = os.path.join(safe_dir, 'GRANULE', '*', 'IMG_DATA', '*_B02.jp2')\n",
    "        \n",
    "        band8_path = glob.glob(band8_path_pattern)\n",
    "        band12_path = glob.glob(band12_path_pattern)\n",
    "        band4_path = glob.glob(band4_path_pattern)\n",
    "        band3_path = glob.glob(band3_path_pattern)\n",
    "        band2_path = glob.glob(band2_path_pattern)\n",
    "\n",
    "    else:\n",
    "        print('No Sentinel-2 images found within the specified bounding box and timeframe.')\n",
    "    return(band8_path,band12_path,band4_path,band3_path,band2_path)"
   ]
  },
  {
   "cell_type": "code",
   "execution_count": 3,
   "id": "3635388d",
   "metadata": {},
   "outputs": [],
   "source": [
    "def create_nbr(band8_path,band12_path,bb):\n",
    "    b8 = xr.open_dataset(band8_path,engine='rasterio')\n",
    "    b12 = xr.open_dataset(band12_path)\n",
    "    b12_resampled = b12.interp_like(b8,method='nearest')\n",
    "#     b8_reprojected = b8.rio.reproject('epsg:4326')\n",
    "#     b12_reprojected = b12_resampled.rio.reproject('epsg:4326')\n",
    "    #b8_reprojected = b8_reprojected.sel(x=slice(bb[0],bb[2]), y = slice(bb[3],bb[1]))\n",
    "    #b12_reprojected = b12_reprojected.sel(x=slice(bb[0],bb[2]), y = slice(bb[3],bb[1]))   \n",
    "    #b8_reprojected = b8_reprojected.sel(x=slice(bb[0],bb[2]), y = slice(bb[3],bb[1]))\n",
    "    #b12_reprojected = b12_reprojected.sel(x=slice(bb[0],bb[2]), y = slice(bb[3],bb[1]))\n",
    "    #b8_reprojected = b8_reprojected.squeeze()\n",
    "    #b12_reprojected = b12_reprojected.squeeze()\n",
    "    nbr = (b8.band_data.values - b12_resampled.band_data.values)/(b8.band_data.values + b12_resampled.band_data.values)\n",
    "    nbr = nbr.squeeze()\n",
    "    nbr = xr.DataArray(nbr, coords={'x': b8['x'], 'y': b8['y']}, dims=['y', 'x'])\n",
    "    nbr = nbr.squeeze()       \n",
    "    #nbr_crop = nbr.sel(x=slice(bb[0],bb[2]), y = slice(bb[3],bb[1]))\n",
    "    return(nbr)"
   ]
  },
  {
   "cell_type": "code",
   "execution_count": 4,
   "id": "20c91cdc",
   "metadata": {},
   "outputs": [],
   "source": [
    "def run_sentinel_dnbr(footprint,lat,lon,output_dir,raw_crs,date='NOW'):  \n",
    "    if date == 'NOW':\n",
    "        print('now')\n",
    "        #POST FIRE\n",
    "        products = api.query(footprint, date=('NOW-15DAYS', 'NOW-5DAYS'), platformname='Sentinel-2',\n",
    "                         processinglevel='Level-1C', cloudcoverpercentage=(0, 20))\n",
    "    else:\n",
    "        end_date = date\n",
    "        end_date_obj = datetime.strptime(end_date, '%Y%m%d')\n",
    "        start_date_obj = end_date_obj - timedelta(days=7)\n",
    "        start_date = start_date_obj.strftime('%Y%m%d')\n",
    "        products = api.query(footprint, date=(start_date, end_date), platformname='Sentinel-2',\n",
    "                             processinglevel='Level-1C', cloudcoverpercentage=(0, 30))\n",
    "    products_df = api.to_dataframe(products)\n",
    "    products_df_sorted = products_df.sort_values('ingestiondate', ascending=False)\n",
    "    tile = products_df_sorted.title.iloc[0].split('_')[5][1:]\n",
    "    print('Tile:',tile)\n",
    "\n",
    "    band8_path,band12_path,band4_path,band3_path,band2_path = download_sentinel(products_df_sorted,output_dir=output_dir)\n",
    "    nbr_post = create_nbr(band8_path[0],band12_path[0],bb)\n",
    "    nbr_post.to_netcdf(os.path.join(output_dir,'nbr_post.nc'))\n",
    "    \n",
    "    #PRE FIRE\n",
    "    products = api.query(footprint, date=('NOW-20DAYS','NOW-17DAYS'), platformname='Sentinel-2',\n",
    "                         processinglevel='Level-1C', cloudcoverpercentage=(0, 10))\n",
    "    products_df = api.to_dataframe(products)\n",
    "    products_df['tile'] = products_df.title.apply(lambda x: x.split('_')[5][1:])\n",
    "    products_df = products_df[products_df.tile == tile]\n",
    "    products_df_sorted = products_df.sort_values('ingestiondate', ascending=False)\n",
    "    \n",
    "\n",
    "    band8_path,band12_path,band4_path,band3_path,band2_path = download_sentinel(products_df_sorted,output_dir=output_dir)\n",
    "    \n",
    "\n",
    "    \n",
    "    nbr_pre = create_nbr(band8_path[0],band12_path[0],bb)\n",
    "    nbr_pre.to_netcdf(os.path.join(output_dir,'nbr_pre.nc'))\n",
    "    dnbr = nbr_pre - nbr_post\n",
    "    dnbr.rio.to_raster(os.path.join(output_dir,'dnbr.nc'))\n",
    "    dnbr.rio.write_crs(raw_crs, inplace=True)\n",
    "    dnbr_proj = dnbr.rio.reproject('epsg:4326')\n",
    "    bb_crop = [lon-0.6, lat-0.4, lon+0.6, lat+0.4]\n",
    "    print(bb_crop)\n",
    "    dnbr_crop = dnbr_proj.sel(x=slice(bb_crop[0],bb_crop[2]), y = slice(bb_crop[3],bb_crop[1]))\n",
    "    dnbr_crop.rio.to_raster(os.path.join(output_dir,'dnbr_crop.tif'))\n",
    "    mask = dnbr_crop > 0.09\n",
    "    result = dnbr_crop.where(mask)\n",
    "    result = result.squeeze()\n",
    "    result = xr.DataArray(result.values, coords={'x': result['x'], 'y': result['y']}, dims=['y', 'x'])\n",
    "    result = result.to_dataset(name='burned')\n",
    "    result.to_netcdf(os.path.join(output_dir,'burned.nc'))\n",
    "    gdal_command = 'gdal_polygonize.py {} -b 1 {}'.format(os.path.join(output_dir,'burned.nc'),os.path.join(output_dir,'burned.shp'))\n",
    "    os.system(gdal_command)\n",
    "    polygon = gpd.read_file(os.path.join(output_dir,'burned.shp'))\n",
    "    polygon = polygon.set_crs(4326)\n",
    "    polygon = polygon.to_crs(2100)\n",
    "    polygon = polygon.assign(area=polygon.area)\n",
    "    print('Total Burned area: ',polygon.area.sum()/10000)\n",
    "    polygon = polygon[polygon.area>25000]\n",
    "    polygon_buffer = polygon.buffer(40, join_style=1).buffer(-40.0, join_style=1)\n",
    "    polygon_buffer = polygon_buffer.simplify(tolerance=5)\n",
    "    #smoothed_polygons = polygon['geometry'].simplify(tolerance=20) # Adjust the tolerance value as needed\n",
    "    polygon_buffer.to_file((os.path.join(output_dir,'burned_smoothed_buffer40_simplify5.shp')))\n",
    "    return polygon_buffer"
   ]
  },
  {
   "cell_type": "code",
   "execution_count": 5,
   "id": "63751ebd",
   "metadata": {},
   "outputs": [],
   "source": [
    "lat, lon = 40.785, 24.489\n",
    "output_dir='test_{}_{}'.format(lat,lon)\n",
    "if lon<=25:\n",
    "    raw_crs = 'epsg:32634'\n",
    "else:\n",
    "    raw_crs = 'epsg:32635'\n",
    "date = 'NOW'"
   ]
  },
  {
   "cell_type": "code",
   "execution_count": 6,
   "id": "c02014ec",
   "metadata": {},
   "outputs": [],
   "source": [
    "bb = [lon-0.01, lat-0.01, lon+0.01, lat+0.01]"
   ]
  },
  {
   "cell_type": "code",
   "execution_count": 7,
   "id": "fb2faf17",
   "metadata": {},
   "outputs": [],
   "source": [
    "footprint = f'POLYGON(({bb[0]} {bb[1]},{bb[2]} {bb[1]},' \\\n",
    "            f'{bb[2]} {bb[3]},{bb[0]} {bb[3]},' \\\n",
    "            f'{bb[0]} {bb[1]}))'"
   ]
  },
  {
   "cell_type": "code",
   "execution_count": 8,
   "id": "4bbb38a5",
   "metadata": {},
   "outputs": [],
   "source": [
    "api = SentinelAPI('stelgirt', ' ', 'https://scihub.copernicus.eu/dhus')\n"
   ]
  },
  {
   "cell_type": "code",
   "execution_count": 9,
   "id": "4cbe1a79",
   "metadata": {},
   "outputs": [
    {
     "name": "stdout",
     "output_type": "stream",
     "text": [
      "now\n"
     ]
    },
    {
     "ename": "ServerError",
     "evalue": "HTTP status 200 OK: \nThe Sentinels Scientific Data Hub\n\n# Copernicus Sentinel Data is now available on the Copernicus Data Space\nEcosystem\n\n[https://dataspace.copernicus.eu](https://dataspace.copernicus.eu/)",
     "output_type": "error",
     "traceback": [
      "\u001b[0;31m---------------------------------------------------------------------------\u001b[0m",
      "\u001b[0;31mJSONDecodeError\u001b[0m                           Traceback (most recent call last)",
      "File \u001b[0;32m~/miniconda3/envs/fire_ffp/lib/python3.9/site-packages/requests/models.py:971\u001b[0m, in \u001b[0;36mResponse.json\u001b[0;34m(self, **kwargs)\u001b[0m\n\u001b[1;32m    970\u001b[0m \u001b[38;5;28;01mtry\u001b[39;00m:\n\u001b[0;32m--> 971\u001b[0m     \u001b[38;5;28;01mreturn\u001b[39;00m \u001b[43mcomplexjson\u001b[49m\u001b[38;5;241;43m.\u001b[39;49m\u001b[43mloads\u001b[49m\u001b[43m(\u001b[49m\u001b[38;5;28;43mself\u001b[39;49m\u001b[38;5;241;43m.\u001b[39;49m\u001b[43mtext\u001b[49m\u001b[43m,\u001b[49m\u001b[43m \u001b[49m\u001b[38;5;241;43m*\u001b[39;49m\u001b[38;5;241;43m*\u001b[39;49m\u001b[43mkwargs\u001b[49m\u001b[43m)\u001b[49m\n\u001b[1;32m    972\u001b[0m \u001b[38;5;28;01mexcept\u001b[39;00m JSONDecodeError \u001b[38;5;28;01mas\u001b[39;00m e:\n\u001b[1;32m    973\u001b[0m     \u001b[38;5;66;03m# Catch JSON-related errors and raise as requests.JSONDecodeError\u001b[39;00m\n\u001b[1;32m    974\u001b[0m     \u001b[38;5;66;03m# This aliases json.JSONDecodeError and simplejson.JSONDecodeError\u001b[39;00m\n",
      "File \u001b[0;32m~/miniconda3/envs/fire_ffp/lib/python3.9/json/__init__.py:346\u001b[0m, in \u001b[0;36mloads\u001b[0;34m(s, cls, object_hook, parse_float, parse_int, parse_constant, object_pairs_hook, **kw)\u001b[0m\n\u001b[1;32m    343\u001b[0m \u001b[38;5;28;01mif\u001b[39;00m (\u001b[38;5;28mcls\u001b[39m \u001b[38;5;129;01mis\u001b[39;00m \u001b[38;5;28;01mNone\u001b[39;00m \u001b[38;5;129;01mand\u001b[39;00m object_hook \u001b[38;5;129;01mis\u001b[39;00m \u001b[38;5;28;01mNone\u001b[39;00m \u001b[38;5;129;01mand\u001b[39;00m\n\u001b[1;32m    344\u001b[0m         parse_int \u001b[38;5;129;01mis\u001b[39;00m \u001b[38;5;28;01mNone\u001b[39;00m \u001b[38;5;129;01mand\u001b[39;00m parse_float \u001b[38;5;129;01mis\u001b[39;00m \u001b[38;5;28;01mNone\u001b[39;00m \u001b[38;5;129;01mand\u001b[39;00m\n\u001b[1;32m    345\u001b[0m         parse_constant \u001b[38;5;129;01mis\u001b[39;00m \u001b[38;5;28;01mNone\u001b[39;00m \u001b[38;5;129;01mand\u001b[39;00m object_pairs_hook \u001b[38;5;129;01mis\u001b[39;00m \u001b[38;5;28;01mNone\u001b[39;00m \u001b[38;5;129;01mand\u001b[39;00m \u001b[38;5;129;01mnot\u001b[39;00m kw):\n\u001b[0;32m--> 346\u001b[0m     \u001b[38;5;28;01mreturn\u001b[39;00m \u001b[43m_default_decoder\u001b[49m\u001b[38;5;241;43m.\u001b[39;49m\u001b[43mdecode\u001b[49m\u001b[43m(\u001b[49m\u001b[43ms\u001b[49m\u001b[43m)\u001b[49m\n\u001b[1;32m    347\u001b[0m \u001b[38;5;28;01mif\u001b[39;00m \u001b[38;5;28mcls\u001b[39m \u001b[38;5;129;01mis\u001b[39;00m \u001b[38;5;28;01mNone\u001b[39;00m:\n",
      "File \u001b[0;32m~/miniconda3/envs/fire_ffp/lib/python3.9/json/decoder.py:337\u001b[0m, in \u001b[0;36mJSONDecoder.decode\u001b[0;34m(self, s, _w)\u001b[0m\n\u001b[1;32m    333\u001b[0m \u001b[38;5;124;03m\"\"\"Return the Python representation of ``s`` (a ``str`` instance\u001b[39;00m\n\u001b[1;32m    334\u001b[0m \u001b[38;5;124;03mcontaining a JSON document).\u001b[39;00m\n\u001b[1;32m    335\u001b[0m \n\u001b[1;32m    336\u001b[0m \u001b[38;5;124;03m\"\"\"\u001b[39;00m\n\u001b[0;32m--> 337\u001b[0m obj, end \u001b[38;5;241m=\u001b[39m \u001b[38;5;28;43mself\u001b[39;49m\u001b[38;5;241;43m.\u001b[39;49m\u001b[43mraw_decode\u001b[49m\u001b[43m(\u001b[49m\u001b[43ms\u001b[49m\u001b[43m,\u001b[49m\u001b[43m \u001b[49m\u001b[43midx\u001b[49m\u001b[38;5;241;43m=\u001b[39;49m\u001b[43m_w\u001b[49m\u001b[43m(\u001b[49m\u001b[43ms\u001b[49m\u001b[43m,\u001b[49m\u001b[43m \u001b[49m\u001b[38;5;241;43m0\u001b[39;49m\u001b[43m)\u001b[49m\u001b[38;5;241;43m.\u001b[39;49m\u001b[43mend\u001b[49m\u001b[43m(\u001b[49m\u001b[43m)\u001b[49m\u001b[43m)\u001b[49m\n\u001b[1;32m    338\u001b[0m end \u001b[38;5;241m=\u001b[39m _w(s, end)\u001b[38;5;241m.\u001b[39mend()\n",
      "File \u001b[0;32m~/miniconda3/envs/fire_ffp/lib/python3.9/json/decoder.py:355\u001b[0m, in \u001b[0;36mJSONDecoder.raw_decode\u001b[0;34m(self, s, idx)\u001b[0m\n\u001b[1;32m    354\u001b[0m \u001b[38;5;28;01mexcept\u001b[39;00m \u001b[38;5;167;01mStopIteration\u001b[39;00m \u001b[38;5;28;01mas\u001b[39;00m err:\n\u001b[0;32m--> 355\u001b[0m     \u001b[38;5;28;01mraise\u001b[39;00m JSONDecodeError(\u001b[38;5;124m\"\u001b[39m\u001b[38;5;124mExpecting value\u001b[39m\u001b[38;5;124m\"\u001b[39m, s, err\u001b[38;5;241m.\u001b[39mvalue) \u001b[38;5;28;01mfrom\u001b[39;00m \u001b[38;5;28mNone\u001b[39m\n\u001b[1;32m    356\u001b[0m \u001b[38;5;28;01mreturn\u001b[39;00m obj, end\n",
      "\u001b[0;31mJSONDecodeError\u001b[0m: Expecting value: line 1 column 1 (char 0)",
      "\nDuring handling of the above exception, another exception occurred:\n",
      "\u001b[0;31mJSONDecodeError\u001b[0m                           Traceback (most recent call last)",
      "File \u001b[0;32m~/miniconda3/envs/fire_ffp/lib/python3.9/site-packages/sentinelsat/sentinel.py:1025\u001b[0m, in \u001b[0;36mSentinelAPI._check_scihub_response\u001b[0;34m(response, test_json, query_string)\u001b[0m\n\u001b[1;32m   1024\u001b[0m     \u001b[38;5;28;01mif\u001b[39;00m test_json:\n\u001b[0;32m-> 1025\u001b[0m         \u001b[43mresponse\u001b[49m\u001b[38;5;241;43m.\u001b[39;49m\u001b[43mjson\u001b[49m\u001b[43m(\u001b[49m\u001b[43m)\u001b[49m\n\u001b[1;32m   1026\u001b[0m \u001b[38;5;28;01mexcept\u001b[39;00m (requests\u001b[38;5;241m.\u001b[39mHTTPError, \u001b[38;5;167;01mValueError\u001b[39;00m):\n",
      "File \u001b[0;32m~/miniconda3/envs/fire_ffp/lib/python3.9/site-packages/requests/models.py:975\u001b[0m, in \u001b[0;36mResponse.json\u001b[0;34m(self, **kwargs)\u001b[0m\n\u001b[1;32m    972\u001b[0m \u001b[38;5;28;01mexcept\u001b[39;00m JSONDecodeError \u001b[38;5;28;01mas\u001b[39;00m e:\n\u001b[1;32m    973\u001b[0m     \u001b[38;5;66;03m# Catch JSON-related errors and raise as requests.JSONDecodeError\u001b[39;00m\n\u001b[1;32m    974\u001b[0m     \u001b[38;5;66;03m# This aliases json.JSONDecodeError and simplejson.JSONDecodeError\u001b[39;00m\n\u001b[0;32m--> 975\u001b[0m     \u001b[38;5;28;01mraise\u001b[39;00m RequestsJSONDecodeError(e\u001b[38;5;241m.\u001b[39mmsg, e\u001b[38;5;241m.\u001b[39mdoc, e\u001b[38;5;241m.\u001b[39mpos)\n",
      "\u001b[0;31mJSONDecodeError\u001b[0m: Expecting value: line 1 column 1 (char 0)",
      "\nDuring handling of the above exception, another exception occurred:\n",
      "\u001b[0;31mServerError\u001b[0m                               Traceback (most recent call last)",
      "Input \u001b[0;32mIn [9]\u001b[0m, in \u001b[0;36m<cell line: 1>\u001b[0;34m()\u001b[0m\n\u001b[0;32m----> 1\u001b[0m polygon \u001b[38;5;241m=\u001b[39m \u001b[43mrun_sentinel_dnbr\u001b[49m\u001b[43m(\u001b[49m\u001b[43mfootprint\u001b[49m\u001b[43m,\u001b[49m\u001b[43mlat\u001b[49m\u001b[43m,\u001b[49m\u001b[43mlon\u001b[49m\u001b[43m,\u001b[49m\u001b[43moutput_dir\u001b[49m\u001b[43m,\u001b[49m\u001b[43mraw_crs\u001b[49m\u001b[43m,\u001b[49m\u001b[43mdate\u001b[49m\u001b[38;5;241;43m=\u001b[39;49m\u001b[43mdate\u001b[49m\u001b[43m)\u001b[49m\n",
      "Input \u001b[0;32mIn [4]\u001b[0m, in \u001b[0;36mrun_sentinel_dnbr\u001b[0;34m(footprint, lat, lon, output_dir, raw_crs, date)\u001b[0m\n\u001b[1;32m      3\u001b[0m     \u001b[38;5;28mprint\u001b[39m(\u001b[38;5;124m'\u001b[39m\u001b[38;5;124mnow\u001b[39m\u001b[38;5;124m'\u001b[39m)\n\u001b[1;32m      4\u001b[0m     \u001b[38;5;66;03m#POST FIRE\u001b[39;00m\n\u001b[0;32m----> 5\u001b[0m     products \u001b[38;5;241m=\u001b[39m \u001b[43mapi\u001b[49m\u001b[38;5;241;43m.\u001b[39;49m\u001b[43mquery\u001b[49m\u001b[43m(\u001b[49m\u001b[43mfootprint\u001b[49m\u001b[43m,\u001b[49m\u001b[43m \u001b[49m\u001b[43mdate\u001b[49m\u001b[38;5;241;43m=\u001b[39;49m\u001b[43m(\u001b[49m\u001b[38;5;124;43m'\u001b[39;49m\u001b[38;5;124;43mNOW-15DAYS\u001b[39;49m\u001b[38;5;124;43m'\u001b[39;49m\u001b[43m,\u001b[49m\u001b[43m \u001b[49m\u001b[38;5;124;43m'\u001b[39;49m\u001b[38;5;124;43mNOW-5DAYS\u001b[39;49m\u001b[38;5;124;43m'\u001b[39;49m\u001b[43m)\u001b[49m\u001b[43m,\u001b[49m\u001b[43m \u001b[49m\u001b[43mplatformname\u001b[49m\u001b[38;5;241;43m=\u001b[39;49m\u001b[38;5;124;43m'\u001b[39;49m\u001b[38;5;124;43mSentinel-2\u001b[39;49m\u001b[38;5;124;43m'\u001b[39;49m\u001b[43m,\u001b[49m\n\u001b[1;32m      6\u001b[0m \u001b[43m                     \u001b[49m\u001b[43mprocessinglevel\u001b[49m\u001b[38;5;241;43m=\u001b[39;49m\u001b[38;5;124;43m'\u001b[39;49m\u001b[38;5;124;43mLevel-1C\u001b[39;49m\u001b[38;5;124;43m'\u001b[39;49m\u001b[43m,\u001b[49m\u001b[43m \u001b[49m\u001b[43mcloudcoverpercentage\u001b[49m\u001b[38;5;241;43m=\u001b[39;49m\u001b[43m(\u001b[49m\u001b[38;5;241;43m0\u001b[39;49m\u001b[43m,\u001b[49m\u001b[43m \u001b[49m\u001b[38;5;241;43m20\u001b[39;49m\u001b[43m)\u001b[49m\u001b[43m)\u001b[49m\n\u001b[1;32m      7\u001b[0m \u001b[38;5;28;01melse\u001b[39;00m:\n\u001b[1;32m      8\u001b[0m     end_date \u001b[38;5;241m=\u001b[39m date\n",
      "File \u001b[0;32m~/miniconda3/envs/fire_ffp/lib/python3.9/site-packages/sentinelsat/sentinel.py:282\u001b[0m, in \u001b[0;36mSentinelAPI.query\u001b[0;34m(self, area, date, raw, area_relation, order_by, limit, offset, **keywords)\u001b[0m\n\u001b[1;32m    274\u001b[0m \u001b[38;5;28mself\u001b[39m\u001b[38;5;241m.\u001b[39mlogger\u001b[38;5;241m.\u001b[39mdebug(\n\u001b[1;32m    275\u001b[0m     \u001b[38;5;124m\"\u001b[39m\u001b[38;5;124mRunning query: order_by=\u001b[39m\u001b[38;5;132;01m%s\u001b[39;00m\u001b[38;5;124m, limit=\u001b[39m\u001b[38;5;132;01m%s\u001b[39;00m\u001b[38;5;124m, offset=\u001b[39m\u001b[38;5;132;01m%s\u001b[39;00m\u001b[38;5;124m, query=\u001b[39m\u001b[38;5;132;01m%s\u001b[39;00m\u001b[38;5;124m\"\u001b[39m,\n\u001b[1;32m    276\u001b[0m     order_by,\n\u001b[0;32m   (...)\u001b[0m\n\u001b[1;32m    279\u001b[0m     query,\n\u001b[1;32m    280\u001b[0m )\n\u001b[1;32m    281\u001b[0m formatted_order_by \u001b[38;5;241m=\u001b[39m _format_order_by(order_by)\n\u001b[0;32m--> 282\u001b[0m response, count \u001b[38;5;241m=\u001b[39m \u001b[38;5;28;43mself\u001b[39;49m\u001b[38;5;241;43m.\u001b[39;49m\u001b[43m_load_query\u001b[49m\u001b[43m(\u001b[49m\u001b[43mquery\u001b[49m\u001b[43m,\u001b[49m\u001b[43m \u001b[49m\u001b[43mformatted_order_by\u001b[49m\u001b[43m,\u001b[49m\u001b[43m \u001b[49m\u001b[43mlimit\u001b[49m\u001b[43m,\u001b[49m\u001b[43m \u001b[49m\u001b[43moffset\u001b[49m\u001b[43m)\u001b[49m\n\u001b[1;32m    283\u001b[0m \u001b[38;5;28mself\u001b[39m\u001b[38;5;241m.\u001b[39mlogger\u001b[38;5;241m.\u001b[39minfo(\u001b[38;5;124mf\u001b[39m\u001b[38;5;124m\"\u001b[39m\u001b[38;5;124mFound \u001b[39m\u001b[38;5;132;01m{\u001b[39;00mcount\u001b[38;5;132;01m:\u001b[39;00m\u001b[38;5;124m,\u001b[39m\u001b[38;5;132;01m}\u001b[39;00m\u001b[38;5;124m products\u001b[39m\u001b[38;5;124m\"\u001b[39m)\n\u001b[1;32m    284\u001b[0m \u001b[38;5;28;01mreturn\u001b[39;00m _parse_opensearch_response(response)\n",
      "File \u001b[0;32m~/miniconda3/envs/fire_ffp/lib/python3.9/site-packages/sentinelsat/sentinel.py:355\u001b[0m, in \u001b[0;36mSentinelAPI._load_query\u001b[0;34m(self, query, order_by, limit, offset)\u001b[0m\n\u001b[1;32m    354\u001b[0m \u001b[38;5;28;01mdef\u001b[39;00m \u001b[38;5;21m_load_query\u001b[39m(\u001b[38;5;28mself\u001b[39m, query, order_by\u001b[38;5;241m=\u001b[39m\u001b[38;5;28;01mNone\u001b[39;00m, limit\u001b[38;5;241m=\u001b[39m\u001b[38;5;28;01mNone\u001b[39;00m, offset\u001b[38;5;241m=\u001b[39m\u001b[38;5;241m0\u001b[39m):\n\u001b[0;32m--> 355\u001b[0m     products, count \u001b[38;5;241m=\u001b[39m \u001b[38;5;28;43mself\u001b[39;49m\u001b[38;5;241;43m.\u001b[39;49m\u001b[43m_load_subquery\u001b[49m\u001b[43m(\u001b[49m\u001b[43mquery\u001b[49m\u001b[43m,\u001b[49m\u001b[43m \u001b[49m\u001b[43morder_by\u001b[49m\u001b[43m,\u001b[49m\u001b[43m \u001b[49m\u001b[43mlimit\u001b[49m\u001b[43m,\u001b[49m\u001b[43m \u001b[49m\u001b[43moffset\u001b[49m\u001b[43m)\u001b[49m\n\u001b[1;32m    357\u001b[0m     \u001b[38;5;66;03m# repeat query until all results have been loaded\u001b[39;00m\n\u001b[1;32m    358\u001b[0m     max_offset \u001b[38;5;241m=\u001b[39m count\n",
      "File \u001b[0;32m~/miniconda3/envs/fire_ffp/lib/python3.9/site-packages/sentinelsat/sentinel.py:389\u001b[0m, in \u001b[0;36mSentinelAPI._load_subquery\u001b[0;34m(self, query, order_by, limit, offset)\u001b[0m\n\u001b[1;32m    387\u001b[0m \u001b[38;5;28;01mwith\u001b[39;00m \u001b[38;5;28mself\u001b[39m\u001b[38;5;241m.\u001b[39mdl_limit_semaphore:\n\u001b[1;32m    388\u001b[0m     response \u001b[38;5;241m=\u001b[39m \u001b[38;5;28mself\u001b[39m\u001b[38;5;241m.\u001b[39msession\u001b[38;5;241m.\u001b[39mget(url, params\u001b[38;5;241m=\u001b[39m{\u001b[38;5;124m\"\u001b[39m\u001b[38;5;124mq\u001b[39m\u001b[38;5;124m\"\u001b[39m: query\u001b[38;5;241m.\u001b[39mencode(\u001b[38;5;124m\"\u001b[39m\u001b[38;5;124mlatin1\u001b[39m\u001b[38;5;124m\"\u001b[39m)})\n\u001b[0;32m--> 389\u001b[0m \u001b[38;5;28;43mself\u001b[39;49m\u001b[38;5;241;43m.\u001b[39;49m\u001b[43m_check_scihub_response\u001b[49m\u001b[43m(\u001b[49m\u001b[43mresponse\u001b[49m\u001b[43m,\u001b[49m\u001b[43m \u001b[49m\u001b[43mquery_string\u001b[49m\u001b[38;5;241;43m=\u001b[39;49m\u001b[43mquery\u001b[49m\u001b[43m)\u001b[49m\n\u001b[1;32m    391\u001b[0m \u001b[38;5;66;03m# store last status code (for testing)\u001b[39;00m\n\u001b[1;32m    392\u001b[0m \u001b[38;5;28mself\u001b[39m\u001b[38;5;241m.\u001b[39m_last_response \u001b[38;5;241m=\u001b[39m response\n",
      "File \u001b[0;32m~/miniconda3/envs/fire_ffp/lib/python3.9/site-packages/sentinelsat/sentinel.py:1069\u001b[0m, in \u001b[0;36mSentinelAPI._check_scihub_response\u001b[0;34m(response, test_json, query_string)\u001b[0m\n\u001b[1;32m   1066\u001b[0m     \u001b[38;5;28;01mraise\u001b[39;00m InvalidKeyError(msg, response)\n\u001b[1;32m   1067\u001b[0m \u001b[38;5;28;01melif\u001b[39;00m \u001b[38;5;241m500\u001b[39m \u001b[38;5;241m<\u001b[39m\u001b[38;5;241m=\u001b[39m response\u001b[38;5;241m.\u001b[39mstatus_code \u001b[38;5;241m<\u001b[39m \u001b[38;5;241m600\u001b[39m \u001b[38;5;129;01mor\u001b[39;00m msg:\n\u001b[1;32m   1068\u001b[0m     \u001b[38;5;66;03m# 5xx: Server Error\u001b[39;00m\n\u001b[0;32m-> 1069\u001b[0m     \u001b[38;5;28;01mraise\u001b[39;00m ServerError(msg, response)\n\u001b[1;32m   1070\u001b[0m \u001b[38;5;28;01melse\u001b[39;00m:\n\u001b[1;32m   1071\u001b[0m     \u001b[38;5;28;01mraise\u001b[39;00m SentinelAPIError(msg, response)\n",
      "\u001b[0;31mServerError\u001b[0m: HTTP status 200 OK: \nThe Sentinels Scientific Data Hub\n\n# Copernicus Sentinel Data is now available on the Copernicus Data Space\nEcosystem\n\n[https://dataspace.copernicus.eu](https://dataspace.copernicus.eu/)"
     ]
    }
   ],
   "source": [
    "polygon = run_sentinel_dnbr(footprint,lat,lon,output_dir,raw_crs,date=date)"
   ]
  },
  {
   "cell_type": "markdown",
   "id": "660f7d45",
   "metadata": {},
   "source": [
    "# Create rgb"
   ]
  },
  {
   "cell_type": "code",
   "execution_count": 10,
   "id": "b5eb46c4",
   "metadata": {},
   "outputs": [],
   "source": [
    "safe_dir = '/home/sg/Projects/fires2023/arioxvri_37.1815_21.8722/S2B_MSIL1C_20230821T091559_N0509_R093_T34SEG_20230821T112732/S2B_MSIL1C_20230821T091559_N0509_R093_T34SEG_20230821T112732.SAFE'"
   ]
  },
  {
   "cell_type": "code",
   "execution_count": 11,
   "id": "296bedce",
   "metadata": {},
   "outputs": [],
   "source": [
    "output_dir= '/home/sg/Projects/fires2023/arioxvri_37.1815_21.8722/'"
   ]
  },
  {
   "cell_type": "code",
   "execution_count": 12,
   "id": "539a86ca",
   "metadata": {},
   "outputs": [],
   "source": [
    "lat, lon = 37.1815, 21.8722\n",
    "bb_crop = [lon-0.1, lat-0.1, lon+0.1, lat+0.1]"
   ]
  },
  {
   "cell_type": "code",
   "execution_count": 13,
   "id": "b9f34e23",
   "metadata": {},
   "outputs": [],
   "source": [
    "band4_path_pattern = os.path.join(safe_dir, 'GRANULE', '*', 'IMG_DATA', '*_B04.jp2')\n",
    "band3_path_pattern = os.path.join(safe_dir, 'GRANULE', '*', 'IMG_DATA', '*_B03.jp2')\n",
    "band2_path_pattern = os.path.join(safe_dir, 'GRANULE', '*', 'IMG_DATA', '*_B02.jp2')\n",
    "\n",
    "band4_path = glob.glob(band4_path_pattern)[0]\n",
    "band3_path = glob.glob(band3_path_pattern)[0]\n",
    "band2_path = glob.glob(band2_path_pattern)[0]"
   ]
  },
  {
   "cell_type": "code",
   "execution_count": 14,
   "id": "cb3c8737",
   "metadata": {},
   "outputs": [],
   "source": [
    "band4 = xr.open_dataset(band4_path)\n",
    "band3 = xr.open_dataset(band3_path)\n",
    "band2 = xr.open_dataset(band2_path)"
   ]
  },
  {
   "cell_type": "code",
   "execution_count": 15,
   "id": "a1e08d7f",
   "metadata": {},
   "outputs": [],
   "source": [
    "command = 'gdalbuildvrt -separate {}rgb.vrt {} {} {}'.format(output_dir, band4_path,band3_path,band2_path)"
   ]
  },
  {
   "cell_type": "code",
   "execution_count": 16,
   "id": "d6a02aaa",
   "metadata": {},
   "outputs": [
    {
     "name": "stdout",
     "output_type": "stream",
     "text": [
      "0...10...20...30...40...50...60...70...80...90...100 - done.\n"
     ]
    },
    {
     "data": {
      "text/plain": [
       "0"
      ]
     },
     "execution_count": 16,
     "metadata": {},
     "output_type": "execute_result"
    }
   ],
   "source": [
    "os.system(command)"
   ]
  },
  {
   "cell_type": "code",
   "execution_count": 17,
   "id": "89fb6058",
   "metadata": {},
   "outputs": [],
   "source": [
    "command = 'gdal_translate {}rgb.vrt {}out.jpg'.format(output_dir,output_dir)"
   ]
  },
  {
   "cell_type": "code",
   "execution_count": 18,
   "id": "ad8094df",
   "metadata": {},
   "outputs": [
    {
     "name": "stdout",
     "output_type": "stream",
     "text": [
      "Input file size is 10980, 10980\n",
      "0"
     ]
    },
    {
     "name": "stderr",
     "output_type": "stream",
     "text": [
      "Warning 1: One or more pixels clipped to fit 12bit domain for jpeg output.\n"
     ]
    },
    {
     "name": "stdout",
     "output_type": "stream",
     "text": [
      "...10...20...30...40...50...60...70...80...90...100 - done.\n"
     ]
    },
    {
     "data": {
      "text/plain": [
       "0"
      ]
     },
     "execution_count": 18,
     "metadata": {},
     "output_type": "execute_result"
    }
   ],
   "source": [
    "os.system(command)"
   ]
  },
  {
   "cell_type": "code",
   "execution_count": 19,
   "id": "b6d07628",
   "metadata": {},
   "outputs": [],
   "source": [
    "command = 'gdal_merge.py -separate -o {}rgb_composite.tif {} {} {}'.format(output_dir, band4_path,band3_path,band2_path)"
   ]
  },
  {
   "cell_type": "code",
   "execution_count": 20,
   "id": "3f1ffb16",
   "metadata": {},
   "outputs": [
    {
     "name": "stdout",
     "output_type": "stream",
     "text": [
      "0...10...20...30...40...50...60...70...80...90...100 - done.\n"
     ]
    },
    {
     "data": {
      "text/plain": [
       "0"
      ]
     },
     "execution_count": 20,
     "metadata": {},
     "output_type": "execute_result"
    }
   ],
   "source": [
    "os.system(command)"
   ]
  },
  {
   "cell_type": "code",
   "execution_count": null,
   "id": "2103d239",
   "metadata": {},
   "outputs": [],
   "source": []
  },
  {
   "cell_type": "code",
   "execution_count": 11,
   "id": "15485a0e",
   "metadata": {},
   "outputs": [],
   "source": [
    "safe_dir = '/home/sg/Projects/fires2023/arioxvri_37.1815_21.8722/S2B_MSIL1C_20230910T091559_N0509_R093_T34SEG_20230910T115323/S2B_MSIL1C_20230910T091559_N0509_R093_T34SEG_20230910T115323.SAFE'\n",
    "output_dir= '/home/sg/Projects/fires2023/arioxvri_37.1815_21.8722/'"
   ]
  },
  {
   "cell_type": "code",
   "execution_count": 12,
   "id": "c1f802be",
   "metadata": {},
   "outputs": [],
   "source": [
    "lat, lon = 37.1815, 21.8722\n",
    "bb_crop = [lon-0.1, lat-0.1, lon+0.1, lat+0.1]"
   ]
  },
  {
   "cell_type": "code",
   "execution_count": 13,
   "id": "e90d66e4",
   "metadata": {},
   "outputs": [],
   "source": [
    "band4_path_pattern = os.path.join(safe_dir, 'GRANULE', '*', 'IMG_DATA', '*_B04.jp2')\n",
    "band3_path_pattern = os.path.join(safe_dir, 'GRANULE', '*', 'IMG_DATA', '*_B03.jp2')\n",
    "band2_path_pattern = os.path.join(safe_dir, 'GRANULE', '*', 'IMG_DATA', '*_B02.jp2')\n",
    "\n",
    "band4_path = glob.glob(band4_path_pattern)[0]\n",
    "band3_path = glob.glob(band3_path_pattern)[0]\n",
    "band2_path = glob.glob(band2_path_pattern)[0]"
   ]
  },
  {
   "cell_type": "code",
   "execution_count": 14,
   "id": "39efa45e",
   "metadata": {},
   "outputs": [],
   "source": [
    "band4 = xr.open_dataset(band4_path)\n",
    "band3 = xr.open_dataset(band3_path)\n",
    "band2 = xr.open_dataset(band2_path)"
   ]
  },
  {
   "cell_type": "code",
   "execution_count": 15,
   "id": "3e0510b1",
   "metadata": {},
   "outputs": [
    {
     "name": "stdout",
     "output_type": "stream",
     "text": [
      "0...10...20...30...40...50...60...70...80...90...100 - done.\n"
     ]
    },
    {
     "data": {
      "text/plain": [
       "0"
      ]
     },
     "execution_count": 15,
     "metadata": {},
     "output_type": "execute_result"
    }
   ],
   "source": [
    "command = 'gdalbuildvrt -separate {}rgb.vrt {} {} {}'.format(output_dir, band4_path,band3_path,band2_path)\n",
    "os.system(command)"
   ]
  },
  {
   "cell_type": "code",
   "execution_count": 16,
   "id": "822e5f97",
   "metadata": {},
   "outputs": [
    {
     "name": "stdout",
     "output_type": "stream",
     "text": [
      "Input file size is 10980, 10980\n",
      "0"
     ]
    },
    {
     "name": "stderr",
     "output_type": "stream",
     "text": [
      "Warning 1: One or more pixels clipped to fit 12bit domain for jpeg output.\n"
     ]
    },
    {
     "name": "stdout",
     "output_type": "stream",
     "text": [
      "...10...20...30...40...50...60...70...80...90...100 - done.\n"
     ]
    },
    {
     "data": {
      "text/plain": [
       "0"
      ]
     },
     "execution_count": 16,
     "metadata": {},
     "output_type": "execute_result"
    }
   ],
   "source": [
    "command = 'gdal_translate {}rgb.vrt {}out.jpg'.format(output_dir,output_dir)\n",
    "os.system(command)"
   ]
  },
  {
   "cell_type": "code",
   "execution_count": 17,
   "id": "aaa951e7",
   "metadata": {},
   "outputs": [
    {
     "name": "stdout",
     "output_type": "stream",
     "text": [
      "0...10...20...30...40...50...60...70...80...90...100 - done.\n"
     ]
    },
    {
     "data": {
      "text/plain": [
       "0"
      ]
     },
     "execution_count": 17,
     "metadata": {},
     "output_type": "execute_result"
    }
   ],
   "source": [
    "command = 'gdal_merge.py -separate -o {}rgb_composite_post.tif {} {} {}'.format(output_dir, band4_path,band3_path,band2_path)\n",
    "os.system(command)"
   ]
  },
  {
   "cell_type": "markdown",
   "id": "8516c91b",
   "metadata": {},
   "source": [
    "# Create false color"
   ]
  },
  {
   "cell_type": "code",
   "execution_count": 28,
   "id": "c5fc95ee",
   "metadata": {},
   "outputs": [],
   "source": [
    "safe_dir = '/home/sg/Projects/fires2023/kilkis_41.1421_22.6327/S2A_MSIL1C_20230826T092031_N0509_R093_T34TFL_20230826T113242/S2A_MSIL1C_20230826T092031_N0509_R093_T34TFL_20230826T113242.SAFE'\n",
    "output_dir= '/home/sg/Projects/fires2023/kilkis_41.1421_22.6327/'"
   ]
  },
  {
   "cell_type": "code",
   "execution_count": 29,
   "id": "6456f33f",
   "metadata": {},
   "outputs": [],
   "source": [
    "band12_path_pattern = os.path.join(safe_dir, 'GRANULE', '*', 'IMG_DATA', '*_B12.jp2')\n",
    "band11_path_pattern = os.path.join(safe_dir, 'GRANULE', '*', 'IMG_DATA', '*_B11.jp2')\n",
    "band4_path_pattern = os.path.join(safe_dir, 'GRANULE', '*', 'IMG_DATA', '*_B04.jp2')\n",
    "\n",
    "band12_path = glob.glob(band12_path_pattern)[0]\n",
    "band11_path = glob.glob(band11_path_pattern)[0]\n",
    "band4_path = glob.glob(band4_path_pattern)[0]"
   ]
  },
  {
   "cell_type": "code",
   "execution_count": 30,
   "id": "ab70a5f1",
   "metadata": {},
   "outputs": [],
   "source": [
    "band12 = xr.open_dataset(band12_path)\n",
    "band11 = xr.open_dataset(band11_path)\n",
    "band4 = xr.open_dataset(band4_path)"
   ]
  },
  {
   "cell_type": "code",
   "execution_count": 31,
   "id": "797b400a",
   "metadata": {},
   "outputs": [
    {
     "name": "stdout",
     "output_type": "stream",
     "text": [
      "0...10...20...30...40...50...60...70...80...90...100 - done.\n",
      "Input file size is 6588, 6588\n",
      "0"
     ]
    },
    {
     "name": "stderr",
     "output_type": "stream",
     "text": [
      "Warning 1: One or more pixels clipped to fit 12bit domain for jpeg output.\n"
     ]
    },
    {
     "name": "stdout",
     "output_type": "stream",
     "text": [
      "...10...20...30...40...50...60...70...80...90...100 - done.\n",
      "0...10...20...30...40...50...60...70...80...90...100 - done.\n"
     ]
    },
    {
     "data": {
      "text/plain": [
       "0"
      ]
     },
     "execution_count": 31,
     "metadata": {},
     "output_type": "execute_result"
    }
   ],
   "source": [
    "command = 'gdalbuildvrt -separate {}false_color_pre.vrt {} {} {}'.format(output_dir, band12_path,band11_path,band4_path)\n",
    "os.system(command)\n",
    "command = 'gdal_translate {}false_color_pre.vrt {}out_pre.jpg'.format(output_dir,output_dir)\n",
    "os.system(command)\n",
    "command = 'gdal_merge.py -separate -o {}false_color_composite_pre.tif {} {} {}'.format(output_dir, band12_path,band11_path,band4_path)\n",
    "os.system(command)"
   ]
  },
  {
   "cell_type": "code",
   "execution_count": null,
   "id": "55348ca2",
   "metadata": {},
   "outputs": [],
   "source": []
  },
  {
   "cell_type": "code",
   "execution_count": 18,
   "id": "f561212d",
   "metadata": {},
   "outputs": [],
   "source": [
    "safe_dir = '/home/sg/Projects/fires2023/arioxvri_37.1815_21.8722/S2B_MSIL1C_20230910T091559_N0509_R093_T34SEG_20230910T115323/S2B_MSIL1C_20230910T091559_N0509_R093_T34SEG_20230910T115323.SAFE'\n",
    "output_dir= '/home/sg/Projects/fires2023/arioxvri_37.1815_21.8722/'"
   ]
  },
  {
   "cell_type": "code",
   "execution_count": 19,
   "id": "e9387734",
   "metadata": {},
   "outputs": [],
   "source": [
    "band12_path_pattern = os.path.join(safe_dir, 'GRANULE', '*', 'IMG_DATA', '*_B12.jp2')\n",
    "band11_path_pattern = os.path.join(safe_dir, 'GRANULE', '*', 'IMG_DATA', '*_B11.jp2')\n",
    "band4_path_pattern = os.path.join(safe_dir, 'GRANULE', '*', 'IMG_DATA', '*_B04.jp2')\n",
    "\n",
    "band12_path = glob.glob(band12_path_pattern)[0]\n",
    "band11_path = glob.glob(band11_path_pattern)[0]\n",
    "band4_path = glob.glob(band4_path_pattern)[0]"
   ]
  },
  {
   "cell_type": "code",
   "execution_count": 20,
   "id": "40db7603",
   "metadata": {},
   "outputs": [],
   "source": [
    "band12 = xr.open_dataset(band12_path)\n",
    "band11 = xr.open_dataset(band11_path)\n",
    "band4 = xr.open_dataset(band4_path)"
   ]
  },
  {
   "cell_type": "code",
   "execution_count": 21,
   "id": "20b17fd6",
   "metadata": {},
   "outputs": [
    {
     "name": "stdout",
     "output_type": "stream",
     "text": [
      "0...10...20...30...40...50...60...70...80...90...100 - done.\n",
      "Input file size is 6588, 6588\n",
      "0"
     ]
    },
    {
     "name": "stderr",
     "output_type": "stream",
     "text": [
      "Warning 1: One or more pixels clipped to fit 12bit domain for jpeg output.\n"
     ]
    },
    {
     "name": "stdout",
     "output_type": "stream",
     "text": [
      "...10...20...30...40...50...60...70...80...90...100 - done.\n",
      "0...10...20...30...40...50...60...70...80...90...100 - done.\n"
     ]
    },
    {
     "data": {
      "text/plain": [
       "0"
      ]
     },
     "execution_count": 21,
     "metadata": {},
     "output_type": "execute_result"
    }
   ],
   "source": [
    "command = 'gdalbuildvrt -separate {}false_color_post.vrt {} {} {}'.format(output_dir, band12_path,band11_path,band4_path)\n",
    "os.system(command)\n",
    "command = 'gdal_translate {}false_color_post.vrt {}out_post.jpg'.format(output_dir,output_dir)\n",
    "os.system(command)\n",
    "command = 'gdal_merge.py -separate -o {}false_color_composite_post.tif {} {} {}'.format(output_dir, band12_path,band11_path,band4_path)\n",
    "os.system(command)"
   ]
  },
  {
   "cell_type": "markdown",
   "id": "8011755f",
   "metadata": {},
   "source": [
    "# comparison"
   ]
  },
  {
   "cell_type": "code",
   "execution_count": 178,
   "id": "606f8b52",
   "metadata": {},
   "outputs": [],
   "source": [
    "img1 = '/home/sg/Projects/fires2023/andros_pre.jpeg'\n",
    "img2 = \"/home/sg/Projects/fires2023/andros_post.jpeg\""
   ]
  },
  {
   "cell_type": "code",
   "execution_count": 179,
   "id": "1484860e",
   "metadata": {
    "collapsed": true
   },
   "outputs": [
    {
     "ename": "ImportError",
     "evalue": "Please run 'pip install -U scikit-image imagecodecs' for large image handling.",
     "output_type": "error",
     "traceback": [
      "\u001b[0;31m---------------------------------------------------------------------------\u001b[0m",
      "\u001b[0;31mFileNotFoundError\u001b[0m                         Traceback (most recent call last)",
      "File \u001b[0;32m~/miniconda3/envs/fire_ffp/lib/python3.9/site-packages/leafmap/common.py:9024\u001b[0m, in \u001b[0;36mimage_comparison.<locals>.read_image_as_pil\u001b[0;34m(image, exif_fix)\u001b[0m\n\u001b[1;32m   9023\u001b[0m \u001b[38;5;28;01mtry\u001b[39;00m:\n\u001b[0;32m-> 9024\u001b[0m     image_pil \u001b[38;5;241m=\u001b[39m \u001b[43mImage\u001b[49m\u001b[38;5;241;43m.\u001b[39;49m\u001b[43mopen\u001b[49m\u001b[43m(\u001b[49m\n\u001b[1;32m   9025\u001b[0m \u001b[43m        \u001b[49m\u001b[43mrequests\u001b[49m\u001b[38;5;241;43m.\u001b[39;49m\u001b[43mget\u001b[49m\u001b[43m(\u001b[49m\u001b[43mimage\u001b[49m\u001b[43m,\u001b[49m\u001b[43m \u001b[49m\u001b[43mstream\u001b[49m\u001b[38;5;241;43m=\u001b[39;49m\u001b[38;5;28;43;01mTrue\u001b[39;49;00m\u001b[43m)\u001b[49m\u001b[38;5;241;43m.\u001b[39;49m\u001b[43mraw\u001b[49m\n\u001b[1;32m   9026\u001b[0m \u001b[43m        \u001b[49m\u001b[38;5;28;43;01mif\u001b[39;49;00m\u001b[43m \u001b[49m\u001b[38;5;28;43mstr\u001b[39;49m\u001b[43m(\u001b[49m\u001b[43mimage\u001b[49m\u001b[43m)\u001b[49m\u001b[38;5;241;43m.\u001b[39;49m\u001b[43mstartswith\u001b[49m\u001b[43m(\u001b[49m\u001b[38;5;124;43m\"\u001b[39;49m\u001b[38;5;124;43mhttp\u001b[39;49m\u001b[38;5;124;43m\"\u001b[39;49m\u001b[43m)\u001b[49m\n\u001b[1;32m   9027\u001b[0m \u001b[43m        \u001b[49m\u001b[38;5;28;43;01melse\u001b[39;49;00m\u001b[43m \u001b[49m\u001b[43mimage\u001b[49m\n\u001b[1;32m   9028\u001b[0m \u001b[43m    \u001b[49m\u001b[43m)\u001b[49m\u001b[38;5;241m.\u001b[39mconvert(\u001b[38;5;124m\"\u001b[39m\u001b[38;5;124mRGB\u001b[39m\u001b[38;5;124m\"\u001b[39m)\n\u001b[1;32m   9029\u001b[0m     \u001b[38;5;28;01mif\u001b[39;00m exif_fix:\n",
      "File \u001b[0;32m~/miniconda3/envs/fire_ffp/lib/python3.9/site-packages/PIL/Image.py:3227\u001b[0m, in \u001b[0;36mopen\u001b[0;34m(fp, mode, formats)\u001b[0m\n\u001b[1;32m   3226\u001b[0m \u001b[38;5;28;01mif\u001b[39;00m filename:\n\u001b[0;32m-> 3227\u001b[0m     fp \u001b[38;5;241m=\u001b[39m \u001b[43mbuiltins\u001b[49m\u001b[38;5;241;43m.\u001b[39;49m\u001b[43mopen\u001b[49m\u001b[43m(\u001b[49m\u001b[43mfilename\u001b[49m\u001b[43m,\u001b[49m\u001b[43m \u001b[49m\u001b[38;5;124;43m\"\u001b[39;49m\u001b[38;5;124;43mrb\u001b[39;49m\u001b[38;5;124;43m\"\u001b[39;49m\u001b[43m)\u001b[49m\n\u001b[1;32m   3228\u001b[0m     exclusive_fp \u001b[38;5;241m=\u001b[39m \u001b[38;5;28;01mTrue\u001b[39;00m\n",
      "\u001b[0;31mFileNotFoundError\u001b[0m: [Errno 2] No such file or directory: '/home/sg/Projects/fires2023/andros_pre.jpeg'",
      "\nDuring handling of the above exception, another exception occurred:\n",
      "\u001b[0;31mModuleNotFoundError\u001b[0m                       Traceback (most recent call last)",
      "File \u001b[0;32m~/miniconda3/envs/fire_ffp/lib/python3.9/site-packages/leafmap/common.py:9033\u001b[0m, in \u001b[0;36mimage_comparison.<locals>.read_image_as_pil\u001b[0;34m(image, exif_fix)\u001b[0m\n\u001b[1;32m   9032\u001b[0m \u001b[38;5;28;01mtry\u001b[39;00m:\n\u001b[0;32m-> 9033\u001b[0m     \u001b[38;5;28;01mimport\u001b[39;00m \u001b[38;5;21;01mskimage\u001b[39;00m\u001b[38;5;21;01m.\u001b[39;00m\u001b[38;5;21;01mio\u001b[39;00m\n\u001b[1;32m   9034\u001b[0m \u001b[38;5;28;01mexcept\u001b[39;00m \u001b[38;5;167;01mImportError\u001b[39;00m:\n",
      "\u001b[0;31mModuleNotFoundError\u001b[0m: No module named 'skimage'",
      "\nDuring handling of the above exception, another exception occurred:\n",
      "\u001b[0;31mImportError\u001b[0m                               Traceback (most recent call last)",
      "Input \u001b[0;32mIn [179]\u001b[0m, in \u001b[0;36m<cell line: 1>\u001b[0;34m()\u001b[0m\n\u001b[0;32m----> 1\u001b[0m \u001b[43mleafmap\u001b[49m\u001b[38;5;241;43m.\u001b[39;49m\u001b[43mimage_comparison\u001b[49m\u001b[43m(\u001b[49m\n\u001b[1;32m      2\u001b[0m \u001b[43m    \u001b[49m\u001b[43mimg1\u001b[49m\u001b[43m,\u001b[49m\n\u001b[1;32m      3\u001b[0m \u001b[43m    \u001b[49m\u001b[43mimg2\u001b[49m\u001b[43m,\u001b[49m\n\u001b[1;32m      4\u001b[0m \u001b[43m    \u001b[49m\u001b[43mlabel1\u001b[49m\u001b[38;5;241;43m=\u001b[39;49m\u001b[38;5;124;43m'\u001b[39;49m\u001b[38;5;124;43mPre fire\u001b[39;49m\u001b[38;5;124;43m'\u001b[39;49m\u001b[43m,\u001b[49m\n\u001b[1;32m      5\u001b[0m \u001b[43m    \u001b[49m\u001b[43mlabel2\u001b[49m\u001b[38;5;241;43m=\u001b[39;49m\u001b[38;5;124;43m'\u001b[39;49m\u001b[38;5;124;43mPost fire\u001b[39;49m\u001b[38;5;124;43m'\u001b[39;49m\u001b[43m,\u001b[49m\n\u001b[1;32m      6\u001b[0m \u001b[43m    \u001b[49m\u001b[43mstarting_position\u001b[49m\u001b[38;5;241;43m=\u001b[39;49m\u001b[38;5;241;43m50\u001b[39;49m\u001b[43m,\u001b[49m\n\u001b[1;32m      7\u001b[0m \u001b[43m    \u001b[49m\u001b[43mout_html\u001b[49m\u001b[38;5;241;43m=\u001b[39;49m\u001b[38;5;124;43m'\u001b[39;49m\u001b[38;5;124;43mimage_comparison.html\u001b[39;49m\u001b[38;5;124;43m'\u001b[39;49m\u001b[43m,\u001b[49m\n\u001b[1;32m      8\u001b[0m \u001b[43m)\u001b[49m\n",
      "File \u001b[0;32m~/miniconda3/envs/fire_ffp/lib/python3.9/site-packages/leafmap/common.py:9128\u001b[0m, in \u001b[0;36mimage_comparison\u001b[0;34m(img1, img2, label1, label2, width, show_labels, starting_position, make_responsive, in_memory, out_html)\u001b[0m\n\u001b[1;32m   9125\u001b[0m     \u001b[38;5;28;01mreturn\u001b[39;00m base64_src\n\u001b[1;32m   9127\u001b[0m \u001b[38;5;66;03m# Prepare images\u001b[39;00m\n\u001b[0;32m-> 9128\u001b[0m img1_pillow \u001b[38;5;241m=\u001b[39m \u001b[43mread_image_as_pil\u001b[49m\u001b[43m(\u001b[49m\u001b[43mimg1\u001b[49m\u001b[43m)\u001b[49m\n\u001b[1;32m   9129\u001b[0m img2_pillow \u001b[38;5;241m=\u001b[39m read_image_as_pil(img2)\n\u001b[1;32m   9131\u001b[0m img_width, img_height \u001b[38;5;241m=\u001b[39m img1_pillow\u001b[38;5;241m.\u001b[39msize\n",
      "File \u001b[0;32m~/miniconda3/envs/fire_ffp/lib/python3.9/site-packages/leafmap/common.py:9035\u001b[0m, in \u001b[0;36mimage_comparison.<locals>.read_image_as_pil\u001b[0;34m(image, exif_fix)\u001b[0m\n\u001b[1;32m   9033\u001b[0m     \u001b[38;5;28;01mimport\u001b[39;00m \u001b[38;5;21;01mskimage\u001b[39;00m\u001b[38;5;21;01m.\u001b[39;00m\u001b[38;5;21;01mio\u001b[39;00m\n\u001b[1;32m   9034\u001b[0m \u001b[38;5;28;01mexcept\u001b[39;00m \u001b[38;5;167;01mImportError\u001b[39;00m:\n\u001b[0;32m-> 9035\u001b[0m     \u001b[38;5;28;01mraise\u001b[39;00m \u001b[38;5;167;01mImportError\u001b[39;00m(\n\u001b[1;32m   9036\u001b[0m         \u001b[38;5;124m\"\u001b[39m\u001b[38;5;124mPlease run \u001b[39m\u001b[38;5;124m'\u001b[39m\u001b[38;5;124mpip install -U scikit-image imagecodecs\u001b[39m\u001b[38;5;124m'\u001b[39m\u001b[38;5;124m for large image handling.\u001b[39m\u001b[38;5;124m\"\u001b[39m\n\u001b[1;32m   9037\u001b[0m     )\n\u001b[1;32m   9038\u001b[0m image_sk \u001b[38;5;241m=\u001b[39m skimage\u001b[38;5;241m.\u001b[39mio\u001b[38;5;241m.\u001b[39mimread(image)\u001b[38;5;241m.\u001b[39mastype(np\u001b[38;5;241m.\u001b[39muint8)\n\u001b[1;32m   9039\u001b[0m \u001b[38;5;28;01mif\u001b[39;00m \u001b[38;5;28mlen\u001b[39m(image_sk\u001b[38;5;241m.\u001b[39mshape) \u001b[38;5;241m==\u001b[39m \u001b[38;5;241m2\u001b[39m:  \u001b[38;5;66;03m# b&w\u001b[39;00m\n",
      "\u001b[0;31mImportError\u001b[0m: Please run 'pip install -U scikit-image imagecodecs' for large image handling."
     ]
    }
   ],
   "source": [
    "leafmap.image_comparison(\n",
    "    img1,\n",
    "    img2,\n",
    "    label1='Pre fire',\n",
    "    label2='Post fire',\n",
    "    starting_position=50,\n",
    "    out_html='image_comparison.html',\n",
    ")"
   ]
  },
  {
   "cell_type": "code",
   "execution_count": null,
   "id": "a9930d05",
   "metadata": {},
   "outputs": [],
   "source": [
    "band2_path"
   ]
  },
  {
   "cell_type": "code",
   "execution_count": null,
   "id": "67050fb9",
   "metadata": {},
   "outputs": [],
   "source": [
    "band_02=rasterio.open(band2_path)\n",
    "band_03=rasterio.open(band3_path)\n",
    "band_04=rasterio.open(band4_path)"
   ]
  },
  {
   "cell_type": "code",
   "execution_count": null,
   "id": "9a46da67",
   "metadata": {},
   "outputs": [],
   "source": [
    "red = band_04.read(1)\n",
    "green = band_03.read(1)\n",
    "blue = band_02.read(1)"
   ]
  },
  {
   "cell_type": "code",
   "execution_count": null,
   "id": "6e60f3be",
   "metadata": {},
   "outputs": [],
   "source": [
    "def normalize(band):\n",
    "    band_min, band_max = (band.min(), band.max())\n",
    "    return ((band-band_min)/((band_max - band_min)))\n",
    "def brighten(band):\n",
    "    alpha=0.13\n",
    "    beta=0\n",
    "    return np.clip(alpha*band+beta, 0,255)\n",
    "\n",
    "red_b=brighten(red)\n",
    "blue_b=brighten(blue)\n",
    "green_b=brighten(green)\n",
    "\n",
    "red_bn = normalize(red_b)\n",
    "green_bn = normalize(green_b)\n",
    "blue_bn = normalize(blue_b)"
   ]
  },
  {
   "cell_type": "code",
   "execution_count": null,
   "id": "c8ed49df",
   "metadata": {},
   "outputs": [],
   "source": [
    "rgb_composite_n= np.dstack((red, green, blue))"
   ]
  },
  {
   "cell_type": "code",
   "execution_count": null,
   "id": "fbbdb7bb",
   "metadata": {},
   "outputs": [],
   "source": [
    "plt.imshow(rgb_composite_n)"
   ]
  },
  {
   "cell_type": "markdown",
   "id": "8b839cee",
   "metadata": {},
   "source": [
    "# Land_use_land_cover"
   ]
  },
  {
   "cell_type": "code",
   "execution_count": 93,
   "id": "93564dd3",
   "metadata": {},
   "outputs": [],
   "source": [
    "from osgeo import gdal"
   ]
  },
  {
   "cell_type": "code",
   "execution_count": 122,
   "id": "b70b7579",
   "metadata": {},
   "outputs": [],
   "source": [
    "shapefile = gpd.read_file('/home/sg/Projects/fires2023/fires_2023_july_august.shp')"
   ]
  },
  {
   "cell_type": "code",
   "execution_count": 124,
   "id": "18b7f34e",
   "metadata": {},
   "outputs": [],
   "source": [
    "shapefile = shapefile[shapefile.city=='Rodos']"
   ]
  },
  {
   "cell_type": "code",
   "execution_count": 125,
   "id": "4110c71c",
   "metadata": {},
   "outputs": [],
   "source": [
    "shapefile = shapefile.to_crs(epsg=3035)"
   ]
  },
  {
   "cell_type": "code",
   "execution_count": 126,
   "id": "84efb50e",
   "metadata": {},
   "outputs": [],
   "source": [
    "corine = gpd.read_file('/home/sg/Downloads/1cefc5e87d3cecf0f145fc4d0823668669f51423/u2018_clc2018_v2020_20u1_geoPackage/DATA/corine_greece.shp')"
   ]
  },
  {
   "cell_type": "code",
   "execution_count": 127,
   "id": "35d46f6a",
   "metadata": {},
   "outputs": [],
   "source": [
    "#codes = pd.read_csv('/home/sg/Projects/FIrehub-model/no_fire_90/CLC_codes.csv')"
   ]
  },
  {
   "cell_type": "code",
   "execution_count": 128,
   "id": "25b11d8f",
   "metadata": {},
   "outputs": [],
   "source": [
    "labels = pd.read_csv('/home/sg/Downloads/1cefc5e87d3cecf0f145fc4d0823668669f51423/clc_test.csv')"
   ]
  },
  {
   "cell_type": "code",
   "execution_count": 129,
   "id": "3ec10d91",
   "metadata": {},
   "outputs": [],
   "source": [
    "labels = pd.read_csv('/home/sg/Downloads/1cefc5e87d3cecf0f145fc4d0823668669f51423/clc_legend.csv', encoding = 'iso8859_7')"
   ]
  },
  {
   "cell_type": "code",
   "execution_count": 130,
   "id": "3ebccd9c",
   "metadata": {
    "collapsed": true
   },
   "outputs": [
    {
     "name": "stdout",
     "output_type": "stream",
     "text": [
      "                                             LABEL3GR         area  percentage\n",
      "0                              Ασυνεχής αστικός ιστός     7.598890    0.042662\n",
      "1               Εγκαταστάσεις αθλητισμού και αναψυχής    25.841323    0.145080\n",
      "2                            Μη αρδευόμενη αρόσιμη γη   129.873482    0.729142\n",
      "3   Οπωροφόρα δένδρα και φυτείες με σαρκώδεις καρπούς     0.758888    0.004261\n",
      "4                                            Ελαιώνες   789.054090    4.429944\n",
      "5                               Σύνθετες καλλιέργειες   231.433250    1.299323\n",
      "6   Γη που χρησιμοποιείται κυρίως για γεωργία μαζί...  2208.816300   12.400840\n",
      "7                                     Δάσος κωνοφόρων  1416.440308    7.952245\n",
      "8                                  Φυσικοί βοσκότοποι  1263.420307    7.093153\n",
      "9                              Σκληροφυλλική βλάστηση  3925.507120   22.038766\n",
      "10        Μεταβατικές δασώδεις και θαμνώδεις εκτάσεις  7789.609989   43.732793\n",
      "11                     Παραλίες, αμμόλοφοι, Αμμουδιές    18.872896    0.105957\n",
      "12                         Επιφάνειες στάσιμου ύδατος     4.184904    0.023495\n",
      "13                               Θάλασσες και ωκεανοί     0.416649    0.002339\n"
     ]
    }
   ],
   "source": [
    "#for i in range(len(shapefile)+1):\n",
    "    #shapefile_1 = shapefile.loc[i]\n",
    "    #shapefile_1_df = gpd.GeoDataFrame([shapefile], crs=shapefile.crs)\n",
    "clipped_corine_gdf = gpd.clip(corine, shapefile)\n",
    "labels['CLC_CODE'] = labels['CLC_CODE'].astype(str)\n",
    "clipped_corine_gdf = clipped_corine_gdf.merge(labels, left_on='Code_18', right_on='CLC_CODE')\n",
    "clipped_corine_gdf = clipped_corine_gdf.assign(area=clipped_corine_gdf.area)\n",
    "corine_grouped = clipped_corine_gdf.groupby('CLC_CODE')['area'].sum().reset_index()\n",
    "corine_grouped['area'] = corine_grouped['area']/10000\n",
    "corine_grouped = corine_grouped.merge(labels, left_on='CLC_CODE', right_on='CLC_CODE')\n",
    "corine_grouped['percentage'] = corine_grouped.area.apply(lambda x: (x/corine_grouped.area.sum())*100)\n",
    "#print(shapefile_rodos.city)\n",
    "print(corine_grouped[['LABEL3GR','area','percentage']])"
   ]
  },
  {
   "cell_type": "code",
   "execution_count": 107,
   "id": "7f1469fa",
   "metadata": {
    "collapsed": true
   },
   "outputs": [
    {
     "data": {
      "text/plain": [
       "<AxesSubplot: ylabel='percentage'>"
      ]
     },
     "execution_count": 107,
     "metadata": {},
     "output_type": "execute_result"
    },
    {
     "data": {
      "image/png": "[encoded data removed]",
      "text/plain": [
       "<Figure size 432x288 with 1 Axes>"
      ]
     },
     "metadata": {},
     "output_type": "display_data"
    }
   ],
   "source": [
    "corine_grouped.groupby(['LABEL3GR']).sum().plot(kind='pie', y='percentage')"
   ]
  },
  {
   "cell_type": "markdown",
   "id": "b662fec7",
   "metadata": {},
   "source": [
    "# Ανάλυση ανά νομό"
   ]
  },
  {
   "cell_type": "code",
   "execution_count": 23,
   "id": "9d7bf124",
   "metadata": {},
   "outputs": [],
   "source": [
    "plt.rcParams['font.family'] = 'Arial Unicode MS'"
   ]
  },
  {
   "cell_type": "code",
   "execution_count": 30,
   "id": "ea25badd",
   "metadata": {},
   "outputs": [],
   "source": [
    "# Step 1: Read the shapefiles\n",
    "burned_areas_shapefile = '/home/sg/Projects/fires2023/fires_2023_july_august.shp'\n",
    "#prefectures_shapefile = '/home/sg/Downloads/oriadhmwnkallikraths/oria_dhmwn_kallikraths/oria_dhmwn_kallikraths.shp'\n",
    "prefectures_shapefile = '/home/sg/Downloads/periphereies/periphereies.shp'"
   ]
  },
  {
   "cell_type": "code",
   "execution_count": 31,
   "id": "2dfa25d9",
   "metadata": {},
   "outputs": [],
   "source": [
    "burned_areas = gpd.read_file(burned_areas_shapefile)\n",
    "prefectures = gpd.read_file(prefectures_shapefile,encoding = 'iso8859_7')"
   ]
  },
  {
   "cell_type": "code",
   "execution_count": 34,
   "id": "b48e74d6",
   "metadata": {},
   "outputs": [],
   "source": [
    "plt.rcParams['font.family'] = 'DejaVu Sans'"
   ]
  },
  {
   "cell_type": "code",
   "execution_count": 35,
   "id": "59dd3fd4",
   "metadata": {},
   "outputs": [],
   "source": [
    "burned_areas_split = gpd.clip(prefectures, burned_areas)"
   ]
  },
  {
   "cell_type": "code",
   "execution_count": 36,
   "id": "039d46d6",
   "metadata": {
    "collapsed": true
   },
   "outputs": [
    {
     "data": {
      "text/html": [
       "<div>\n",
       "<style scoped>\n",
       "    .dataframe tbody tr th:only-of-type {\n",
       "        vertical-align: middle;\n",
       "    }\n",
       "\n",
       "    .dataframe tbody tr th {\n",
       "        vertical-align: top;\n",
       "    }\n",
       "\n",
       "    .dataframe thead th {\n",
       "        text-align: right;\n",
       "    }\n",
       "</style>\n",
       "<table border=\"1\" class=\"dataframe\">\n",
       "  <thead>\n",
       "    <tr style=\"text-align: right;\">\n",
       "      <th></th>\n",
       "      <th>PER</th>\n",
       "      <th>geometry</th>\n",
       "    </tr>\n",
       "  </thead>\n",
       "  <tbody>\n",
       "    <tr>\n",
       "      <th>6</th>\n",
       "      <td>Π. ΝΟΤΙΟΥ ΑΙΓΑΙΟΥ</td>\n",
       "      <td>MULTIPOLYGON (((859711.691 3998350.749, 859718...</td>\n",
       "    </tr>\n",
       "    <tr>\n",
       "      <th>12</th>\n",
       "      <td>Π. ΑΤΤΙΚΗΣ</td>\n",
       "      <td>MULTIPOLYGON (((452585.159 4224577.498, 452586...</td>\n",
       "    </tr>\n",
       "    <tr>\n",
       "      <th>1</th>\n",
       "      <td>Π. ΚΕΝΤΡΙΚΗΣ ΜΑΚΕΔΟΝΙΑΣ</td>\n",
       "      <td>POLYGON ((449697.150 4466929.872, 449716.574 4...</td>\n",
       "    </tr>\n",
       "    <tr>\n",
       "      <th>0</th>\n",
       "      <td>Π. ΑΝΑΤΟΛΙΚΗΣ ΜΑΚΕΔΟΝΙΑΣ - ΘΡΑΚΗΣ</td>\n",
       "      <td>MULTIPOLYGON (((641952.467 4524482.453, 641972...</td>\n",
       "    </tr>\n",
       "    <tr>\n",
       "      <th>9</th>\n",
       "      <td>Π. ΠΕΛΟΠΟΝΝΗΣΟΥ</td>\n",
       "      <td>MULTIPOLYGON (((369070.514 4091462.867, 369099...</td>\n",
       "    </tr>\n",
       "    <tr>\n",
       "      <th>8</th>\n",
       "      <td>Π. ΔΥΤΙΚΗΣ ΕΛΛΑΔΑΣ</td>\n",
       "      <td>MULTIPOLYGON (((340787.570 4224112.801, 340778...</td>\n",
       "    </tr>\n",
       "    <tr>\n",
       "      <th>7</th>\n",
       "      <td>Π. ΣΤΕΡΕΑΣ ΕΛΛΑΔΑΣ</td>\n",
       "      <td>MULTIPOLYGON (((351935.779 4345025.498, 351946...</td>\n",
       "    </tr>\n",
       "    <tr>\n",
       "      <th>10</th>\n",
       "      <td>Π. ΙΟΝΙΩΝ ΝΗΣΩΝ</td>\n",
       "      <td>POLYGON ((149067.026 4412509.998, 149066.880 4...</td>\n",
       "    </tr>\n",
       "    <tr>\n",
       "      <th>4</th>\n",
       "      <td>Π. ΘΕΣΣΑΛΙΑΣ</td>\n",
       "      <td>MULTIPOLYGON (((354312.089 4343962.498, 354059...</td>\n",
       "    </tr>\n",
       "  </tbody>\n",
       "</table>\n",
       "</div>"
      ],
      "text/plain": [
       "                                  PER  \\\n",
       "6                   Π. ΝΟΤΙΟΥ ΑΙΓΑΙΟΥ   \n",
       "12                         Π. ΑΤΤΙΚΗΣ   \n",
       "1             Π. ΚΕΝΤΡΙΚΗΣ ΜΑΚΕΔΟΝΙΑΣ   \n",
       "0   Π. ΑΝΑΤΟΛΙΚΗΣ ΜΑΚΕΔΟΝΙΑΣ - ΘΡΑΚΗΣ   \n",
       "9                     Π. ΠΕΛΟΠΟΝΝΗΣΟΥ   \n",
       "8                  Π. ΔΥΤΙΚΗΣ ΕΛΛΑΔΑΣ   \n",
       "7                  Π. ΣΤΕΡΕΑΣ ΕΛΛΑΔΑΣ   \n",
       "10                    Π. ΙΟΝΙΩΝ ΝΗΣΩΝ   \n",
       "4                        Π. ΘΕΣΣΑΛΙΑΣ   \n",
       "\n",
       "                                             geometry  \n",
       "6   MULTIPOLYGON (((859711.691 3998350.749, 859718...  \n",
       "12  MULTIPOLYGON (((452585.159 4224577.498, 452586...  \n",
       "1   POLYGON ((449697.150 4466929.872, 449716.574 4...  \n",
       "0   MULTIPOLYGON (((641952.467 4524482.453, 641972...  \n",
       "9   MULTIPOLYGON (((369070.514 4091462.867, 369099...  \n",
       "8   MULTIPOLYGON (((340787.570 4224112.801, 340778...  \n",
       "7   MULTIPOLYGON (((351935.779 4345025.498, 351946...  \n",
       "10  POLYGON ((149067.026 4412509.998, 149066.880 4...  \n",
       "4   MULTIPOLYGON (((354312.089 4343962.498, 354059...  "
      ]
     },
     "execution_count": 36,
     "metadata": {},
     "output_type": "execute_result"
    }
   ],
   "source": [
    "burned_areas_split"
   ]
  },
  {
   "cell_type": "code",
   "execution_count": 37,
   "id": "37eeb5d6",
   "metadata": {},
   "outputs": [],
   "source": [
    "burned_areas_split['burned_area'] = burned_areas_split['geometry'].area/10000"
   ]
  },
  {
   "cell_type": "code",
   "execution_count": 39,
   "id": "52c9ebea",
   "metadata": {},
   "outputs": [],
   "source": [
    "attica = burned_areas_split[burned_areas_split.PER == 'Π. ΑΤΤΙΚΗΣ']"
   ]
  },
  {
   "cell_type": "code",
   "execution_count": 69,
   "id": "85df0e79",
   "metadata": {},
   "outputs": [],
   "source": [
    "rodos = burned_areas_split[burned_areas_split.PER =='Π. ΝΟΤΙΟΥ ΑΙΓΑΙΟΥ']"
   ]
  },
  {
   "cell_type": "code",
   "execution_count": 91,
   "id": "3bcea52f",
   "metadata": {},
   "outputs": [],
   "source": [
    "evros = burned_areas_split[burned_areas_split.PER =='Π. ΑΝΑΤΟΛΙΚΗΣ ΜΑΚΕΔΟΝΙΑΣ - ΘΡΑΚΗΣ']"
   ]
  },
  {
   "cell_type": "code",
   "execution_count": 92,
   "id": "86b1dd71",
   "metadata": {
    "collapsed": true
   },
   "outputs": [
    {
     "data": {
      "text/plain": [
       "<AxesSubplot: >"
      ]
     },
     "execution_count": 92,
     "metadata": {},
     "output_type": "execute_result"
    },
    {
     "data": {
      "image/png": "[encoded data removed]",
      "text/plain": [
       "<Figure size 432x288 with 1 Axes>"
      ]
     },
     "metadata": {
      "needs_background": "light"
     },
     "output_type": "display_data"
    }
   ],
   "source": [
    "evros.plot()"
   ]
  },
  {
   "cell_type": "code",
   "execution_count": 40,
   "id": "dfd7cb1d",
   "metadata": {
    "collapsed": true
   },
   "outputs": [
    {
     "ename": "KeyError",
     "evalue": "'NAME'",
     "output_type": "error",
     "traceback": [
      "\u001b[0;31m---------------------------------------------------------------------------\u001b[0m",
      "\u001b[0;31mKeyError\u001b[0m                                  Traceback (most recent call last)",
      "Input \u001b[0;32mIn [40]\u001b[0m, in \u001b[0;36m<cell line: 1>\u001b[0;34m()\u001b[0m\n\u001b[0;32m----> 1\u001b[0m burned_areas_split \u001b[38;5;241m=\u001b[39m \u001b[43mburned_areas_split\u001b[49m\u001b[38;5;241;43m.\u001b[39;49m\u001b[43mgroupby\u001b[49m\u001b[43m(\u001b[49m\u001b[38;5;124;43m'\u001b[39;49m\u001b[38;5;124;43mNAME\u001b[39;49m\u001b[38;5;124;43m'\u001b[39;49m\u001b[43m)\u001b[49m[\u001b[38;5;124m'\u001b[39m\u001b[38;5;124mburned_area\u001b[39m\u001b[38;5;124m'\u001b[39m]\u001b[38;5;241m.\u001b[39msum()\n\u001b[1;32m      2\u001b[0m \u001b[38;5;28mprint\u001b[39m(burned_areas_split)\n",
      "File \u001b[0;32m~/miniconda3/envs/fire_ffp/lib/python3.9/site-packages/pandas/core/frame.py:7718\u001b[0m, in \u001b[0;36mDataFrame.groupby\u001b[0;34m(self, by, axis, level, as_index, sort, group_keys, squeeze, observed, dropna)\u001b[0m\n\u001b[1;32m   7713\u001b[0m axis \u001b[38;5;241m=\u001b[39m \u001b[38;5;28mself\u001b[39m\u001b[38;5;241m.\u001b[39m_get_axis_number(axis)\n\u001b[1;32m   7715\u001b[0m \u001b[38;5;66;03m# https://github.com/python/mypy/issues/7642\u001b[39;00m\n\u001b[1;32m   7716\u001b[0m \u001b[38;5;66;03m# error: Argument \"squeeze\" to \"DataFrameGroupBy\" has incompatible type\u001b[39;00m\n\u001b[1;32m   7717\u001b[0m \u001b[38;5;66;03m# \"Union[bool, NoDefault]\"; expected \"bool\"\u001b[39;00m\n\u001b[0;32m-> 7718\u001b[0m \u001b[38;5;28;01mreturn\u001b[39;00m \u001b[43mDataFrameGroupBy\u001b[49m\u001b[43m(\u001b[49m\n\u001b[1;32m   7719\u001b[0m \u001b[43m    \u001b[49m\u001b[43mobj\u001b[49m\u001b[38;5;241;43m=\u001b[39;49m\u001b[38;5;28;43mself\u001b[39;49m\u001b[43m,\u001b[49m\n\u001b[1;32m   7720\u001b[0m \u001b[43m    \u001b[49m\u001b[43mkeys\u001b[49m\u001b[38;5;241;43m=\u001b[39;49m\u001b[43mby\u001b[49m\u001b[43m,\u001b[49m\n\u001b[1;32m   7721\u001b[0m \u001b[43m    \u001b[49m\u001b[43maxis\u001b[49m\u001b[38;5;241;43m=\u001b[39;49m\u001b[43maxis\u001b[49m\u001b[43m,\u001b[49m\n\u001b[1;32m   7722\u001b[0m \u001b[43m    \u001b[49m\u001b[43mlevel\u001b[49m\u001b[38;5;241;43m=\u001b[39;49m\u001b[43mlevel\u001b[49m\u001b[43m,\u001b[49m\n\u001b[1;32m   7723\u001b[0m \u001b[43m    \u001b[49m\u001b[43mas_index\u001b[49m\u001b[38;5;241;43m=\u001b[39;49m\u001b[43mas_index\u001b[49m\u001b[43m,\u001b[49m\n\u001b[1;32m   7724\u001b[0m \u001b[43m    \u001b[49m\u001b[43msort\u001b[49m\u001b[38;5;241;43m=\u001b[39;49m\u001b[43msort\u001b[49m\u001b[43m,\u001b[49m\n\u001b[1;32m   7725\u001b[0m \u001b[43m    \u001b[49m\u001b[43mgroup_keys\u001b[49m\u001b[38;5;241;43m=\u001b[39;49m\u001b[43mgroup_keys\u001b[49m\u001b[43m,\u001b[49m\n\u001b[1;32m   7726\u001b[0m \u001b[43m    \u001b[49m\u001b[43msqueeze\u001b[49m\u001b[38;5;241;43m=\u001b[39;49m\u001b[43msqueeze\u001b[49m\u001b[43m,\u001b[49m\u001b[43m  \u001b[49m\u001b[38;5;66;43;03m# type: ignore[arg-type]\u001b[39;49;00m\n\u001b[1;32m   7727\u001b[0m \u001b[43m    \u001b[49m\u001b[43mobserved\u001b[49m\u001b[38;5;241;43m=\u001b[39;49m\u001b[43mobserved\u001b[49m\u001b[43m,\u001b[49m\n\u001b[1;32m   7728\u001b[0m \u001b[43m    \u001b[49m\u001b[43mdropna\u001b[49m\u001b[38;5;241;43m=\u001b[39;49m\u001b[43mdropna\u001b[49m\u001b[43m,\u001b[49m\n\u001b[1;32m   7729\u001b[0m \u001b[43m\u001b[49m\u001b[43m)\u001b[49m\n",
      "File \u001b[0;32m~/miniconda3/envs/fire_ffp/lib/python3.9/site-packages/pandas/core/groupby/groupby.py:882\u001b[0m, in \u001b[0;36mGroupBy.__init__\u001b[0;34m(self, obj, keys, axis, level, grouper, exclusions, selection, as_index, sort, group_keys, squeeze, observed, mutated, dropna)\u001b[0m\n\u001b[1;32m    879\u001b[0m \u001b[38;5;28;01mif\u001b[39;00m grouper \u001b[38;5;129;01mis\u001b[39;00m \u001b[38;5;28;01mNone\u001b[39;00m:\n\u001b[1;32m    880\u001b[0m     \u001b[38;5;28;01mfrom\u001b[39;00m \u001b[38;5;21;01mpandas\u001b[39;00m\u001b[38;5;21;01m.\u001b[39;00m\u001b[38;5;21;01mcore\u001b[39;00m\u001b[38;5;21;01m.\u001b[39;00m\u001b[38;5;21;01mgroupby\u001b[39;00m\u001b[38;5;21;01m.\u001b[39;00m\u001b[38;5;21;01mgrouper\u001b[39;00m \u001b[38;5;28;01mimport\u001b[39;00m get_grouper\n\u001b[0;32m--> 882\u001b[0m     grouper, exclusions, obj \u001b[38;5;241m=\u001b[39m \u001b[43mget_grouper\u001b[49m\u001b[43m(\u001b[49m\n\u001b[1;32m    883\u001b[0m \u001b[43m        \u001b[49m\u001b[43mobj\u001b[49m\u001b[43m,\u001b[49m\n\u001b[1;32m    884\u001b[0m \u001b[43m        \u001b[49m\u001b[43mkeys\u001b[49m\u001b[43m,\u001b[49m\n\u001b[1;32m    885\u001b[0m \u001b[43m        \u001b[49m\u001b[43maxis\u001b[49m\u001b[38;5;241;43m=\u001b[39;49m\u001b[43maxis\u001b[49m\u001b[43m,\u001b[49m\n\u001b[1;32m    886\u001b[0m \u001b[43m        \u001b[49m\u001b[43mlevel\u001b[49m\u001b[38;5;241;43m=\u001b[39;49m\u001b[43mlevel\u001b[49m\u001b[43m,\u001b[49m\n\u001b[1;32m    887\u001b[0m \u001b[43m        \u001b[49m\u001b[43msort\u001b[49m\u001b[38;5;241;43m=\u001b[39;49m\u001b[43msort\u001b[49m\u001b[43m,\u001b[49m\n\u001b[1;32m    888\u001b[0m \u001b[43m        \u001b[49m\u001b[43mobserved\u001b[49m\u001b[38;5;241;43m=\u001b[39;49m\u001b[43mobserved\u001b[49m\u001b[43m,\u001b[49m\n\u001b[1;32m    889\u001b[0m \u001b[43m        \u001b[49m\u001b[43mmutated\u001b[49m\u001b[38;5;241;43m=\u001b[39;49m\u001b[38;5;28;43mself\u001b[39;49m\u001b[38;5;241;43m.\u001b[39;49m\u001b[43mmutated\u001b[49m\u001b[43m,\u001b[49m\n\u001b[1;32m    890\u001b[0m \u001b[43m        \u001b[49m\u001b[43mdropna\u001b[49m\u001b[38;5;241;43m=\u001b[39;49m\u001b[38;5;28;43mself\u001b[39;49m\u001b[38;5;241;43m.\u001b[39;49m\u001b[43mdropna\u001b[49m\u001b[43m,\u001b[49m\n\u001b[1;32m    891\u001b[0m \u001b[43m    \u001b[49m\u001b[43m)\u001b[49m\n\u001b[1;32m    893\u001b[0m \u001b[38;5;28mself\u001b[39m\u001b[38;5;241m.\u001b[39mobj \u001b[38;5;241m=\u001b[39m obj\n\u001b[1;32m    894\u001b[0m \u001b[38;5;28mself\u001b[39m\u001b[38;5;241m.\u001b[39maxis \u001b[38;5;241m=\u001b[39m obj\u001b[38;5;241m.\u001b[39m_get_axis_number(axis)\n",
      "File \u001b[0;32m~/miniconda3/envs/fire_ffp/lib/python3.9/site-packages/pandas/core/groupby/grouper.py:882\u001b[0m, in \u001b[0;36mget_grouper\u001b[0;34m(obj, key, axis, level, sort, observed, mutated, validate, dropna)\u001b[0m\n\u001b[1;32m    880\u001b[0m         in_axis, level, gpr \u001b[38;5;241m=\u001b[39m \u001b[38;5;28;01mFalse\u001b[39;00m, gpr, \u001b[38;5;28;01mNone\u001b[39;00m\n\u001b[1;32m    881\u001b[0m     \u001b[38;5;28;01melse\u001b[39;00m:\n\u001b[0;32m--> 882\u001b[0m         \u001b[38;5;28;01mraise\u001b[39;00m \u001b[38;5;167;01mKeyError\u001b[39;00m(gpr)\n\u001b[1;32m    883\u001b[0m \u001b[38;5;28;01melif\u001b[39;00m \u001b[38;5;28misinstance\u001b[39m(gpr, Grouper) \u001b[38;5;129;01mand\u001b[39;00m gpr\u001b[38;5;241m.\u001b[39mkey \u001b[38;5;129;01mis\u001b[39;00m \u001b[38;5;129;01mnot\u001b[39;00m \u001b[38;5;28;01mNone\u001b[39;00m:\n\u001b[1;32m    884\u001b[0m     \u001b[38;5;66;03m# Add key to exclusions\u001b[39;00m\n\u001b[1;32m    885\u001b[0m     exclusions\u001b[38;5;241m.\u001b[39madd(gpr\u001b[38;5;241m.\u001b[39mkey)\n",
      "\u001b[0;31mKeyError\u001b[0m: 'NAME'"
     ]
    }
   ],
   "source": [
    "burned_areas_split = burned_areas_split.groupby('NAME')['burned_area'].sum()\n",
    "print(burned_areas_split)"
   ]
  },
  {
   "cell_type": "code",
   "execution_count": 216,
   "id": "349933e1",
   "metadata": {},
   "outputs": [],
   "source": [
    "clipped_corine_burned_areas = gpd.clip(corine, burned_areas_split)"
   ]
  },
  {
   "cell_type": "code",
   "execution_count": 218,
   "id": "aed9aa24",
   "metadata": {},
   "outputs": [],
   "source": [
    "clipped_corine_burned_areas['burned_area'] = clipped_corine_burned_areas['geometry'].area/10000"
   ]
  },
  {
   "cell_type": "code",
   "execution_count": 228,
   "id": "c25ffa22",
   "metadata": {},
   "outputs": [],
   "source": [
    "clc_joined = gpd.sjoin(clipped_corine_burned_areas, prefectures)"
   ]
  },
  {
   "cell_type": "code",
   "execution_count": 248,
   "id": "95b06306",
   "metadata": {
    "collapsed": true
   },
   "outputs": [
    {
     "data": {
      "text/html": [
       "<div>\n",
       "<style scoped>\n",
       "    .dataframe tbody tr th:only-of-type {\n",
       "        vertical-align: middle;\n",
       "    }\n",
       "\n",
       "    .dataframe tbody tr th {\n",
       "        vertical-align: top;\n",
       "    }\n",
       "\n",
       "    .dataframe thead th {\n",
       "        text-align: right;\n",
       "    }\n",
       "</style>\n",
       "<table border=\"1\" class=\"dataframe\">\n",
       "  <thead>\n",
       "    <tr style=\"text-align: right;\">\n",
       "      <th></th>\n",
       "      <th>OBJECTID</th>\n",
       "      <th>Code_18</th>\n",
       "      <th>Remark</th>\n",
       "      <th>Area_Ha</th>\n",
       "      <th>ID</th>\n",
       "      <th>geometry</th>\n",
       "      <th>burned_area</th>\n",
       "      <th>index_right</th>\n",
       "      <th>NAME</th>\n",
       "      <th>KWD_YPES</th>\n",
       "    </tr>\n",
       "  </thead>\n",
       "  <tbody>\n",
       "    <tr>\n",
       "      <th>834</th>\n",
       "      <td>630671.0</td>\n",
       "      <td>112</td>\n",
       "      <td>NaN</td>\n",
       "      <td>1566.460344</td>\n",
       "      <td>EU_630671</td>\n",
       "      <td>MULTIPOLYGON (((495247.673 4177803.103, 495191...</td>\n",
       "      <td>119.151073</td>\n",
       "      <td>272</td>\n",
       "      <td>Σαρωνικού</td>\n",
       "      <td>9225</td>\n",
       "    </tr>\n",
       "    <tr>\n",
       "      <th>33591</th>\n",
       "      <td>663770.0</td>\n",
       "      <td>323</td>\n",
       "      <td>NaN</td>\n",
       "      <td>480.351462</td>\n",
       "      <td>EU_663770</td>\n",
       "      <td>POLYGON ((491998.565 4180480.315, 491936.391 4...</td>\n",
       "      <td>324.347102</td>\n",
       "      <td>272</td>\n",
       "      <td>Σαρωνικού</td>\n",
       "      <td>9225</td>\n",
       "    </tr>\n",
       "    <tr>\n",
       "      <th>43736</th>\n",
       "      <td>673936.0</td>\n",
       "      <td>334</td>\n",
       "      <td>NaN</td>\n",
       "      <td>374.540308</td>\n",
       "      <td>EU_673936</td>\n",
       "      <td>POLYGON ((493973.786 4179975.536, 493999.384 4...</td>\n",
       "      <td>372.287498</td>\n",
       "      <td>272</td>\n",
       "      <td>Σαρωνικού</td>\n",
       "      <td>9225</td>\n",
       "    </tr>\n",
       "    <tr>\n",
       "      <th>33589</th>\n",
       "      <td>663768.0</td>\n",
       "      <td>323</td>\n",
       "      <td>NaN</td>\n",
       "      <td>121.682249</td>\n",
       "      <td>EU_663768</td>\n",
       "      <td>POLYGON ((495413.986 4178934.715, 495419.956 4...</td>\n",
       "      <td>99.988975</td>\n",
       "      <td>272</td>\n",
       "      <td>Σαρωνικού</td>\n",
       "      <td>9225</td>\n",
       "    </tr>\n",
       "    <tr>\n",
       "      <th>12447</th>\n",
       "      <td>642541.0</td>\n",
       "      <td>242</td>\n",
       "      <td>NaN</td>\n",
       "      <td>1309.359077</td>\n",
       "      <td>EU_642541</td>\n",
       "      <td>MULTIPOLYGON (((494646.750 4182118.030, 494636...</td>\n",
       "      <td>499.846211</td>\n",
       "      <td>272</td>\n",
       "      <td>Σαρωνικού</td>\n",
       "      <td>9225</td>\n",
       "    </tr>\n",
       "    <tr>\n",
       "      <th>...</th>\n",
       "      <td>...</td>\n",
       "      <td>...</td>\n",
       "      <td>...</td>\n",
       "      <td>...</td>\n",
       "      <td>...</td>\n",
       "      <td>...</td>\n",
       "      <td>...</td>\n",
       "      <td>...</td>\n",
       "      <td>...</td>\n",
       "      <td>...</td>\n",
       "    </tr>\n",
       "    <tr>\n",
       "      <th>35936</th>\n",
       "      <td>666115.0</td>\n",
       "      <td>323</td>\n",
       "      <td>NaN</td>\n",
       "      <td>51.458115</td>\n",
       "      <td>EU_666115</td>\n",
       "      <td>POLYGON ((398828.663 4359173.587, 398750.383 4...</td>\n",
       "      <td>51.426623</td>\n",
       "      <td>263</td>\n",
       "      <td>Ρήγα Φερραίου</td>\n",
       "      <td>9108</td>\n",
       "    </tr>\n",
       "    <tr>\n",
       "      <th>3202</th>\n",
       "      <td>633064.0</td>\n",
       "      <td>121</td>\n",
       "      <td>NaN</td>\n",
       "      <td>154.329108</td>\n",
       "      <td>EU_633064</td>\n",
       "      <td>MULTIPOLYGON (((397847.959 4360611.524, 397809...</td>\n",
       "      <td>0.994961</td>\n",
       "      <td>263</td>\n",
       "      <td>Ρήγα Φερραίου</td>\n",
       "      <td>9108</td>\n",
       "    </tr>\n",
       "    <tr>\n",
       "      <th>30694</th>\n",
       "      <td>660870.0</td>\n",
       "      <td>321</td>\n",
       "      <td>NaN</td>\n",
       "      <td>83.951556</td>\n",
       "      <td>EU_660870</td>\n",
       "      <td>POLYGON ((400140.455 4360779.060, 399995.895 4...</td>\n",
       "      <td>58.989985</td>\n",
       "      <td>263</td>\n",
       "      <td>Ρήγα Φερραίου</td>\n",
       "      <td>9108</td>\n",
       "    </tr>\n",
       "    <tr>\n",
       "      <th>7124</th>\n",
       "      <td>637145.0</td>\n",
       "      <td>222</td>\n",
       "      <td>NaN</td>\n",
       "      <td>858.489008</td>\n",
       "      <td>EU_637145</td>\n",
       "      <td>MULTIPOLYGON (((401458.448 4361370.450, 401442...</td>\n",
       "      <td>331.750147</td>\n",
       "      <td>263</td>\n",
       "      <td>Ρήγα Φερραίου</td>\n",
       "      <td>9108</td>\n",
       "    </tr>\n",
       "    <tr>\n",
       "      <th>36047</th>\n",
       "      <td>666226.0</td>\n",
       "      <td>323</td>\n",
       "      <td>NaN</td>\n",
       "      <td>5548.690197</td>\n",
       "      <td>EU_666226</td>\n",
       "      <td>MULTIPOLYGON (((404468.110 4362208.893, 404346...</td>\n",
       "      <td>200.051125</td>\n",
       "      <td>263</td>\n",
       "      <td>Ρήγα Φερραίου</td>\n",
       "      <td>9108</td>\n",
       "    </tr>\n",
       "  </tbody>\n",
       "</table>\n",
       "<p>421 rows × 10 columns</p>\n",
       "</div>"
      ],
      "text/plain": [
       "       OBJECTID Code_18  Remark      Area_Ha         ID  \\\n",
       "834    630671.0     112     NaN  1566.460344  EU_630671   \n",
       "33591  663770.0     323     NaN   480.351462  EU_663770   \n",
       "43736  673936.0     334     NaN   374.540308  EU_673936   \n",
       "33589  663768.0     323     NaN   121.682249  EU_663768   \n",
       "12447  642541.0     242     NaN  1309.359077  EU_642541   \n",
       "...         ...     ...     ...          ...        ...   \n",
       "35936  666115.0     323     NaN    51.458115  EU_666115   \n",
       "3202   633064.0     121     NaN   154.329108  EU_633064   \n",
       "30694  660870.0     321     NaN    83.951556  EU_660870   \n",
       "7124   637145.0     222     NaN   858.489008  EU_637145   \n",
       "36047  666226.0     323     NaN  5548.690197  EU_666226   \n",
       "\n",
       "                                                geometry  burned_area  \\\n",
       "834    MULTIPOLYGON (((495247.673 4177803.103, 495191...   119.151073   \n",
       "33591  POLYGON ((491998.565 4180480.315, 491936.391 4...   324.347102   \n",
       "43736  POLYGON ((493973.786 4179975.536, 493999.384 4...   372.287498   \n",
       "33589  POLYGON ((495413.986 4178934.715, 495419.956 4...    99.988975   \n",
       "12447  MULTIPOLYGON (((494646.750 4182118.030, 494636...   499.846211   \n",
       "...                                                  ...          ...   \n",
       "35936  POLYGON ((398828.663 4359173.587, 398750.383 4...    51.426623   \n",
       "3202   MULTIPOLYGON (((397847.959 4360611.524, 397809...     0.994961   \n",
       "30694  POLYGON ((400140.455 4360779.060, 399995.895 4...    58.989985   \n",
       "7124   MULTIPOLYGON (((401458.448 4361370.450, 401442...   331.750147   \n",
       "36047  MULTIPOLYGON (((404468.110 4362208.893, 404346...   200.051125   \n",
       "\n",
       "       index_right           NAME KWD_YPES  \n",
       "834            272      Σαρωνικού     9225  \n",
       "33591          272      Σαρωνικού     9225  \n",
       "43736          272      Σαρωνικού     9225  \n",
       "33589          272      Σαρωνικού     9225  \n",
       "12447          272      Σαρωνικού     9225  \n",
       "...            ...            ...      ...  \n",
       "35936          263  Ρήγα Φερραίου     9108  \n",
       "3202           263  Ρήγα Φερραίου     9108  \n",
       "30694          263  Ρήγα Φερραίου     9108  \n",
       "7124           263  Ρήγα Φερραίου     9108  \n",
       "36047          263  Ρήγα Φερραίου     9108  \n",
       "\n",
       "[421 rows x 10 columns]"
      ]
     },
     "execution_count": 248,
     "metadata": {},
     "output_type": "execute_result"
    }
   ],
   "source": [
    "clc_joined"
   ]
  },
  {
   "cell_type": "code",
   "execution_count": 254,
   "id": "f9cdaf32",
   "metadata": {},
   "outputs": [],
   "source": [
    "for i,a in enumerate(clc_joined.NAME.unique()):\n",
    "    clc_sel = clc_joined[clc_joined.NAME==a]\n",
    "    clc_sel['percentage'] = clc_sel.area.apply(lambda x: (x/clc_sel.area.sum())*100)\n",
    "    clc_sel_joined=clc_sel.groupby(['Code_18','NAME'])['percentage'].sum().reset_index()\n",
    "    clc_sel_joined['Code_18'] = clc_sel_joined['Code_18'].astype('int')\n",
    "    final = clc_sel_joined.merge(clc_nom_greek, left_on='Code_18', right_on='Code_18')\n",
    "    sorted_df = final.sort_values(by='percentage')\n",
    "    if i == 0:\n",
    "        sorted_df.to_csv('clc_nomoi.csv',index=False)\n",
    "    else:\n",
    "        sorted_df.to_csv('clc_nomoi.csv',index=False, mode='a', header=False)\n",
    "#print(a, final[[name,percentage]])"
   ]
  },
  {
   "cell_type": "code",
   "execution_count": 244,
   "id": "d5e79755",
   "metadata": {},
   "outputs": [
    {
     "data": {
      "text/plain": [
       "pandas.core.frame.DataFrame"
      ]
     },
     "execution_count": 244,
     "metadata": {},
     "output_type": "execute_result"
    }
   ],
   "source": [
    "clc_sel_joined"
   ]
  },
  {
   "cell_type": "code",
   "execution_count": 245,
   "id": "83d9c3c8",
   "metadata": {},
   "outputs": [],
   "source": [
    "clc_nom_greek = pd.read_csv('clc_nom_greek.csv')"
   ]
  },
  {
   "cell_type": "code",
   "execution_count": 246,
   "id": "30756bf9",
   "metadata": {},
   "outputs": [],
   "source": [
    "clc_nom_greek['Code_18'] = clc_nom_greek['Code_18'].astype('int')\n",
    "clc_sel_joined['Code_18'] = clc_sel_joined['Code_18'].astype('int')"
   ]
  },
  {
   "cell_type": "code",
   "execution_count": 247,
   "id": "fd3a5eec",
   "metadata": {
    "collapsed": true
   },
   "outputs": [
    {
     "data": {
      "text/html": [
       "<div>\n",
       "<style scoped>\n",
       "    .dataframe tbody tr th:only-of-type {\n",
       "        vertical-align: middle;\n",
       "    }\n",
       "\n",
       "    .dataframe tbody tr th {\n",
       "        vertical-align: top;\n",
       "    }\n",
       "\n",
       "    .dataframe thead th {\n",
       "        text-align: right;\n",
       "    }\n",
       "</style>\n",
       "<table border=\"1\" class=\"dataframe\">\n",
       "  <thead>\n",
       "    <tr style=\"text-align: right;\">\n",
       "      <th></th>\n",
       "      <th>Code_18</th>\n",
       "      <th>NAME</th>\n",
       "      <th>percentage</th>\n",
       "      <th>name</th>\n",
       "    </tr>\n",
       "  </thead>\n",
       "  <tbody>\n",
       "    <tr>\n",
       "      <th>0</th>\n",
       "      <td>112</td>\n",
       "      <td>Ρήγα Φερραίου</td>\n",
       "      <td>0.088054</td>\n",
       "      <td>∆ιακεκοµµένη αστική οικοδόµηση</td>\n",
       "    </tr>\n",
       "    <tr>\n",
       "      <th>1</th>\n",
       "      <td>121</td>\n",
       "      <td>Ρήγα Φερραίου</td>\n",
       "      <td>0.015031</td>\n",
       "      <td>Βιοµηχανικές ή εµπορικές ζώνες</td>\n",
       "    </tr>\n",
       "    <tr>\n",
       "      <th>2</th>\n",
       "      <td>122</td>\n",
       "      <td>Ρήγα Φερραίου</td>\n",
       "      <td>0.629486</td>\n",
       "      <td>Οδικά και σιδηροδροµικά δίκτυα και γειτνιάζουσ...</td>\n",
       "    </tr>\n",
       "    <tr>\n",
       "      <th>3</th>\n",
       "      <td>131</td>\n",
       "      <td>Ρήγα Φερραίου</td>\n",
       "      <td>0.472390</td>\n",
       "      <td>Χώροι εξόρυξης ορυκτών</td>\n",
       "    </tr>\n",
       "    <tr>\n",
       "      <th>4</th>\n",
       "      <td>211</td>\n",
       "      <td>Ρήγα Φερραίου</td>\n",
       "      <td>25.964982</td>\n",
       "      <td>Μη αρδεύσιµη-αρόσιµη γη</td>\n",
       "    </tr>\n",
       "    <tr>\n",
       "      <th>5</th>\n",
       "      <td>212</td>\n",
       "      <td>Ρήγα Φερραίου</td>\n",
       "      <td>7.559361</td>\n",
       "      <td>Μόνιµα αρδευόµενη γη</td>\n",
       "    </tr>\n",
       "    <tr>\n",
       "      <th>6</th>\n",
       "      <td>222</td>\n",
       "      <td>Ρήγα Φερραίου</td>\n",
       "      <td>5.011642</td>\n",
       "      <td>Οπωροφόρα δέντρα και φυτείες µε σαρκώδεις καρπούς</td>\n",
       "    </tr>\n",
       "    <tr>\n",
       "      <th>7</th>\n",
       "      <td>242</td>\n",
       "      <td>Ρήγα Φερραίου</td>\n",
       "      <td>5.115001</td>\n",
       "      <td>Σύνθετα συστήµατα καλλιέργειας</td>\n",
       "    </tr>\n",
       "    <tr>\n",
       "      <th>8</th>\n",
       "      <td>243</td>\n",
       "      <td>Ρήγα Φερραίου</td>\n",
       "      <td>4.335406</td>\n",
       "      <td>Γη που καλύπτεται κυρίως από γεωργία µε σηµαντ...</td>\n",
       "    </tr>\n",
       "    <tr>\n",
       "      <th>9</th>\n",
       "      <td>321</td>\n",
       "      <td>Ρήγα Φερραίου</td>\n",
       "      <td>8.315892</td>\n",
       "      <td>Φυσικοί βοσκότοποι</td>\n",
       "    </tr>\n",
       "    <tr>\n",
       "      <th>10</th>\n",
       "      <td>323</td>\n",
       "      <td>Ρήγα Φερραίου</td>\n",
       "      <td>42.492754</td>\n",
       "      <td>Σκληροφυλλική βλάστηση</td>\n",
       "    </tr>\n",
       "  </tbody>\n",
       "</table>\n",
       "</div>"
      ],
      "text/plain": [
       "    Code_18           NAME  percentage  \\\n",
       "0       112  Ρήγα Φερραίου    0.088054   \n",
       "1       121  Ρήγα Φερραίου    0.015031   \n",
       "2       122  Ρήγα Φερραίου    0.629486   \n",
       "3       131  Ρήγα Φερραίου    0.472390   \n",
       "4       211  Ρήγα Φερραίου   25.964982   \n",
       "5       212  Ρήγα Φερραίου    7.559361   \n",
       "6       222  Ρήγα Φερραίου    5.011642   \n",
       "7       242  Ρήγα Φερραίου    5.115001   \n",
       "8       243  Ρήγα Φερραίου    4.335406   \n",
       "9       321  Ρήγα Φερραίου    8.315892   \n",
       "10      323  Ρήγα Φερραίου   42.492754   \n",
       "\n",
       "                                                 name  \n",
       "0                      ∆ιακεκοµµένη αστική οικοδόµηση  \n",
       "1                      Βιοµηχανικές ή εµπορικές ζώνες  \n",
       "2   Οδικά και σιδηροδροµικά δίκτυα και γειτνιάζουσ...  \n",
       "3                              Χώροι εξόρυξης ορυκτών  \n",
       "4                            Μη αρδεύσιµη-αρόσιµη γη   \n",
       "5                                Μόνιµα αρδευόµενη γη  \n",
       "6   Οπωροφόρα δέντρα και φυτείες µε σαρκώδεις καρπούς  \n",
       "7                      Σύνθετα συστήµατα καλλιέργειας  \n",
       "8   Γη που καλύπτεται κυρίως από γεωργία µε σηµαντ...  \n",
       "9                                  Φυσικοί βοσκότοποι  \n",
       "10                             Σκληροφυλλική βλάστηση  "
      ]
     },
     "execution_count": 247,
     "metadata": {},
     "output_type": "execute_result"
    }
   ],
   "source": [
    "clc_sel_joined.merge(clc_nom_greek, left_on='Code_18', right_on='Code_18')"
   ]
  },
  {
   "cell_type": "code",
   "execution_count": 224,
   "id": "7220311b",
   "metadata": {
    "collapsed": true
   },
   "outputs": [
    {
     "name": "stdout",
     "output_type": "stream",
     "text": [
      "                                   Description  percentage\n",
      "0   Road and Rail Networks and Associated Land    0.435925\n",
      "1                 Sport and Leisure Facilities    1.621806\n",
      "2            Fruit Trees and Berry Plantations    5.805846\n",
      "3                                 Olive Groves   19.615582\n",
      "4                            Coniferous Forest   11.084285\n",
      "5                    Sclerophyllous Vegetation   12.375942\n",
      "6                  Transitional Woodland-Shrub   49.060616\n"
     ]
    }
   ],
   "source": [
    "corine_grouped = clipped_corine_gdf.groupby('Class')['area'].sum().reset_index()\n",
    "corine_grouped['area'] = corine_grouped['area']/10000\n",
    "corine_grouped = corine_grouped.merge(nom, left_on='Class', right_on='Class')\n",
    "corine_grouped['percentage'] = corine_grouped.area.apply(lambda x: (x/corine_grouped.area.sum())*100)\n",
    "#print(shapefile_1.city)\n",
    "print(corine_grouped[[' Description','percentage']])"
   ]
  },
  {
   "cell_type": "code",
   "execution_count": 226,
   "id": "cb051310",
   "metadata": {
    "collapsed": true
   },
   "outputs": [
    {
     "data": {
      "text/html": [
       "<div>\n",
       "<style scoped>\n",
       "    .dataframe tbody tr th:only-of-type {\n",
       "        vertical-align: middle;\n",
       "    }\n",
       "\n",
       "    .dataframe tbody tr th {\n",
       "        vertical-align: top;\n",
       "    }\n",
       "\n",
       "    .dataframe thead th {\n",
       "        text-align: right;\n",
       "    }\n",
       "</style>\n",
       "<table border=\"1\" class=\"dataframe\">\n",
       "  <thead>\n",
       "    <tr style=\"text-align: right;\">\n",
       "      <th></th>\n",
       "      <th>OBJECTID</th>\n",
       "      <th>Code_18</th>\n",
       "      <th>Remark</th>\n",
       "      <th>Area_Ha</th>\n",
       "      <th>ID</th>\n",
       "      <th>geometry</th>\n",
       "      <th>burned_area</th>\n",
       "      <th>index_right</th>\n",
       "      <th>NAME</th>\n",
       "      <th>KWD_YPES</th>\n",
       "    </tr>\n",
       "  </thead>\n",
       "  <tbody>\n",
       "    <tr>\n",
       "      <th>834</th>\n",
       "      <td>630671.0</td>\n",
       "      <td>112</td>\n",
       "      <td>NaN</td>\n",
       "      <td>1566.460344</td>\n",
       "      <td>EU_630671</td>\n",
       "      <td>MULTIPOLYGON (((495247.673 4177803.103, 495191...</td>\n",
       "      <td>119.151073</td>\n",
       "      <td>272</td>\n",
       "      <td>Σαρωνικού</td>\n",
       "      <td>9225</td>\n",
       "    </tr>\n",
       "    <tr>\n",
       "      <th>33591</th>\n",
       "      <td>663770.0</td>\n",
       "      <td>323</td>\n",
       "      <td>NaN</td>\n",
       "      <td>480.351462</td>\n",
       "      <td>EU_663770</td>\n",
       "      <td>POLYGON ((491998.565 4180480.315, 491936.391 4...</td>\n",
       "      <td>324.347102</td>\n",
       "      <td>272</td>\n",
       "      <td>Σαρωνικού</td>\n",
       "      <td>9225</td>\n",
       "    </tr>\n",
       "    <tr>\n",
       "      <th>43736</th>\n",
       "      <td>673936.0</td>\n",
       "      <td>334</td>\n",
       "      <td>NaN</td>\n",
       "      <td>374.540308</td>\n",
       "      <td>EU_673936</td>\n",
       "      <td>POLYGON ((493973.786 4179975.536, 493999.384 4...</td>\n",
       "      <td>372.287498</td>\n",
       "      <td>272</td>\n",
       "      <td>Σαρωνικού</td>\n",
       "      <td>9225</td>\n",
       "    </tr>\n",
       "    <tr>\n",
       "      <th>33589</th>\n",
       "      <td>663768.0</td>\n",
       "      <td>323</td>\n",
       "      <td>NaN</td>\n",
       "      <td>121.682249</td>\n",
       "      <td>EU_663768</td>\n",
       "      <td>POLYGON ((495413.986 4178934.715, 495419.956 4...</td>\n",
       "      <td>99.988975</td>\n",
       "      <td>272</td>\n",
       "      <td>Σαρωνικού</td>\n",
       "      <td>9225</td>\n",
       "    </tr>\n",
       "    <tr>\n",
       "      <th>12447</th>\n",
       "      <td>642541.0</td>\n",
       "      <td>242</td>\n",
       "      <td>NaN</td>\n",
       "      <td>1309.359077</td>\n",
       "      <td>EU_642541</td>\n",
       "      <td>MULTIPOLYGON (((494646.750 4182118.030, 494636...</td>\n",
       "      <td>499.846211</td>\n",
       "      <td>272</td>\n",
       "      <td>Σαρωνικού</td>\n",
       "      <td>9225</td>\n",
       "    </tr>\n",
       "    <tr>\n",
       "      <th>...</th>\n",
       "      <td>...</td>\n",
       "      <td>...</td>\n",
       "      <td>...</td>\n",
       "      <td>...</td>\n",
       "      <td>...</td>\n",
       "      <td>...</td>\n",
       "      <td>...</td>\n",
       "      <td>...</td>\n",
       "      <td>...</td>\n",
       "      <td>...</td>\n",
       "    </tr>\n",
       "    <tr>\n",
       "      <th>35936</th>\n",
       "      <td>666115.0</td>\n",
       "      <td>323</td>\n",
       "      <td>NaN</td>\n",
       "      <td>51.458115</td>\n",
       "      <td>EU_666115</td>\n",
       "      <td>POLYGON ((398828.663 4359173.587, 398750.383 4...</td>\n",
       "      <td>51.426623</td>\n",
       "      <td>263</td>\n",
       "      <td>Ρήγα Φερραίου</td>\n",
       "      <td>9108</td>\n",
       "    </tr>\n",
       "    <tr>\n",
       "      <th>3202</th>\n",
       "      <td>633064.0</td>\n",
       "      <td>121</td>\n",
       "      <td>NaN</td>\n",
       "      <td>154.329108</td>\n",
       "      <td>EU_633064</td>\n",
       "      <td>MULTIPOLYGON (((397847.959 4360611.524, 397809...</td>\n",
       "      <td>0.994961</td>\n",
       "      <td>263</td>\n",
       "      <td>Ρήγα Φερραίου</td>\n",
       "      <td>9108</td>\n",
       "    </tr>\n",
       "    <tr>\n",
       "      <th>30694</th>\n",
       "      <td>660870.0</td>\n",
       "      <td>321</td>\n",
       "      <td>NaN</td>\n",
       "      <td>83.951556</td>\n",
       "      <td>EU_660870</td>\n",
       "      <td>POLYGON ((400140.455 4360779.060, 399995.895 4...</td>\n",
       "      <td>58.989985</td>\n",
       "      <td>263</td>\n",
       "      <td>Ρήγα Φερραίου</td>\n",
       "      <td>9108</td>\n",
       "    </tr>\n",
       "    <tr>\n",
       "      <th>7124</th>\n",
       "      <td>637145.0</td>\n",
       "      <td>222</td>\n",
       "      <td>NaN</td>\n",
       "      <td>858.489008</td>\n",
       "      <td>EU_637145</td>\n",
       "      <td>MULTIPOLYGON (((401458.448 4361370.450, 401442...</td>\n",
       "      <td>331.750147</td>\n",
       "      <td>263</td>\n",
       "      <td>Ρήγα Φερραίου</td>\n",
       "      <td>9108</td>\n",
       "    </tr>\n",
       "    <tr>\n",
       "      <th>36047</th>\n",
       "      <td>666226.0</td>\n",
       "      <td>323</td>\n",
       "      <td>NaN</td>\n",
       "      <td>5548.690197</td>\n",
       "      <td>EU_666226</td>\n",
       "      <td>MULTIPOLYGON (((404468.110 4362208.893, 404346...</td>\n",
       "      <td>200.051125</td>\n",
       "      <td>263</td>\n",
       "      <td>Ρήγα Φερραίου</td>\n",
       "      <td>9108</td>\n",
       "    </tr>\n",
       "  </tbody>\n",
       "</table>\n",
       "<p>421 rows × 10 columns</p>\n",
       "</div>"
      ],
      "text/plain": [
       "       OBJECTID Code_18  Remark      Area_Ha         ID  \\\n",
       "834    630671.0     112     NaN  1566.460344  EU_630671   \n",
       "33591  663770.0     323     NaN   480.351462  EU_663770   \n",
       "43736  673936.0     334     NaN   374.540308  EU_673936   \n",
       "33589  663768.0     323     NaN   121.682249  EU_663768   \n",
       "12447  642541.0     242     NaN  1309.359077  EU_642541   \n",
       "...         ...     ...     ...          ...        ...   \n",
       "35936  666115.0     323     NaN    51.458115  EU_666115   \n",
       "3202   633064.0     121     NaN   154.329108  EU_633064   \n",
       "30694  660870.0     321     NaN    83.951556  EU_660870   \n",
       "7124   637145.0     222     NaN   858.489008  EU_637145   \n",
       "36047  666226.0     323     NaN  5548.690197  EU_666226   \n",
       "\n",
       "                                                geometry  burned_area  \\\n",
       "834    MULTIPOLYGON (((495247.673 4177803.103, 495191...   119.151073   \n",
       "33591  POLYGON ((491998.565 4180480.315, 491936.391 4...   324.347102   \n",
       "43736  POLYGON ((493973.786 4179975.536, 493999.384 4...   372.287498   \n",
       "33589  POLYGON ((495413.986 4178934.715, 495419.956 4...    99.988975   \n",
       "12447  MULTIPOLYGON (((494646.750 4182118.030, 494636...   499.846211   \n",
       "...                                                  ...          ...   \n",
       "35936  POLYGON ((398828.663 4359173.587, 398750.383 4...    51.426623   \n",
       "3202   MULTIPOLYGON (((397847.959 4360611.524, 397809...     0.994961   \n",
       "30694  POLYGON ((400140.455 4360779.060, 399995.895 4...    58.989985   \n",
       "7124   MULTIPOLYGON (((401458.448 4361370.450, 401442...   331.750147   \n",
       "36047  MULTIPOLYGON (((404468.110 4362208.893, 404346...   200.051125   \n",
       "\n",
       "       index_right           NAME KWD_YPES  \n",
       "834            272      Σαρωνικού     9225  \n",
       "33591          272      Σαρωνικού     9225  \n",
       "43736          272      Σαρωνικού     9225  \n",
       "33589          272      Σαρωνικού     9225  \n",
       "12447          272      Σαρωνικού     9225  \n",
       "...            ...            ...      ...  \n",
       "35936          263  Ρήγα Φερραίου     9108  \n",
       "3202           263  Ρήγα Φερραίου     9108  \n",
       "30694          263  Ρήγα Φερραίου     9108  \n",
       "7124           263  Ρήγα Φερραίου     9108  \n",
       "36047          263  Ρήγα Φερραίου     9108  \n",
       "\n",
       "[421 rows x 10 columns]"
      ]
     },
     "execution_count": 226,
     "metadata": {},
     "output_type": "execute_result"
    }
   ],
   "source": [
    "clc_joined"
   ]
  },
  {
   "cell_type": "markdown",
   "id": "fe590da6",
   "metadata": {},
   "source": [
    "# Natura"
   ]
  },
  {
   "cell_type": "code",
   "execution_count": 14,
   "id": "80c94b30",
   "metadata": {
    "collapsed": true
   },
   "outputs": [
    {
     "data": {
      "text/html": [
       "<div>\n",
       "<style scoped>\n",
       "    .dataframe tbody tr th:only-of-type {\n",
       "        vertical-align: middle;\n",
       "    }\n",
       "\n",
       "    .dataframe tbody tr th {\n",
       "        vertical-align: top;\n",
       "    }\n",
       "\n",
       "    .dataframe thead th {\n",
       "        text-align: right;\n",
       "    }\n",
       "</style>\n",
       "<table border=\"1\" class=\"dataframe\">\n",
       "  <thead>\n",
       "    <tr style=\"text-align: right;\">\n",
       "      <th></th>\n",
       "      <th>id</th>\n",
       "      <th>city</th>\n",
       "      <th>area</th>\n",
       "      <th>layer</th>\n",
       "      <th>path</th>\n",
       "      <th>SITECODE</th>\n",
       "      <th>SITENAME</th>\n",
       "      <th>RELEASE_DA</th>\n",
       "      <th>MS</th>\n",
       "      <th>SITETYPE</th>\n",
       "      <th>INSPIRE_ID</th>\n",
       "      <th>geometry</th>\n",
       "      <th>burned_area</th>\n",
       "    </tr>\n",
       "  </thead>\n",
       "  <tbody>\n",
       "    <tr>\n",
       "      <th>0</th>\n",
       "      <td>NaN</td>\n",
       "      <td>NaN</td>\n",
       "      <td>6433.520</td>\n",
       "      <td>fires_2023_august</td>\n",
       "      <td>/home/sg/Projects/fires2023/fires_2023_august.shp</td>\n",
       "      <td>GR3000001</td>\n",
       "      <td>OROS PARNITHA</td>\n",
       "      <td>2021-12-14</td>\n",
       "      <td>GR</td>\n",
       "      <td>C</td>\n",
       "      <td>NaN</td>\n",
       "      <td>MULTIPOLYGON (((5526471.833 1781979.640, 55264...</td>\n",
       "      <td>3.025821e+07</td>\n",
       "    </tr>\n",
       "    <tr>\n",
       "      <th>1</th>\n",
       "      <td>NaN</td>\n",
       "      <td>NaN</td>\n",
       "      <td>2300.850</td>\n",
       "      <td>fires_2023_august</td>\n",
       "      <td>/home/sg/Projects/fires2023/fires_2023_august.shp</td>\n",
       "      <td>GR2530007</td>\n",
       "      <td>KORINTHIAKOS KOLPOS</td>\n",
       "      <td>2021-12-14</td>\n",
       "      <td>GR</td>\n",
       "      <td>B</td>\n",
       "      <td>NaN</td>\n",
       "      <td>MULTIPOLYGON (((5432171.332 1786551.253, 54321...</td>\n",
       "      <td>2.711458e+02</td>\n",
       "    </tr>\n",
       "    <tr>\n",
       "      <th>2</th>\n",
       "      <td>NaN</td>\n",
       "      <td>NaN</td>\n",
       "      <td>1950.640</td>\n",
       "      <td>fires_2023_august</td>\n",
       "      <td>/home/sg/Projects/fires2023/fires_2023_august.shp</td>\n",
       "      <td>GR2530007</td>\n",
       "      <td>KORINTHIAKOS KOLPOS</td>\n",
       "      <td>2021-12-14</td>\n",
       "      <td>GR</td>\n",
       "      <td>B</td>\n",
       "      <td>NaN</td>\n",
       "      <td>MULTIPOLYGON (((5452439.658 1776875.342, 54524...</td>\n",
       "      <td>3.944589e+04</td>\n",
       "    </tr>\n",
       "    <tr>\n",
       "      <th>3</th>\n",
       "      <td>NaN</td>\n",
       "      <td>NaN</td>\n",
       "      <td>68470.800</td>\n",
       "      <td>fires_2023_august</td>\n",
       "      <td>/home/sg/Projects/fires2023/fires_2023_august.shp</td>\n",
       "      <td>GR1110005</td>\n",
       "      <td>VOUNA EVROU- POTAMOS LYRAS- SPILAIA DIDYMOTEIC...</td>\n",
       "      <td>2021-12-14</td>\n",
       "      <td>GR</td>\n",
       "      <td>B</td>\n",
       "      <td>NaN</td>\n",
       "      <td>MULTIPOLYGON (((5665601.382 2143513.363, 56656...</td>\n",
       "      <td>1.347377e+08</td>\n",
       "    </tr>\n",
       "    <tr>\n",
       "      <th>4</th>\n",
       "      <td>NaN</td>\n",
       "      <td>NaN</td>\n",
       "      <td>68470.800</td>\n",
       "      <td>fires_2023_august</td>\n",
       "      <td>/home/sg/Projects/fires2023/fires_2023_august.shp</td>\n",
       "      <td>GR1110006</td>\n",
       "      <td>DELTA EVROU</td>\n",
       "      <td>2021-12-14</td>\n",
       "      <td>GR</td>\n",
       "      <td>A</td>\n",
       "      <td>NaN</td>\n",
       "      <td>MULTIPOLYGON (((5670477.727 2113787.064, 56704...</td>\n",
       "      <td>3.251805e+06</td>\n",
       "    </tr>\n",
       "    <tr>\n",
       "      <th>5</th>\n",
       "      <td>NaN</td>\n",
       "      <td>NaN</td>\n",
       "      <td>68470.800</td>\n",
       "      <td>fires_2023_august</td>\n",
       "      <td>/home/sg/Projects/fires2023/fires_2023_august.shp</td>\n",
       "      <td>GR1110002</td>\n",
       "      <td>DASOS DADIAS - SOUFLI</td>\n",
       "      <td>2021-12-14</td>\n",
       "      <td>GR</td>\n",
       "      <td>A</td>\n",
       "      <td>NaN</td>\n",
       "      <td>MULTIPOLYGON (((5665601.382 2143513.363, 56656...</td>\n",
       "      <td>1.347377e+08</td>\n",
       "    </tr>\n",
       "    <tr>\n",
       "      <th>6</th>\n",
       "      <td>NaN</td>\n",
       "      <td>NaN</td>\n",
       "      <td>68470.800</td>\n",
       "      <td>fires_2023_august</td>\n",
       "      <td>/home/sg/Projects/fires2023/fires_2023_august.shp</td>\n",
       "      <td>GR1110009</td>\n",
       "      <td>NOTIO DASIKO SYMPLEGMA EVROU</td>\n",
       "      <td>2021-12-14</td>\n",
       "      <td>GR</td>\n",
       "      <td>A</td>\n",
       "      <td>NaN</td>\n",
       "      <td>MULTIPOLYGON (((5647098.805 2128927.380, 56471...</td>\n",
       "      <td>2.318436e+08</td>\n",
       "    </tr>\n",
       "    <tr>\n",
       "      <th>7</th>\n",
       "      <td>NaN</td>\n",
       "      <td>NaN</td>\n",
       "      <td>68470.800</td>\n",
       "      <td>fires_2023_august</td>\n",
       "      <td>/home/sg/Projects/fires2023/fires_2023_august.shp</td>\n",
       "      <td>GR1110003</td>\n",
       "      <td>TREIS VRYSES</td>\n",
       "      <td>2021-12-14</td>\n",
       "      <td>GR</td>\n",
       "      <td>B</td>\n",
       "      <td>NaN</td>\n",
       "      <td>POLYGON ((5660461.753 2142916.532, 5660500.749...</td>\n",
       "      <td>1.352950e+07</td>\n",
       "    </tr>\n",
       "    <tr>\n",
       "      <th>8</th>\n",
       "      <td>NaN</td>\n",
       "      <td>NaN</td>\n",
       "      <td>68470.800</td>\n",
       "      <td>fires_2023_august</td>\n",
       "      <td>/home/sg/Projects/fires2023/fires_2023_august.shp</td>\n",
       "      <td>GR1110007</td>\n",
       "      <td>DELTA EVROU KAI DYTIKOS VRACHIONAS</td>\n",
       "      <td>2021-12-14</td>\n",
       "      <td>GR</td>\n",
       "      <td>B</td>\n",
       "      <td>NaN</td>\n",
       "      <td>MULTIPOLYGON (((5670477.727 2113787.064, 56704...</td>\n",
       "      <td>3.251805e+06</td>\n",
       "    </tr>\n",
       "    <tr>\n",
       "      <th>9</th>\n",
       "      <td>NaN</td>\n",
       "      <td>NaN</td>\n",
       "      <td>68470.800</td>\n",
       "      <td>fires_2023_august</td>\n",
       "      <td>/home/sg/Projects/fires2023/fires_2023_august.shp</td>\n",
       "      <td>GR1110010</td>\n",
       "      <td>OREINOS EVROS - KOILADA DEREIOU</td>\n",
       "      <td>2021-12-14</td>\n",
       "      <td>GR</td>\n",
       "      <td>A</td>\n",
       "      <td>NaN</td>\n",
       "      <td>POLYGON ((5660461.753 2142916.532, 5660500.749...</td>\n",
       "      <td>1.352950e+07</td>\n",
       "    </tr>\n",
       "    <tr>\n",
       "      <th>10</th>\n",
       "      <td>218954.0</td>\n",
       "      <td>NaN</td>\n",
       "      <td>699.453</td>\n",
       "      <td>fires_2023_august</td>\n",
       "      <td>/home/sg/Projects/fires2023/fires_2023_august.shp</td>\n",
       "      <td>GR2410001</td>\n",
       "      <td>LIMNES YLIKI KAI PARALIMNI – SYSTIMA VOIOTIKOU...</td>\n",
       "      <td>2021-12-14</td>\n",
       "      <td>GR</td>\n",
       "      <td>B</td>\n",
       "      <td>NaN</td>\n",
       "      <td>POLYGON ((5479905.227 1800590.256, 5480105.155...</td>\n",
       "      <td>2.430197e+04</td>\n",
       "    </tr>\n",
       "    <tr>\n",
       "      <th>11</th>\n",
       "      <td>218952.0</td>\n",
       "      <td>NaN</td>\n",
       "      <td>419.170</td>\n",
       "      <td>fires_2023_august</td>\n",
       "      <td>/home/sg/Projects/fires2023/fires_2023_august.shp</td>\n",
       "      <td>GR2440002</td>\n",
       "      <td>KOILADA KAI EKVOLES SPERCHEIOU – MALIAKOS KOLP...</td>\n",
       "      <td>2021-12-14</td>\n",
       "      <td>GR</td>\n",
       "      <td>B</td>\n",
       "      <td>NaN</td>\n",
       "      <td>POLYGON ((5371717.820 1843971.013, 5371700.880...</td>\n",
       "      <td>7.406652e+05</td>\n",
       "    </tr>\n",
       "    <tr>\n",
       "      <th>12</th>\n",
       "      <td>218953.0</td>\n",
       "      <td>NaN</td>\n",
       "      <td>360.790</td>\n",
       "      <td>fires_2023_august</td>\n",
       "      <td>/home/sg/Projects/fires2023/fires_2023_august.shp</td>\n",
       "      <td>GR2310005</td>\n",
       "      <td>OROS VARASOVA</td>\n",
       "      <td>2021-12-14</td>\n",
       "      <td>GR</td>\n",
       "      <td>B</td>\n",
       "      <td>NaN</td>\n",
       "      <td>POLYGON ((5337601.319 1773358.827, 5337450.059...</td>\n",
       "      <td>2.409419e+06</td>\n",
       "    </tr>\n",
       "    <tr>\n",
       "      <th>13</th>\n",
       "      <td>218998.0</td>\n",
       "      <td>NaN</td>\n",
       "      <td>159.072</td>\n",
       "      <td>fires_2023_august</td>\n",
       "      <td>/home/sg/Projects/fires2023/fires_2023_august.shp</td>\n",
       "      <td>GR2310001</td>\n",
       "      <td>DELTA ACHELOOU, LIMNOTHALASSA MESOLONGIOU - AI...</td>\n",
       "      <td>2021-12-14</td>\n",
       "      <td>GR</td>\n",
       "      <td>B</td>\n",
       "      <td>NaN</td>\n",
       "      <td>POLYGON ((5331802.445 1771969.293, 5332048.316...</td>\n",
       "      <td>4.337830e+05</td>\n",
       "    </tr>\n",
       "    <tr>\n",
       "      <th>14</th>\n",
       "      <td>218998.0</td>\n",
       "      <td>NaN</td>\n",
       "      <td>159.072</td>\n",
       "      <td>fires_2023_august</td>\n",
       "      <td>/home/sg/Projects/fires2023/fires_2023_august.shp</td>\n",
       "      <td>GR2310015</td>\n",
       "      <td>DELTA ACHELOOU, LIMNOTHALASSA MESOLONGIOU - AI...</td>\n",
       "      <td>2021-12-14</td>\n",
       "      <td>GR</td>\n",
       "      <td>A</td>\n",
       "      <td>NaN</td>\n",
       "      <td>POLYGON ((5331802.445 1771969.293, 5332048.316...</td>\n",
       "      <td>4.337830e+05</td>\n",
       "    </tr>\n",
       "    <tr>\n",
       "      <th>15</th>\n",
       "      <td>217347.0</td>\n",
       "      <td>Karistos</td>\n",
       "      <td>2132.610</td>\n",
       "      <td>fires_2023_july</td>\n",
       "      <td>/home/sg/Projects/fires2023/fires_2023_july.shp</td>\n",
       "      <td>GR2420001</td>\n",
       "      <td>OROS OCHI – KAMPOS KARYSTOU – POTAMI – AKROTIR...</td>\n",
       "      <td>2021-12-14</td>\n",
       "      <td>GR</td>\n",
       "      <td>B</td>\n",
       "      <td>NaN</td>\n",
       "      <td>MULTIPOLYGON (((5600759.320 1780680.757, 56007...</td>\n",
       "      <td>3.174365e+06</td>\n",
       "    </tr>\n",
       "    <tr>\n",
       "      <th>16</th>\n",
       "      <td>217347.0</td>\n",
       "      <td>Karistos</td>\n",
       "      <td>2132.610</td>\n",
       "      <td>fires_2023_july</td>\n",
       "      <td>/home/sg/Projects/fires2023/fires_2023_july.shp</td>\n",
       "      <td>GR2420012</td>\n",
       "      <td>OROS OCHI, PARAKTIA ZONI KAI NISIDES</td>\n",
       "      <td>2021-12-14</td>\n",
       "      <td>GR</td>\n",
       "      <td>A</td>\n",
       "      <td>NaN</td>\n",
       "      <td>POLYGON ((5599522.593 1784484.567, 5599483.878...</td>\n",
       "      <td>2.132589e+07</td>\n",
       "    </tr>\n",
       "    <tr>\n",
       "      <th>17</th>\n",
       "      <td>NaN</td>\n",
       "      <td>Rodos</td>\n",
       "      <td>17884.000</td>\n",
       "      <td>fires_2023_july</td>\n",
       "      <td>/home/sg/Projects/fires2023/fires_2023_july.shp</td>\n",
       "      <td>GR4210029</td>\n",
       "      <td>ANATOLIKI RODOS: PROFITIS ILIAS - EPTA PIGES -...</td>\n",
       "      <td>2021-12-14</td>\n",
       "      <td>GR</td>\n",
       "      <td>A</td>\n",
       "      <td>NaN</td>\n",
       "      <td>MULTIPOLYGON (((5941228.010 1648205.019, 59412...</td>\n",
       "      <td>2.201062e+06</td>\n",
       "    </tr>\n",
       "    <tr>\n",
       "      <th>18</th>\n",
       "      <td>NaN</td>\n",
       "      <td>Rodos</td>\n",
       "      <td>17884.000</td>\n",
       "      <td>fires_2023_july</td>\n",
       "      <td>/home/sg/Projects/fires2023/fires_2023_july.shp</td>\n",
       "      <td>GR4210005</td>\n",
       "      <td>RODOS: AKRAMYTIS, ARMENISTIS, ATTAVYROS, REMAT...</td>\n",
       "      <td>2021-12-14</td>\n",
       "      <td>GR</td>\n",
       "      <td>B</td>\n",
       "      <td>NaN</td>\n",
       "      <td>MULTIPOLYGON (((5940230.093 1635571.697, 59402...</td>\n",
       "      <td>2.265564e+06</td>\n",
       "    </tr>\n",
       "    <tr>\n",
       "      <th>19</th>\n",
       "      <td>NaN</td>\n",
       "      <td>aigio</td>\n",
       "      <td>1667.250</td>\n",
       "      <td>fires_2023_july</td>\n",
       "      <td>/home/sg/Projects/fires2023/fires_2023_july.shp</td>\n",
       "      <td>GR2320003</td>\n",
       "      <td>FARANGI VOURAIKOU</td>\n",
       "      <td>2021-12-14</td>\n",
       "      <td>GR</td>\n",
       "      <td>B</td>\n",
       "      <td>NaN</td>\n",
       "      <td>MULTIPOLYGON (((5391538.405 1763114.370, 53915...</td>\n",
       "      <td>4.371093e+06</td>\n",
       "    </tr>\n",
       "    <tr>\n",
       "      <th>20</th>\n",
       "      <td>NaN</td>\n",
       "      <td>aigio</td>\n",
       "      <td>1667.250</td>\n",
       "      <td>fires_2023_july</td>\n",
       "      <td>/home/sg/Projects/fires2023/fires_2023_july.shp</td>\n",
       "      <td>GR2320013</td>\n",
       "      <td>OROS CHELMOS (AROANIA) - FARANGI VOURAIKOU KAI...</td>\n",
       "      <td>2021-12-14</td>\n",
       "      <td>GR</td>\n",
       "      <td>A</td>\n",
       "      <td>NaN</td>\n",
       "      <td>MULTIPOLYGON (((5391538.405 1763114.370, 53915...</td>\n",
       "      <td>7.915658e+06</td>\n",
       "    </tr>\n",
       "    <tr>\n",
       "      <th>21</th>\n",
       "      <td>217136.0</td>\n",
       "      <td>Naxos</td>\n",
       "      <td>286.080</td>\n",
       "      <td>fires_2023_july</td>\n",
       "      <td>/home/sg/Projects/fires2023/fires_2023_july.shp</td>\n",
       "      <td>GR4220014</td>\n",
       "      <td>KENTRIKI KAI NOTIA NAXOS: ZAS KAI VIGLA EOS MA...</td>\n",
       "      <td>2021-12-14</td>\n",
       "      <td>GR</td>\n",
       "      <td>B</td>\n",
       "      <td>NaN</td>\n",
       "      <td>POLYGON ((5701301.784 1697265.726, 5701305.864...</td>\n",
       "      <td>9.128588e+01</td>\n",
       "    </tr>\n",
       "  </tbody>\n",
       "</table>\n",
       "</div>"
      ],
      "text/plain": [
       "          id      city       area              layer  \\\n",
       "0        NaN       NaN   6433.520  fires_2023_august   \n",
       "1        NaN       NaN   2300.850  fires_2023_august   \n",
       "2        NaN       NaN   1950.640  fires_2023_august   \n",
       "3        NaN       NaN  68470.800  fires_2023_august   \n",
       "4        NaN       NaN  68470.800  fires_2023_august   \n",
       "5        NaN       NaN  68470.800  fires_2023_august   \n",
       "6        NaN       NaN  68470.800  fires_2023_august   \n",
       "7        NaN       NaN  68470.800  fires_2023_august   \n",
       "8        NaN       NaN  68470.800  fires_2023_august   \n",
       "9        NaN       NaN  68470.800  fires_2023_august   \n",
       "10  218954.0       NaN    699.453  fires_2023_august   \n",
       "11  218952.0       NaN    419.170  fires_2023_august   \n",
       "12  218953.0       NaN    360.790  fires_2023_august   \n",
       "13  218998.0       NaN    159.072  fires_2023_august   \n",
       "14  218998.0       NaN    159.072  fires_2023_august   \n",
       "15  217347.0  Karistos   2132.610    fires_2023_july   \n",
       "16  217347.0  Karistos   2132.610    fires_2023_july   \n",
       "17       NaN     Rodos  17884.000    fires_2023_july   \n",
       "18       NaN     Rodos  17884.000    fires_2023_july   \n",
       "19       NaN     aigio   1667.250    fires_2023_july   \n",
       "20       NaN     aigio   1667.250    fires_2023_july   \n",
       "21  217136.0     Naxos    286.080    fires_2023_july   \n",
       "\n",
       "                                                 path   SITECODE  \\\n",
       "0   /home/sg/Projects/fires2023/fires_2023_august.shp  GR3000001   \n",
       "1   /home/sg/Projects/fires2023/fires_2023_august.shp  GR2530007   \n",
       "2   /home/sg/Projects/fires2023/fires_2023_august.shp  GR2530007   \n",
       "3   /home/sg/Projects/fires2023/fires_2023_august.shp  GR1110005   \n",
       "4   /home/sg/Projects/fires2023/fires_2023_august.shp  GR1110006   \n",
       "5   /home/sg/Projects/fires2023/fires_2023_august.shp  GR1110002   \n",
       "6   /home/sg/Projects/fires2023/fires_2023_august.shp  GR1110009   \n",
       "7   /home/sg/Projects/fires2023/fires_2023_august.shp  GR1110003   \n",
       "8   /home/sg/Projects/fires2023/fires_2023_august.shp  GR1110007   \n",
       "9   /home/sg/Projects/fires2023/fires_2023_august.shp  GR1110010   \n",
       "10  /home/sg/Projects/fires2023/fires_2023_august.shp  GR2410001   \n",
       "11  /home/sg/Projects/fires2023/fires_2023_august.shp  GR2440002   \n",
       "12  /home/sg/Projects/fires2023/fires_2023_august.shp  GR2310005   \n",
       "13  /home/sg/Projects/fires2023/fires_2023_august.shp  GR2310001   \n",
       "14  /home/sg/Projects/fires2023/fires_2023_august.shp  GR2310015   \n",
       "15    /home/sg/Projects/fires2023/fires_2023_july.shp  GR2420001   \n",
       "16    /home/sg/Projects/fires2023/fires_2023_july.shp  GR2420012   \n",
       "17    /home/sg/Projects/fires2023/fires_2023_july.shp  GR4210029   \n",
       "18    /home/sg/Projects/fires2023/fires_2023_july.shp  GR4210005   \n",
       "19    /home/sg/Projects/fires2023/fires_2023_july.shp  GR2320003   \n",
       "20    /home/sg/Projects/fires2023/fires_2023_july.shp  GR2320013   \n",
       "21    /home/sg/Projects/fires2023/fires_2023_july.shp  GR4220014   \n",
       "\n",
       "                                             SITENAME  RELEASE_DA  MS  \\\n",
       "0                                       OROS PARNITHA  2021-12-14  GR   \n",
       "1                                 KORINTHIAKOS KOLPOS  2021-12-14  GR   \n",
       "2                                 KORINTHIAKOS KOLPOS  2021-12-14  GR   \n",
       "3   VOUNA EVROU- POTAMOS LYRAS- SPILAIA DIDYMOTEIC...  2021-12-14  GR   \n",
       "4                                         DELTA EVROU  2021-12-14  GR   \n",
       "5                               DASOS DADIAS - SOUFLI  2021-12-14  GR   \n",
       "6                        NOTIO DASIKO SYMPLEGMA EVROU  2021-12-14  GR   \n",
       "7                                        TREIS VRYSES  2021-12-14  GR   \n",
       "8                  DELTA EVROU KAI DYTIKOS VRACHIONAS  2021-12-14  GR   \n",
       "9                     OREINOS EVROS - KOILADA DEREIOU  2021-12-14  GR   \n",
       "10  LIMNES YLIKI KAI PARALIMNI – SYSTIMA VOIOTIKOU...  2021-12-14  GR   \n",
       "11  KOILADA KAI EKVOLES SPERCHEIOU – MALIAKOS KOLP...  2021-12-14  GR   \n",
       "12                                      OROS VARASOVA  2021-12-14  GR   \n",
       "13  DELTA ACHELOOU, LIMNOTHALASSA MESOLONGIOU - AI...  2021-12-14  GR   \n",
       "14  DELTA ACHELOOU, LIMNOTHALASSA MESOLONGIOU - AI...  2021-12-14  GR   \n",
       "15  OROS OCHI – KAMPOS KARYSTOU – POTAMI – AKROTIR...  2021-12-14  GR   \n",
       "16               OROS OCHI, PARAKTIA ZONI KAI NISIDES  2021-12-14  GR   \n",
       "17  ANATOLIKI RODOS: PROFITIS ILIAS - EPTA PIGES -...  2021-12-14  GR   \n",
       "18  RODOS: AKRAMYTIS, ARMENISTIS, ATTAVYROS, REMAT...  2021-12-14  GR   \n",
       "19                                  FARANGI VOURAIKOU  2021-12-14  GR   \n",
       "20  OROS CHELMOS (AROANIA) - FARANGI VOURAIKOU KAI...  2021-12-14  GR   \n",
       "21  KENTRIKI KAI NOTIA NAXOS: ZAS KAI VIGLA EOS MA...  2021-12-14  GR   \n",
       "\n",
       "   SITETYPE  INSPIRE_ID                                           geometry  \\\n",
       "0         C         NaN  MULTIPOLYGON (((5526471.833 1781979.640, 55264...   \n",
       "1         B         NaN  MULTIPOLYGON (((5432171.332 1786551.253, 54321...   \n",
       "2         B         NaN  MULTIPOLYGON (((5452439.658 1776875.342, 54524...   \n",
       "3         B         NaN  MULTIPOLYGON (((5665601.382 2143513.363, 56656...   \n",
       "4         A         NaN  MULTIPOLYGON (((5670477.727 2113787.064, 56704...   \n",
       "5         A         NaN  MULTIPOLYGON (((5665601.382 2143513.363, 56656...   \n",
       "6         A         NaN  MULTIPOLYGON (((5647098.805 2128927.380, 56471...   \n",
       "7         B         NaN  POLYGON ((5660461.753 2142916.532, 5660500.749...   \n",
       "8         B         NaN  MULTIPOLYGON (((5670477.727 2113787.064, 56704...   \n",
       "9         A         NaN  POLYGON ((5660461.753 2142916.532, 5660500.749...   \n",
       "10        B         NaN  POLYGON ((5479905.227 1800590.256, 5480105.155...   \n",
       "11        B         NaN  POLYGON ((5371717.820 1843971.013, 5371700.880...   \n",
       "12        B         NaN  POLYGON ((5337601.319 1773358.827, 5337450.059...   \n",
       "13        B         NaN  POLYGON ((5331802.445 1771969.293, 5332048.316...   \n",
       "14        A         NaN  POLYGON ((5331802.445 1771969.293, 5332048.316...   \n",
       "15        B         NaN  MULTIPOLYGON (((5600759.320 1780680.757, 56007...   \n",
       "16        A         NaN  POLYGON ((5599522.593 1784484.567, 5599483.878...   \n",
       "17        A         NaN  MULTIPOLYGON (((5941228.010 1648205.019, 59412...   \n",
       "18        B         NaN  MULTIPOLYGON (((5940230.093 1635571.697, 59402...   \n",
       "19        B         NaN  MULTIPOLYGON (((5391538.405 1763114.370, 53915...   \n",
       "20        A         NaN  MULTIPOLYGON (((5391538.405 1763114.370, 53915...   \n",
       "21        B         NaN  POLYGON ((5701301.784 1697265.726, 5701305.864...   \n",
       "\n",
       "     burned_area  \n",
       "0   3.025821e+07  \n",
       "1   2.711458e+02  \n",
       "2   3.944589e+04  \n",
       "3   1.347377e+08  \n",
       "4   3.251805e+06  \n",
       "5   1.347377e+08  \n",
       "6   2.318436e+08  \n",
       "7   1.352950e+07  \n",
       "8   3.251805e+06  \n",
       "9   1.352950e+07  \n",
       "10  2.430197e+04  \n",
       "11  7.406652e+05  \n",
       "12  2.409419e+06  \n",
       "13  4.337830e+05  \n",
       "14  4.337830e+05  \n",
       "15  3.174365e+06  \n",
       "16  2.132589e+07  \n",
       "17  2.201062e+06  \n",
       "18  2.265564e+06  \n",
       "19  4.371093e+06  \n",
       "20  7.915658e+06  \n",
       "21  9.128588e+01  "
      ]
     },
     "execution_count": 14,
     "metadata": {},
     "output_type": "execute_result"
    }
   ],
   "source": [
    "intersection_gdf"
   ]
  },
  {
   "cell_type": "code",
   "execution_count": 138,
   "id": "57354c38",
   "metadata": {
    "collapsed": true
   },
   "outputs": [
    {
     "data": {
      "text/plain": [
       "<AxesSubplot: >"
      ]
     },
     "execution_count": 138,
     "metadata": {},
     "output_type": "execute_result"
    },
    {
     "data": {
      "image/png": "[encoded data removed]",
      "text/plain": [
       "<Figure size 432x288 with 1 Axes>"
      ]
     },
     "metadata": {
      "needs_background": "light"
     },
     "output_type": "display_data"
    }
   ],
   "source": [
    "shapefile.plot()"
   ]
  },
  {
   "cell_type": "code",
   "execution_count": 52,
   "id": "e1234652",
   "metadata": {},
   "outputs": [],
   "source": [
    "# Load shapefiles\n",
    "natura_file = \"/home/sg/Downloads/eea_v_3035_100_k_natura2000_p_2021_v12_r00/SHP/Natura2000_end2021_epsg3035.shp\"\n",
    "burned_file = \"/home/sg/Projects/fires2023/fires_2023_july_august.shp\"\n",
    "#burned_gdf = shapefile\n",
    "\n",
    "\n",
    "natura_gdf = gpd.read_file(natura_file)\n",
    "burned_gdf = gpd.read_file(burned_file)\n"
   ]
  },
  {
   "cell_type": "code",
   "execution_count": 53,
   "id": "f6c8ae2e",
   "metadata": {},
   "outputs": [],
   "source": [
    "#burned_gdf = evros\n",
    "burned_gdf = burned_gdf.to_crs(epsg=3035)"
   ]
  },
  {
   "cell_type": "code",
   "execution_count": 54,
   "id": "51a10266",
   "metadata": {},
   "outputs": [],
   "source": [
    "# Perform spatial intersection\n",
    "intersection_gdf = gpd.overlay(burned_gdf, natura_gdf, how=\"intersection\")\n",
    "\n",
    "# Calculate burned area\n",
    "intersection_gdf['area'] = intersection_gdf.geometry.area\n",
    "\n",
    "# Calculate total area of burned polygons\n",
    "total_burned_area = burned_gdf.geometry.area.sum()"
   ]
  },
  {
   "cell_type": "code",
   "execution_count": 55,
   "id": "240c92a8",
   "metadata": {},
   "outputs": [
    {
     "name": "stdout",
     "output_type": "stream",
     "text": [
      "Percentage of burned area in Natura areas: 50.40%\n",
      "Natura areas affected by the burn:\n",
      "KORINTHIAKOS KOLPOS\n",
      "KORINTHIAKOS KOLPOS\n",
      "LIMNES YLIKI KAI PARALIMNI – SYSTIMA VOIOTIKOU KIFISOU -KATAVOTHRA ALIARTOU\n",
      "KOILADA KAI EKVOLES SPERCHEIOU – MALIAKOS KOLPOS – MESOCHORI SPERCHEIOU\n",
      "OROS VARASOVA\n",
      "DELTA ACHELOOU, LIMNOTHALASSA MESOLONGIOU - AITOLIKOU, EKVOLES EVINOU, NISOI ECHINADES, NISOS PETALAS\n",
      "DELTA ACHELOOU, LIMNOTHALASSA MESOLONGIOU - AITOLIKOU KAI EKVOLES EVINOU, NISOI ECHINADES, NISOS PETALAS, DYTIKOS ARAKYNTHOS KAI STENA KLEISOURAS\n",
      "OROS OCHI – KAMPOS KARYSTOU – POTAMI – AKROTIRIO KAFIREFS – PARAKTIA THALASSIA ZONI\n",
      "OROS OCHI, PARAKTIA ZONI KAI NISIDES\n",
      "ANATOLIKI RODOS: PROFITIS ILIAS - EPTA PIGES - EKVOLI LOUTANI - KATERGO, REMA GADOURA - CHERSONISOS LINDOU - NISIDES PENTANISA KAI TETRAPOLIS, LOFOS PSALIDI\n",
      "RODOS: AKRAMYTIS, ARMENISTIS, ATTAVYROS, REMATA KAI THALASSIA ZONI (KARAVOLA-ORMOS GLYFADA)\n",
      "FARANGI VOURAIKOU\n",
      "OROS CHELMOS (AROANIA) - FARANGI VOURAIKOU KAI PERIOCHI KALAVRYTON\n",
      "KENTRIKI KAI NOTIA NAXOS: ZAS KAI VIGLA EOS MAVROVOUNI KAI THALASSIA ZONI (ORMOS KARADES - ORMOS MOUTSOUNAS)\n",
      "OROS PARNITHA\n",
      "VOUNA EVROU- POTAMOS LYRAS- SPILAIA DIDYMOTEICHOU KAI KEFALOVOUNOU\n",
      "DELTA EVROU\n",
      "DASOS DADIAS - SOUFLI\n",
      "NOTIO DASIKO SYMPLEGMA EVROU\n",
      "TREIS VRYSES\n",
      "DELTA EVROU KAI DYTIKOS VRACHIONAS\n",
      "OREINOS EVROS - KOILADA DEREIOU\n"
     ]
    }
   ],
   "source": [
    "# Calculate total area of burned polygons within Natura 2000 polygons\n",
    "total_burned_area_in_natura = intersection_gdf['area'].sum()\n",
    "\n",
    "# Calculate percentage\n",
    "percentage_burned_in_natura = (total_burned_area_in_natura / total_burned_area) * 100\n",
    "print(f\"Percentage of burned area in Natura areas: {percentage_burned_in_natura:.2f}%\")\n",
    "\n",
    "\n",
    "# Get names of Natura areas affected\n",
    "affected_natura_names = list(intersection_gdf['SITENAME'])\n",
    "\n",
    "print(\"Natura areas affected by the burn:\")\n",
    "for name in affected_natura_names:\n",
    "    print(name)"
   ]
  },
  {
   "cell_type": "code",
   "execution_count": 56,
   "id": "61d26128",
   "metadata": {},
   "outputs": [
    {
     "data": {
      "text/plain": [
       "50.40004257609314"
      ]
     },
     "execution_count": 56,
     "metadata": {},
     "output_type": "execute_result"
    }
   ],
   "source": [
    "percentage_burned_in_natura"
   ]
  },
  {
   "cell_type": "code",
   "execution_count": 144,
   "id": "a7efcdbc",
   "metadata": {},
   "outputs": [],
   "source": [
    "intersection_gdf['area'] = intersection_gdf.geometry.area/10000"
   ]
  },
  {
   "cell_type": "code",
   "execution_count": 145,
   "id": "b879d663",
   "metadata": {},
   "outputs": [],
   "source": [
    "dissolved = intersection_gdf.dissolve()"
   ]
  },
  {
   "cell_type": "code",
   "execution_count": 146,
   "id": "76d2a8e1",
   "metadata": {},
   "outputs": [],
   "source": [
    "dissolved['area'] = dissolved.geometry.area/10000"
   ]
  },
  {
   "cell_type": "code",
   "execution_count": 147,
   "id": "f8627089",
   "metadata": {
    "collapsed": true
   },
   "outputs": [
    {
     "data": {
      "text/html": [
       "<div>\n",
       "<style scoped>\n",
       "    .dataframe tbody tr th:only-of-type {\n",
       "        vertical-align: middle;\n",
       "    }\n",
       "\n",
       "    .dataframe tbody tr th {\n",
       "        vertical-align: top;\n",
       "    }\n",
       "\n",
       "    .dataframe thead th {\n",
       "        text-align: right;\n",
       "    }\n",
       "</style>\n",
       "<table border=\"1\" class=\"dataframe\">\n",
       "  <thead>\n",
       "    <tr style=\"text-align: right;\">\n",
       "      <th></th>\n",
       "      <th>geometry</th>\n",
       "      <th>id</th>\n",
       "      <th>city</th>\n",
       "      <th>area</th>\n",
       "      <th>layer</th>\n",
       "      <th>path</th>\n",
       "      <th>SITECODE</th>\n",
       "      <th>SITENAME</th>\n",
       "      <th>RELEASE_DA</th>\n",
       "      <th>MS</th>\n",
       "      <th>SITETYPE</th>\n",
       "      <th>INSPIRE_ID</th>\n",
       "    </tr>\n",
       "  </thead>\n",
       "  <tbody>\n",
       "    <tr>\n",
       "      <th>0</th>\n",
       "      <td>MULTIPOLYGON (((5936157.164 1636804.040, 59361...</td>\n",
       "      <td>NaN</td>\n",
       "      <td>Rodos</td>\n",
       "      <td>440.229328</td>\n",
       "      <td>fires_2023_july</td>\n",
       "      <td>/home/sg/Projects/fires2023/fires_2023_july.shp</td>\n",
       "      <td>GR4210029</td>\n",
       "      <td>ANATOLIKI RODOS: PROFITIS ILIAS - EPTA PIGES -...</td>\n",
       "      <td>2021-12-14</td>\n",
       "      <td>GR</td>\n",
       "      <td>A</td>\n",
       "      <td>NaN</td>\n",
       "    </tr>\n",
       "  </tbody>\n",
       "</table>\n",
       "</div>"
      ],
      "text/plain": [
       "                                            geometry  id   city        area  \\\n",
       "0  MULTIPOLYGON (((5936157.164 1636804.040, 59361... NaN  Rodos  440.229328   \n",
       "\n",
       "             layer                                             path  \\\n",
       "0  fires_2023_july  /home/sg/Projects/fires2023/fires_2023_july.shp   \n",
       "\n",
       "    SITECODE                                           SITENAME  RELEASE_DA  \\\n",
       "0  GR4210029  ANATOLIKI RODOS: PROFITIS ILIAS - EPTA PIGES -...  2021-12-14   \n",
       "\n",
       "   MS SITETYPE  INSPIRE_ID  \n",
       "0  GR        A         NaN  "
      ]
     },
     "execution_count": 147,
     "metadata": {},
     "output_type": "execute_result"
    }
   ],
   "source": [
    "dissolved"
   ]
  },
  {
   "cell_type": "markdown",
   "id": "06d82280",
   "metadata": {},
   "source": [
    "# BSM"
   ]
  },
  {
   "cell_type": "code",
   "execution_count": 102,
   "id": "bda06493",
   "metadata": {},
   "outputs": [],
   "source": [
    "# Load shapefiles\n",
    "bsm_file = \"/home/sg/Desktop/bsm_1984_2022.shp\"\n",
    "burned_file = \"/home/sg/Projects/fires2023/fires_2023_july_august.shp\"\n",
    "\n",
    "\n",
    "bsm_gdf = gpd.read_file(bsm_file)\n",
    "burned_gdf = gpd.read_file(burned_file)\n"
   ]
  },
  {
   "cell_type": "code",
   "execution_count": 103,
   "id": "82f9edf7",
   "metadata": {},
   "outputs": [],
   "source": [
    "bsm_gdf = bsm_gdf[bsm_gdf.year>=2007]\n",
    "bsm_gdf = bsm_gdf.to_crs(epsg=2100)"
   ]
  },
  {
   "cell_type": "code",
   "execution_count": 104,
   "id": "9664ef03",
   "metadata": {},
   "outputs": [
    {
     "data": {
      "text/plain": [
       "2022"
      ]
     },
     "execution_count": 104,
     "metadata": {},
     "output_type": "execute_result"
    }
   ],
   "source": [
    "natura_gdf.year.max()"
   ]
  },
  {
   "cell_type": "code",
   "execution_count": 105,
   "id": "80186812",
   "metadata": {},
   "outputs": [],
   "source": [
    "burned_gdf = evros"
   ]
  },
  {
   "cell_type": "code",
   "execution_count": 106,
   "id": "9563a594",
   "metadata": {},
   "outputs": [],
   "source": [
    "\n",
    "# Perform spatial intersection\n",
    "intersection_gdf = gpd.overlay(burned_gdf, bsm_gdf, how=\"intersection\")\n",
    "\n",
    "# Calculate burned area\n",
    "intersection_gdf['area'] = intersection_gdf.geometry.area\n",
    "\n",
    "# Calculate total area of burned polygons\n",
    "total_burned_area = burned_gdf.geometry.area.sum()"
   ]
  },
  {
   "cell_type": "code",
   "execution_count": 107,
   "id": "0a649f0c",
   "metadata": {},
   "outputs": [
    {
     "name": "stdout",
     "output_type": "stream",
     "text": [
      "Percentage of burned area that was burned before: 8.50%\n"
     ]
    }
   ],
   "source": [
    "# Calculate total area of burned polygons within Natura 2000 polygons\n",
    "total_burned_area_in_bsm = intersection_gdf['area'].sum()\n",
    "\n",
    "# Calculate percentage\n",
    "percentage_burned_in_bsm = (total_burned_area_in_bsm / total_burned_area) * 100\n",
    "\n",
    "print(f\"Percentage of burned area that was burned before: {percentage_burned_in_bsm:.2f}%\")"
   ]
  },
  {
   "cell_type": "code",
   "execution_count": null,
   "id": "6700fd88",
   "metadata": {},
   "outputs": [],
   "source": []
  }
 ],
 "metadata": {
  "kernelspec": {
   "display_name": "fire_ffp",
   "language": "python",
   "name": "fire_ffp"
  },
  "language_info": {
   "codemirror_mode": {
    "name": "ipython",
    "version": 3
   },
   "file_extension": ".py",
   "mimetype": "text/x-python",
   "name": "python",
   "nbconvert_exporter": "python",
   "pygments_lexer": "ipython3",
   "version": "3.9.16"
  }
 },
 "nbformat": 4,
 "nbformat_minor": 5
}
