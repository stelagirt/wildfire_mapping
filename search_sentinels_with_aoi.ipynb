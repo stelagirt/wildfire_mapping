{
 "cells": [
  {
   "cell_type": "code",
   "execution_count": 32,
   "id": "37f20c32",
   "metadata": {},
   "outputs": [],
   "source": [
    "from sentinelhub import SentinelHubCatalog, BBox, Geometry, SHConfig, CRS, DataCollection\n",
    "import geopandas as gpd\n",
    "import os\n",
    "import glob\n",
    "import pandas as pd"
   ]
  },
  {
   "cell_type": "code",
   "execution_count": 100,
   "id": "2846a773",
   "metadata": {},
   "outputs": [],
   "source": [
    "def search_products(bbox, time_user):\n",
    "    # Credentials\n",
    "    config = SHConfig()\n",
    "    config.sh_client_id = 'sh-dce21bb4-8cfb-48df-8f32-8c655d0a83f1'\n",
    "    config.sh_client_secret = '6ZiLKeRpeyTNfrovxYLVgnMN7qj0HUv1'\n",
    "    config.sh_base_url = 'https://sh.dataspace.copernicus.eu'\n",
    "    config.sh_token_url = 'https://identity.dataspace.copernicus.eu/auth/realms/CDSE/protocol/openid-connect/token'\n",
    "\n",
    "    catalog = catalog = SentinelHubCatalog(config=config)\n",
    "\n",
    "    #bbox = BBox(bbox=[12.44693, 41.870072, 12.541001, 41.917096], crs=CRS.WGS84)\n",
    "\n",
    "    search_iterator = catalog.search(\n",
    "      DataCollection.SENTINEL2_L2A,  \n",
    "      bbox=bbox,\n",
    "      #time=('2023-04-11', '2023-05-11'),\n",
    "      time = time_user,\n",
    "    )\n",
    "\n",
    "    results = list(search_iterator)\n",
    "    return results"
   ]
  },
  {
   "cell_type": "code",
   "execution_count": 101,
   "id": "bdc66a90",
   "metadata": {},
   "outputs": [],
   "source": [
    "def extract_bbox_from_shp(shapefile):\n",
    "    gdf = gpd.read_file(shapefile)\n",
    "    minx = gdf.geometry.bounds.minx\n",
    "    miny = gdf.geometry.bounds.miny\n",
    "    maxx = gdf.geometry.bounds.maxx\n",
    "    maxy = gdf.geometry.bounds.maxy\n",
    "    bbox = BBox(bbox = [minx, miny, maxx, maxy], crs=CRS.WGS84)\n",
    "    return bbox"
   ]
  },
  {
   "cell_type": "code",
   "execution_count": 102,
   "id": "8cfb379b",
   "metadata": {},
   "outputs": [],
   "source": [
    "def find_shp_files(directory):\n",
    "    # Create a list to store the paths\n",
    "    shp_files = []\n",
    "    # Use os.walk to traverse the directory\n",
    "    for root, dirs, files in os.walk(directory):\n",
    "        # Use glob to find all .shp files in the current directory\n",
    "        shp_files.extend(glob.glob(os.path.join(root, '*.shp')))\n",
    "    return shp_files"
   ]
  },
  {
   "cell_type": "code",
   "execution_count": 96,
   "id": "8418542e",
   "metadata": {},
   "outputs": [],
   "source": [
    "shp_files = find_shp_files('/home/sg/Projects/EMS/ems_zambia/2_AWARE_Shapefiles/CPM_shp_files')"
   ]
  },
  {
   "cell_type": "code",
   "execution_count": 97,
   "id": "8bddd36b",
   "metadata": {},
   "outputs": [],
   "source": [
    "time_user = ('2023-10-01', '2024-06-13')"
   ]
  },
  {
   "cell_type": "code",
   "execution_count": 105,
   "id": "52af7090",
   "metadata": {},
   "outputs": [],
   "source": [
    "# Define the start and end dates\n",
    "start_date = '2023-10-01'\n",
    "end_date = '2024-06-13'\n",
    "\n",
    "# Generate a date range with a frequency of 2 days\n",
    "date_range = pd.date_range(start=start_date, end=end_date, freq='D')\n",
    "\n",
    "# Loop through the date range and create pairs of dates\n",
    "date_pairs = [(date_range[i], date_range[i + 1]) for i in range(0, len(date_range) - 1, 2)]"
   ]
  },
  {
   "cell_type": "code",
   "execution_count": 109,
   "id": "8cfb826b",
   "metadata": {},
   "outputs": [
    {
     "data": {
      "text/plain": [
       "('2023-10-01', '2023-10-02')"
      ]
     },
     "execution_count": 109,
     "metadata": {},
     "output_type": "execute_result"
    }
   ],
   "source": [
    "date_pairs[0][0].strftime('%Y-%m-%d'),date_pairs[0][1].strftime('%Y-%m-%d')"
   ]
  },
  {
   "cell_type": "code",
   "execution_count": 128,
   "id": "97e00c6e",
   "metadata": {},
   "outputs": [],
   "source": [
    "products_final = pd.DataFrame()\n",
    "for i, shapefile in enumerate(shp_files):\n",
    "    for date in date_pairs:\n",
    "        time_user = date[0].strftime('%Y-%m-%d'),date[1].strftime('%Y-%m-%d')\n",
    "        bbox = extract_bbox_from_shp(shapefile)\n",
    "        results = search_products(bbox, time_user)\n",
    "        if results == []:\n",
    "            continue\n",
    "        products = pd.DataFrame(results)\n",
    "        products['cloud'] = products['properties'].apply(lambda x: x['eo:cloud_cover'])\n",
    "        products['aoi'] = shapefile.split('/')[-1]\n",
    "        products = products[['id', 'properties', 'cloud', 'aoi']]\n",
    "        if i == 0:\n",
    "            products_final = products\n",
    "        else:\n",
    "            products_final = pd.concat([products_final, products])"
   ]
  },
  {
   "cell_type": "code",
   "execution_count": 132,
   "id": "a49c9c33",
   "metadata": {},
   "outputs": [
    {
     "data": {
      "text/html": [
       "<div>\n",
       "<style scoped>\n",
       "    .dataframe tbody tr th:only-of-type {\n",
       "        vertical-align: middle;\n",
       "    }\n",
       "\n",
       "    .dataframe tbody tr th {\n",
       "        vertical-align: top;\n",
       "    }\n",
       "\n",
       "    .dataframe thead th {\n",
       "        text-align: right;\n",
       "    }\n",
       "</style>\n",
       "<table border=\"1\" class=\"dataframe\">\n",
       "  <thead>\n",
       "    <tr style=\"text-align: right;\">\n",
       "      <th></th>\n",
       "      <th>id</th>\n",
       "      <th>properties</th>\n",
       "      <th>cloud</th>\n",
       "      <th>aoi</th>\n",
       "    </tr>\n",
       "  </thead>\n",
       "  <tbody>\n",
       "    <tr>\n",
       "      <th>0</th>\n",
       "      <td>S2A_MSIL2A_20240610T080611_N0510_R078_T35KNB_2...</td>\n",
       "      <td>{'datetime': '2024-06-10T08:34:57.031Z', 'plat...</td>\n",
       "      <td>0.00</td>\n",
       "      <td>Malindi site.shp</td>\n",
       "    </tr>\n",
       "    <tr>\n",
       "      <th>0</th>\n",
       "      <td>S2A_MSIL2A_20231004T080801_N0509_R078_T35LND_2...</td>\n",
       "      <td>{'datetime': '2023-10-04T08:34:23.234Z', 'plat...</td>\n",
       "      <td>2.56</td>\n",
       "      <td>Chikupe site.shp</td>\n",
       "    </tr>\n",
       "    <tr>\n",
       "      <th>0</th>\n",
       "      <td>S2B_MSIL2A_20231009T080809_N0509_R078_T35LND_2...</td>\n",
       "      <td>{'datetime': '2023-10-09T08:34:23.012Z', 'plat...</td>\n",
       "      <td>0.00</td>\n",
       "      <td>Chikupe site.shp</td>\n",
       "    </tr>\n",
       "    <tr>\n",
       "      <th>0</th>\n",
       "      <td>S2A_MSIL2A_20231014T080901_N0509_R078_T35LND_2...</td>\n",
       "      <td>{'datetime': '2023-10-14T08:34:20.1Z', 'platfo...</td>\n",
       "      <td>12.97</td>\n",
       "      <td>Chikupe site.shp</td>\n",
       "    </tr>\n",
       "    <tr>\n",
       "      <th>0</th>\n",
       "      <td>S2B_MSIL2A_20231019T080939_N0509_R078_T35LND_2...</td>\n",
       "      <td>{'datetime': '2023-10-19T08:34:23.943Z', 'plat...</td>\n",
       "      <td>12.93</td>\n",
       "      <td>Chikupe site.shp</td>\n",
       "    </tr>\n",
       "    <tr>\n",
       "      <th>...</th>\n",
       "      <td>...</td>\n",
       "      <td>...</td>\n",
       "      <td>...</td>\n",
       "      <td>...</td>\n",
       "    </tr>\n",
       "    <tr>\n",
       "      <th>0</th>\n",
       "      <td>S2B_MSIL2A_20240602T075609_N0510_R035_T35LNC_2...</td>\n",
       "      <td>{'datetime': '2024-06-02T08:24:42.207Z', 'plat...</td>\n",
       "      <td>15.43</td>\n",
       "      <td>Namagololo site.shp</td>\n",
       "    </tr>\n",
       "    <tr>\n",
       "      <th>0</th>\n",
       "      <td>S2B_MSIL2A_20240605T080609_N0510_R078_T35LNC_2...</td>\n",
       "      <td>{'datetime': '2024-06-05T08:34:38.616Z', 'plat...</td>\n",
       "      <td>0.00</td>\n",
       "      <td>Namagololo site.shp</td>\n",
       "    </tr>\n",
       "    <tr>\n",
       "      <th>0</th>\n",
       "      <td>S2A_MSIL2A_20240607T075611_N0510_R035_T35LNC_2...</td>\n",
       "      <td>{'datetime': '2024-06-07T08:24:46.494Z', 'plat...</td>\n",
       "      <td>0.00</td>\n",
       "      <td>Namagololo site.shp</td>\n",
       "    </tr>\n",
       "    <tr>\n",
       "      <th>0</th>\n",
       "      <td>S2A_MSIL2A_20240610T080611_N0510_R078_T35LNC_2...</td>\n",
       "      <td>{'datetime': '2024-06-10T08:34:42.282Z', 'plat...</td>\n",
       "      <td>0.00</td>\n",
       "      <td>Namagololo site.shp</td>\n",
       "    </tr>\n",
       "    <tr>\n",
       "      <th>0</th>\n",
       "      <td>S2B_MSIL2A_20240612T075609_N0510_R035_T35LNC_2...</td>\n",
       "      <td>{'datetime': '2024-06-12T08:24:44.075Z', 'plat...</td>\n",
       "      <td>32.06</td>\n",
       "      <td>Namagololo site.shp</td>\n",
       "    </tr>\n",
       "  </tbody>\n",
       "</table>\n",
       "<p>1123 rows × 4 columns</p>\n",
       "</div>"
      ],
      "text/plain": [
       "                                                   id  \\\n",
       "0   S2A_MSIL2A_20240610T080611_N0510_R078_T35KNB_2...   \n",
       "0   S2A_MSIL2A_20231004T080801_N0509_R078_T35LND_2...   \n",
       "0   S2B_MSIL2A_20231009T080809_N0509_R078_T35LND_2...   \n",
       "0   S2A_MSIL2A_20231014T080901_N0509_R078_T35LND_2...   \n",
       "0   S2B_MSIL2A_20231019T080939_N0509_R078_T35LND_2...   \n",
       "..                                                ...   \n",
       "0   S2B_MSIL2A_20240602T075609_N0510_R035_T35LNC_2...   \n",
       "0   S2B_MSIL2A_20240605T080609_N0510_R078_T35LNC_2...   \n",
       "0   S2A_MSIL2A_20240607T075611_N0510_R035_T35LNC_2...   \n",
       "0   S2A_MSIL2A_20240610T080611_N0510_R078_T35LNC_2...   \n",
       "0   S2B_MSIL2A_20240612T075609_N0510_R035_T35LNC_2...   \n",
       "\n",
       "                                           properties  cloud  \\\n",
       "0   {'datetime': '2024-06-10T08:34:57.031Z', 'plat...   0.00   \n",
       "0   {'datetime': '2023-10-04T08:34:23.234Z', 'plat...   2.56   \n",
       "0   {'datetime': '2023-10-09T08:34:23.012Z', 'plat...   0.00   \n",
       "0   {'datetime': '2023-10-14T08:34:20.1Z', 'platfo...  12.97   \n",
       "0   {'datetime': '2023-10-19T08:34:23.943Z', 'plat...  12.93   \n",
       "..                                                ...    ...   \n",
       "0   {'datetime': '2024-06-02T08:24:42.207Z', 'plat...  15.43   \n",
       "0   {'datetime': '2024-06-05T08:34:38.616Z', 'plat...   0.00   \n",
       "0   {'datetime': '2024-06-07T08:24:46.494Z', 'plat...   0.00   \n",
       "0   {'datetime': '2024-06-10T08:34:42.282Z', 'plat...   0.00   \n",
       "0   {'datetime': '2024-06-12T08:24:44.075Z', 'plat...  32.06   \n",
       "\n",
       "                    aoi  \n",
       "0      Malindi site.shp  \n",
       "0      Chikupe site.shp  \n",
       "0      Chikupe site.shp  \n",
       "0      Chikupe site.shp  \n",
       "0      Chikupe site.shp  \n",
       "..                  ...  \n",
       "0   Namagololo site.shp  \n",
       "0   Namagololo site.shp  \n",
       "0   Namagololo site.shp  \n",
       "0   Namagololo site.shp  \n",
       "0   Namagololo site.shp  \n",
       "\n",
       "[1123 rows x 4 columns]"
      ]
     },
     "execution_count": 132,
     "metadata": {},
     "output_type": "execute_result"
    }
   ],
   "source": [
    "products_final"
   ]
  },
  {
   "cell_type": "code",
   "execution_count": 135,
   "id": "f74d545b",
   "metadata": {},
   "outputs": [],
   "source": [
    "products_final.to_csv('/home/sg/Projects/EMS/ems_zambia/2_AWARE_Shapefiles/sentinel2_products.csv')"
   ]
  },
  {
   "cell_type": "code",
   "execution_count": 136,
   "id": "6b025595",
   "metadata": {},
   "outputs": [],
   "source": [
    "products_final['property_key'] = products_final['properties'].apply(lambda x: list(x.keys())[0])\n",
    "products_final['property_value'] = products_final['properties'].apply(lambda x: list(x.values())[0])"
   ]
  },
  {
   "cell_type": "code",
   "execution_count": 137,
   "id": "6f9541c2",
   "metadata": {},
   "outputs": [],
   "source": [
    "grouped_df = products_final.groupby(['id','property_key', 'property_value']).agg({'aoi':list, 'cloud':'max'}).reset_index()"
   ]
  },
  {
   "cell_type": "code",
   "execution_count": 139,
   "id": "172932bb",
   "metadata": {},
   "outputs": [],
   "source": [
    "grouped_df.to_csv('/home/sg/Projects/EMS/ems_zambia/2_AWARE_Shapefiles/sentinel2_products_group.csv')"
   ]
  },
  {
   "cell_type": "code",
   "execution_count": 123,
   "id": "0a3c4599",
   "metadata": {},
   "outputs": [
    {
     "data": {
      "text/plain": [
       "[{'stac_version': '1.0.0',\n",
       "  'stac_extensions': ['https://stac-extensions.github.io/eo/v1.0.0/schema.json',\n",
       "   'https://stac-extensions.github.io/projection/v1.0.0/schema.json'],\n",
       "  'id': 'S2B_MSIL2A_20240612T075609_N0510_R035_T35LNC_20240612T111934.SAFE',\n",
       "  'type': 'Feature',\n",
       "  'geometry': {'type': 'MultiPolygon',\n",
       "   'crs': {'type': 'name',\n",
       "    'properties': {'name': 'urn:ogc:def:crs:OGC::CRS84'}},\n",
       "   'coordinates': [[[[27.63505312742995, -15.37570073470031],\n",
       "      [28.0228829399003, -15.37425715443158],\n",
       "      [28.02790199536011, -16.36672815842601],\n",
       "      [27.397532082884734, -16.368861597822935],\n",
       "      [27.63505312742995, -15.37570073470031]]]]},\n",
       "  'bbox': [27.397532082884734,\n",
       "   -16.368861597822935,\n",
       "   28.02790199536011,\n",
       "   -15.37425715443158],\n",
       "  'properties': {'datetime': '2024-06-12T08:24:44.075Z',\n",
       "   'platform': 'sentinel-2b',\n",
       "   'instruments': ['msi'],\n",
       "   'constellation': 'sentinel-2',\n",
       "   'gsd': 10,\n",
       "   'eo:cloud_cover': 32.06,\n",
       "   'proj:epsg': 32735,\n",
       "   'proj:bbox': [499980.0, 8190220.0, 609780.0, 8300020.0],\n",
       "   'proj:geometry': {'type': 'MultiPolygon',\n",
       "    'crs': {'type': 'name',\n",
       "     'properties': {'name': 'urn:ogc:def:crs:EPSG::32735'}},\n",
       "    'coordinates': [[[[568153.4956910653, 8300019.000036194],\n",
       "       [609779.0000000264, 8300019.000036196],\n",
       "       [609779.0000000371, 8190221.000038339],\n",
       "       [542453.963814927, 8190221.000038337],\n",
       "       [568153.4956910653, 8300019.000036194]]]]}},\n",
       "  'assets': {'data': {'href': 's3://EODATA/Sentinel-2/MSI/L2A/2024/06/12/S2B_MSIL2A_20240612T075609_N0510_R035_T35LNC_20240612T111934.SAFE',\n",
       "    'title': 's3',\n",
       "    'type': 'inode/directory'}},\n",
       "  'collection': 'sentinel-2-l2a',\n",
       "  'links': [{'href': 'https://sh.dataspace.copernicus.eu/api/v1/catalog/1.0.0/',\n",
       "    'rel': 'root',\n",
       "    'type': 'application/json'},\n",
       "   {'href': 'https://sh.dataspace.copernicus.eu/api/v1/catalog/1.0.0/collections/sentinel-2-l2a/items/S2B_MSIL2A_20240612T075609_N0510_R035_T35LNC_20240612T111934.SAFE',\n",
       "    'rel': 'self',\n",
       "    'type': 'application/geo+json'},\n",
       "   {'href': 'https://sh.dataspace.copernicus.eu/api/v1/catalog/1.0.0/collections/sentinel-2-l2a',\n",
       "    'rel': 'parent',\n",
       "    'type': 'application/json'},\n",
       "   {'href': 'https://sh.dataspace.copernicus.eu/api/v1/catalog/1.0.0/collections/sentinel-2-l2a',\n",
       "    'rel': 'collection',\n",
       "    'type': 'application/json'}]}]"
      ]
     },
     "execution_count": 123,
     "metadata": {},
     "output_type": "execute_result"
    }
   ],
   "source": [
    "products"
   ]
  },
  {
   "cell_type": "code",
   "execution_count": 82,
   "id": "e3a829bb",
   "metadata": {},
   "outputs": [],
   "source": [
    "start_date = \"2023-10-01\"\n",
    "end_date = \"2023-11-30\"\n",
    "bb = [27.24826251360173,-16.63208191671156,27.27238531279168,-16.60522985746961]\n",
    "data_collection = \"SENTINEL-2\"\n",
    "aoi = f\"POLYGON(({bb[0]} {bb[1]},{bb[2]} {bb[1]},{bb[2]} {bb[3]},{bb[0]} {bb[3]},{bb[0]} {bb[1]}))'\""
   ]
  },
  {
   "cell_type": "code",
   "execution_count": 83,
   "id": "270de948",
   "metadata": {},
   "outputs": [],
   "source": [
    "import requests\n",
    "json = requests.get(f\"https://catalogue.dataspace.copernicus.eu/odata/v1/Products?$filter=Collection/Name eq '{data_collection}' and OData.CSC.Intersects(area=geography'SRID=4326;{aoi}) and ContentDate/Start gt {start_date}T00:00:00.000Z and ContentDate/Start lt {end_date}T00:00:00.000Z\").json()"
   ]
  },
  {
   "cell_type": "code",
   "execution_count": 84,
   "id": "47f6daea",
   "metadata": {},
   "outputs": [],
   "source": [
    "products = pd.DataFrame.from_dict(json['value'])"
   ]
  },
  {
   "cell_type": "code",
   "execution_count": 92,
   "id": "993a7cc7",
   "metadata": {},
   "outputs": [
    {
     "data": {
      "text/html": [
       "<div>\n",
       "<style scoped>\n",
       "    .dataframe tbody tr th:only-of-type {\n",
       "        vertical-align: middle;\n",
       "    }\n",
       "\n",
       "    .dataframe tbody tr th {\n",
       "        vertical-align: top;\n",
       "    }\n",
       "\n",
       "    .dataframe thead th {\n",
       "        text-align: right;\n",
       "    }\n",
       "</style>\n",
       "<table border=\"1\" class=\"dataframe\">\n",
       "  <thead>\n",
       "    <tr style=\"text-align: right;\">\n",
       "      <th></th>\n",
       "      <th>@odata.mediaContentType</th>\n",
       "      <th>Id</th>\n",
       "      <th>Name</th>\n",
       "      <th>ContentType</th>\n",
       "      <th>ContentLength</th>\n",
       "      <th>OriginDate</th>\n",
       "      <th>PublicationDate</th>\n",
       "      <th>ModificationDate</th>\n",
       "      <th>Online</th>\n",
       "      <th>EvictionDate</th>\n",
       "      <th>S3Path</th>\n",
       "      <th>Checksum</th>\n",
       "      <th>ContentDate</th>\n",
       "      <th>Footprint</th>\n",
       "      <th>GeoFootprint</th>\n",
       "    </tr>\n",
       "  </thead>\n",
       "  <tbody>\n",
       "    <tr>\n",
       "      <th>0</th>\n",
       "      <td>application/octet-stream</td>\n",
       "      <td>00497c57-9456-4904-908c-2d919a345d3f</td>\n",
       "      <td>S2A_MSIL1C_20231004T080801_N0509_R078_T35KNB_2...</td>\n",
       "      <td>application/octet-stream</td>\n",
       "      <td>555767069</td>\n",
       "      <td>2023-10-04T13:34:10.957Z</td>\n",
       "      <td>2023-10-04T13:41:34.394Z</td>\n",
       "      <td>2023-10-04T13:41:44.133Z</td>\n",
       "      <td>True</td>\n",
       "      <td></td>\n",
       "      <td>/eodata/Sentinel-2/MSI/L1C/2023/10/04/S2A_MSIL...</td>\n",
       "      <td>[{'Value': '4cfd51e399865ad700ddefdc720493d6',...</td>\n",
       "      <td>{'Start': '2023-10-04T08:08:01.024Z', 'End': '...</td>\n",
       "      <td>geography'SRID=4326;POLYGON ((27.7284199145779...</td>\n",
       "      <td>{'type': 'Polygon', 'coordinates': [[[27.72841...</td>\n",
       "    </tr>\n",
       "  </tbody>\n",
       "</table>\n",
       "</div>"
      ],
      "text/plain": [
       "    @odata.mediaContentType                                    Id  \\\n",
       "0  application/octet-stream  00497c57-9456-4904-908c-2d919a345d3f   \n",
       "\n",
       "                                                Name  \\\n",
       "0  S2A_MSIL1C_20231004T080801_N0509_R078_T35KNB_2...   \n",
       "\n",
       "                ContentType  ContentLength                OriginDate  \\\n",
       "0  application/octet-stream      555767069  2023-10-04T13:34:10.957Z   \n",
       "\n",
       "            PublicationDate          ModificationDate  Online EvictionDate  \\\n",
       "0  2023-10-04T13:41:34.394Z  2023-10-04T13:41:44.133Z    True                \n",
       "\n",
       "                                              S3Path  \\\n",
       "0  /eodata/Sentinel-2/MSI/L1C/2023/10/04/S2A_MSIL...   \n",
       "\n",
       "                                            Checksum  \\\n",
       "0  [{'Value': '4cfd51e399865ad700ddefdc720493d6',...   \n",
       "\n",
       "                                         ContentDate  \\\n",
       "0  {'Start': '2023-10-04T08:08:01.024Z', 'End': '...   \n",
       "\n",
       "                                           Footprint  \\\n",
       "0  geography'SRID=4326;POLYGON ((27.7284199145779...   \n",
       "\n",
       "                                        GeoFootprint  \n",
       "0  {'type': 'Polygon', 'coordinates': [[[27.72841...  "
      ]
     },
     "execution_count": 92,
     "metadata": {},
     "output_type": "execute_result"
    }
   ],
   "source": [
    "products[products.OriginDate == '2023-10-04T13:34:10.957Z']"
   ]
  },
  {
   "cell_type": "code",
   "execution_count": null,
   "id": "4a6a5210",
   "metadata": {},
   "outputs": [],
   "source": [
    "19/10\n",
    "24/10\n",
    "29/10\n",
    "03/11\n",
    "08/11\n",
    "-\n",
    "-\n",
    "-\n",
    "28/11\n",
    "-\n",
    "08/12\n",
    "18/12\n",
    "23/12\n",
    "01/04\n",
    "06/04\n",
    "11/04\n",
    "16/04\n",
    "26/04\n",
    "01/05\n",
    "06/05\n",
    "26/05"
   ]
  }
 ],
 "metadata": {
  "kernelspec": {
   "display_name": "fire_ffp",
   "language": "python",
   "name": "fire_ffp"
  },
  "language_info": {
   "codemirror_mode": {
    "name": "ipython",
    "version": 3
   },
   "file_extension": ".py",
   "mimetype": "text/x-python",
   "name": "python",
   "nbconvert_exporter": "python",
   "pygments_lexer": "ipython3",
   "version": "3.9.16"
  }
 },
 "nbformat": 4,
 "nbformat_minor": 5
}
