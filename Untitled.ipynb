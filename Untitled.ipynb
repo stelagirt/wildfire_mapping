{
 "cells": [
  {
   "cell_type": "code",
   "execution_count": 1,
   "id": "94b09bce",
   "metadata": {},
   "outputs": [],
   "source": [
    "import geopandas as gpd\n",
    "from osgeo import gdal"
   ]
  },
  {
   "cell_type": "code",
   "execution_count": 2,
   "id": "1c1b79d1",
   "metadata": {},
   "outputs": [],
   "source": [
    "ba = gpd.read_file('/home/sg/Projects/fires2023/fires_2023_july_august.shp')"
   ]
  },
  {
   "cell_type": "code",
   "execution_count": 4,
   "id": "79c51c48",
   "metadata": {},
   "outputs": [
    {
     "ename": "NameError",
     "evalue": "name 'shapefile' is not defined",
     "output_type": "error",
     "traceback": [
      "\u001b[0;31m---------------------------------------------------------------------------\u001b[0m",
      "\u001b[0;31mNameError\u001b[0m                                 Traceback (most recent call last)",
      "Input \u001b[0;32mIn [4]\u001b[0m, in \u001b[0;36m<cell line: 1>\u001b[0;34m()\u001b[0m\n\u001b[0;32m----> 1\u001b[0m shapefile \u001b[38;5;241m=\u001b[39m \u001b[43mshapefile\u001b[49m\u001b[38;5;241m.\u001b[39mto_crs(epsg\u001b[38;5;241m=\u001b[39m\u001b[38;5;241m2100\u001b[39m)\n",
      "\u001b[0;31mNameError\u001b[0m: name 'shapefile' is not defined"
     ]
    }
   ],
   "source": [
    "shapefile = shapefile.to_crs(epsg=2100)"
   ]
  },
  {
   "cell_type": "code",
   "execution_count": null,
   "id": "3657b585",
   "metadata": {},
   "outputs": [],
   "source": []
  }
 ],
 "metadata": {
  "kernelspec": {
   "display_name": "fire_ffp",
   "language": "python",
   "name": "fire_ffp"
  },
  "language_info": {
   "codemirror_mode": {
    "name": "ipython",
    "version": 3
   },
   "file_extension": ".py",
   "mimetype": "text/x-python",
   "name": "python",
   "nbconvert_exporter": "python",
   "pygments_lexer": "ipython3",
   "version": "3.9.16"
  }
 },
 "nbformat": 4,
 "nbformat_minor": 5
}
